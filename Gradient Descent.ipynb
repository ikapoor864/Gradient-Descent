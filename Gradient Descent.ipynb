{
 "cells": [
  {
   "cell_type": "markdown",
   "metadata": {},
   "source": [
    "## MACHINE LEARNING - LINEAR AND LOGISTIC REGRESSION"
   ]
  },
  {
   "cell_type": "code",
   "execution_count": 5,
   "metadata": {},
   "outputs": [],
   "source": [
    "#importing all libraries\n",
    "import matplotlib.pyplot as plt\n",
    "import pandas as pd\n",
    "import numpy as np\n",
    "from sklearn.preprocessing import StandardScaler\n",
    "from sklearn.model_selection import train_test_split\n",
    "from sklearn.linear_model import LinearRegression\n",
    "from sklearn.datasets import make_classification\n",
    "import seaborn as sns\n",
    "import statistics\n",
    "import math\n",
    "import sklearn.linear_model as sk\n",
    "import sklearn.metrics as metrics\n",
    "import statsmodels.api as sm\n",
    "from scipy import stats\n",
    "from sklearn.metrics import confusion_matrix\n",
    "import matplotlib\n",
    "from sklearn.linear_model import LogisticRegression"
   ]
  },
  {
   "cell_type": "code",
   "execution_count": 6,
   "metadata": {
    "scrolled": true
   },
   "outputs": [
    {
     "data": {
      "text/html": [
       "<div>\n",
       "<style scoped>\n",
       "    .dataframe tbody tr th:only-of-type {\n",
       "        vertical-align: middle;\n",
       "    }\n",
       "\n",
       "    .dataframe tbody tr th {\n",
       "        vertical-align: top;\n",
       "    }\n",
       "\n",
       "    .dataframe thead th {\n",
       "        text-align: right;\n",
       "    }\n",
       "</style>\n",
       "<table border=\"1\" class=\"dataframe\">\n",
       "  <thead>\n",
       "    <tr style=\"text-align: right;\">\n",
       "      <th></th>\n",
       "      <th>MWG</th>\n",
       "      <th>NWG</th>\n",
       "      <th>KWG</th>\n",
       "      <th>MDIMC</th>\n",
       "      <th>NDIMC</th>\n",
       "      <th>MDIMA</th>\n",
       "      <th>NDIMB</th>\n",
       "      <th>KWI</th>\n",
       "      <th>VWM</th>\n",
       "      <th>VWN</th>\n",
       "      <th>STRM</th>\n",
       "      <th>STRN</th>\n",
       "      <th>SA</th>\n",
       "      <th>SB</th>\n",
       "      <th>Run1 (ms)</th>\n",
       "      <th>Run2 (ms)</th>\n",
       "      <th>Run3 (ms)</th>\n",
       "      <th>Run4 (ms)</th>\n",
       "    </tr>\n",
       "  </thead>\n",
       "  <tbody>\n",
       "    <tr>\n",
       "      <td>0</td>\n",
       "      <td>16</td>\n",
       "      <td>16</td>\n",
       "      <td>16</td>\n",
       "      <td>8</td>\n",
       "      <td>8</td>\n",
       "      <td>8</td>\n",
       "      <td>8</td>\n",
       "      <td>2</td>\n",
       "      <td>1</td>\n",
       "      <td>1</td>\n",
       "      <td>0</td>\n",
       "      <td>0</td>\n",
       "      <td>0</td>\n",
       "      <td>0</td>\n",
       "      <td>115.26</td>\n",
       "      <td>115.87</td>\n",
       "      <td>118.55</td>\n",
       "      <td>115.80</td>\n",
       "    </tr>\n",
       "    <tr>\n",
       "      <td>1</td>\n",
       "      <td>16</td>\n",
       "      <td>16</td>\n",
       "      <td>16</td>\n",
       "      <td>8</td>\n",
       "      <td>8</td>\n",
       "      <td>8</td>\n",
       "      <td>8</td>\n",
       "      <td>2</td>\n",
       "      <td>1</td>\n",
       "      <td>1</td>\n",
       "      <td>0</td>\n",
       "      <td>0</td>\n",
       "      <td>0</td>\n",
       "      <td>1</td>\n",
       "      <td>78.13</td>\n",
       "      <td>78.25</td>\n",
       "      <td>79.25</td>\n",
       "      <td>79.19</td>\n",
       "    </tr>\n",
       "    <tr>\n",
       "      <td>2</td>\n",
       "      <td>16</td>\n",
       "      <td>16</td>\n",
       "      <td>16</td>\n",
       "      <td>8</td>\n",
       "      <td>8</td>\n",
       "      <td>8</td>\n",
       "      <td>8</td>\n",
       "      <td>2</td>\n",
       "      <td>1</td>\n",
       "      <td>1</td>\n",
       "      <td>0</td>\n",
       "      <td>0</td>\n",
       "      <td>1</td>\n",
       "      <td>0</td>\n",
       "      <td>79.84</td>\n",
       "      <td>80.69</td>\n",
       "      <td>80.76</td>\n",
       "      <td>80.97</td>\n",
       "    </tr>\n",
       "    <tr>\n",
       "      <td>3</td>\n",
       "      <td>16</td>\n",
       "      <td>16</td>\n",
       "      <td>16</td>\n",
       "      <td>8</td>\n",
       "      <td>8</td>\n",
       "      <td>8</td>\n",
       "      <td>8</td>\n",
       "      <td>2</td>\n",
       "      <td>1</td>\n",
       "      <td>1</td>\n",
       "      <td>0</td>\n",
       "      <td>0</td>\n",
       "      <td>1</td>\n",
       "      <td>1</td>\n",
       "      <td>84.32</td>\n",
       "      <td>89.90</td>\n",
       "      <td>86.75</td>\n",
       "      <td>85.58</td>\n",
       "    </tr>\n",
       "    <tr>\n",
       "      <td>4</td>\n",
       "      <td>16</td>\n",
       "      <td>16</td>\n",
       "      <td>16</td>\n",
       "      <td>8</td>\n",
       "      <td>8</td>\n",
       "      <td>8</td>\n",
       "      <td>8</td>\n",
       "      <td>2</td>\n",
       "      <td>1</td>\n",
       "      <td>1</td>\n",
       "      <td>0</td>\n",
       "      <td>1</td>\n",
       "      <td>0</td>\n",
       "      <td>0</td>\n",
       "      <td>115.13</td>\n",
       "      <td>121.98</td>\n",
       "      <td>122.73</td>\n",
       "      <td>114.81</td>\n",
       "    </tr>\n",
       "    <tr>\n",
       "      <td>5</td>\n",
       "      <td>16</td>\n",
       "      <td>16</td>\n",
       "      <td>16</td>\n",
       "      <td>8</td>\n",
       "      <td>8</td>\n",
       "      <td>8</td>\n",
       "      <td>8</td>\n",
       "      <td>2</td>\n",
       "      <td>1</td>\n",
       "      <td>1</td>\n",
       "      <td>0</td>\n",
       "      <td>1</td>\n",
       "      <td>0</td>\n",
       "      <td>1</td>\n",
       "      <td>81.10</td>\n",
       "      <td>82.41</td>\n",
       "      <td>87.01</td>\n",
       "      <td>82.14</td>\n",
       "    </tr>\n",
       "    <tr>\n",
       "      <td>6</td>\n",
       "      <td>16</td>\n",
       "      <td>16</td>\n",
       "      <td>16</td>\n",
       "      <td>8</td>\n",
       "      <td>8</td>\n",
       "      <td>8</td>\n",
       "      <td>8</td>\n",
       "      <td>2</td>\n",
       "      <td>1</td>\n",
       "      <td>1</td>\n",
       "      <td>0</td>\n",
       "      <td>1</td>\n",
       "      <td>1</td>\n",
       "      <td>0</td>\n",
       "      <td>83.31</td>\n",
       "      <td>82.86</td>\n",
       "      <td>88.60</td>\n",
       "      <td>82.97</td>\n",
       "    </tr>\n",
       "    <tr>\n",
       "      <td>7</td>\n",
       "      <td>16</td>\n",
       "      <td>16</td>\n",
       "      <td>16</td>\n",
       "      <td>8</td>\n",
       "      <td>8</td>\n",
       "      <td>8</td>\n",
       "      <td>8</td>\n",
       "      <td>2</td>\n",
       "      <td>1</td>\n",
       "      <td>1</td>\n",
       "      <td>0</td>\n",
       "      <td>1</td>\n",
       "      <td>1</td>\n",
       "      <td>1</td>\n",
       "      <td>93.13</td>\n",
       "      <td>94.30</td>\n",
       "      <td>96.19</td>\n",
       "      <td>94.43</td>\n",
       "    </tr>\n",
       "    <tr>\n",
       "      <td>8</td>\n",
       "      <td>16</td>\n",
       "      <td>16</td>\n",
       "      <td>16</td>\n",
       "      <td>8</td>\n",
       "      <td>8</td>\n",
       "      <td>8</td>\n",
       "      <td>8</td>\n",
       "      <td>2</td>\n",
       "      <td>1</td>\n",
       "      <td>1</td>\n",
       "      <td>1</td>\n",
       "      <td>0</td>\n",
       "      <td>0</td>\n",
       "      <td>0</td>\n",
       "      <td>117.38</td>\n",
       "      <td>116.95</td>\n",
       "      <td>124.15</td>\n",
       "      <td>117.83</td>\n",
       "    </tr>\n",
       "    <tr>\n",
       "      <td>9</td>\n",
       "      <td>16</td>\n",
       "      <td>16</td>\n",
       "      <td>16</td>\n",
       "      <td>8</td>\n",
       "      <td>8</td>\n",
       "      <td>8</td>\n",
       "      <td>8</td>\n",
       "      <td>2</td>\n",
       "      <td>1</td>\n",
       "      <td>1</td>\n",
       "      <td>1</td>\n",
       "      <td>0</td>\n",
       "      <td>0</td>\n",
       "      <td>1</td>\n",
       "      <td>85.76</td>\n",
       "      <td>85.30</td>\n",
       "      <td>86.96</td>\n",
       "      <td>87.19</td>\n",
       "    </tr>\n",
       "  </tbody>\n",
       "</table>\n",
       "</div>"
      ],
      "text/plain": [
       "   MWG  NWG  KWG  MDIMC  NDIMC  MDIMA  NDIMB  KWI  VWM  VWN  STRM  STRN  SA  \\\n",
       "0   16   16   16      8      8      8      8    2    1    1     0     0   0   \n",
       "1   16   16   16      8      8      8      8    2    1    1     0     0   0   \n",
       "2   16   16   16      8      8      8      8    2    1    1     0     0   1   \n",
       "3   16   16   16      8      8      8      8    2    1    1     0     0   1   \n",
       "4   16   16   16      8      8      8      8    2    1    1     0     1   0   \n",
       "5   16   16   16      8      8      8      8    2    1    1     0     1   0   \n",
       "6   16   16   16      8      8      8      8    2    1    1     0     1   1   \n",
       "7   16   16   16      8      8      8      8    2    1    1     0     1   1   \n",
       "8   16   16   16      8      8      8      8    2    1    1     1     0   0   \n",
       "9   16   16   16      8      8      8      8    2    1    1     1     0   0   \n",
       "\n",
       "   SB  Run1 (ms)  Run2 (ms)  Run3 (ms)  Run4 (ms)  \n",
       "0   0     115.26     115.87     118.55     115.80  \n",
       "1   1      78.13      78.25      79.25      79.19  \n",
       "2   0      79.84      80.69      80.76      80.97  \n",
       "3   1      84.32      89.90      86.75      85.58  \n",
       "4   0     115.13     121.98     122.73     114.81  \n",
       "5   1      81.10      82.41      87.01      82.14  \n",
       "6   0      83.31      82.86      88.60      82.97  \n",
       "7   1      93.13      94.30      96.19      94.43  \n",
       "8   0     117.38     116.95     124.15     117.83  \n",
       "9   1      85.76      85.30      86.96      87.19  "
      ]
     },
     "execution_count": 6,
     "metadata": {},
     "output_type": "execute_result"
    }
   ],
   "source": [
    "#Reading the data\n",
    "runtime = pd.read_csv(\"sgemm_product.csv\")\n",
    "runtime.head(10)"
   ]
  },
  {
   "cell_type": "code",
   "execution_count": 7,
   "metadata": {},
   "outputs": [
    {
     "data": {
      "text/plain": [
       "0"
      ]
     },
     "execution_count": 7,
     "metadata": {},
     "output_type": "execute_result"
    }
   ],
   "source": [
    "#Checking null values:\n",
    "runtime.isnull().sum().sum()"
   ]
  },
  {
   "cell_type": "code",
   "execution_count": 8,
   "metadata": {
    "scrolled": true
   },
   "outputs": [
    {
     "data": {
      "text/html": [
       "<style  type=\"text/css\" >\n",
       "    #T_dfe39f3a_5879_11ea_bbdd_acd5647de6d0row0_col0 {\n",
       "            background-color:  #fde725;\n",
       "            color:  #000000;\n",
       "        }    #T_dfe39f3a_5879_11ea_bbdd_acd5647de6d0row0_col1 {\n",
       "            background-color:  #471063;\n",
       "            color:  #f1f1f1;\n",
       "        }    #T_dfe39f3a_5879_11ea_bbdd_acd5647de6d0row0_col2 {\n",
       "            background-color:  #443983;\n",
       "            color:  #f1f1f1;\n",
       "        }    #T_dfe39f3a_5879_11ea_bbdd_acd5647de6d0row0_col3 {\n",
       "            background-color:  #3a548c;\n",
       "            color:  #f1f1f1;\n",
       "        }    #T_dfe39f3a_5879_11ea_bbdd_acd5647de6d0row0_col4 {\n",
       "            background-color:  #433e85;\n",
       "            color:  #f1f1f1;\n",
       "        }    #T_dfe39f3a_5879_11ea_bbdd_acd5647de6d0row0_col5 {\n",
       "            background-color:  #355f8d;\n",
       "            color:  #f1f1f1;\n",
       "        }    #T_dfe39f3a_5879_11ea_bbdd_acd5647de6d0row0_col6 {\n",
       "            background-color:  #440154;\n",
       "            color:  #f1f1f1;\n",
       "        }    #T_dfe39f3a_5879_11ea_bbdd_acd5647de6d0row0_col7 {\n",
       "            background-color:  #443983;\n",
       "            color:  #f1f1f1;\n",
       "        }    #T_dfe39f3a_5879_11ea_bbdd_acd5647de6d0row0_col8 {\n",
       "            background-color:  #24878e;\n",
       "            color:  #000000;\n",
       "        }    #T_dfe39f3a_5879_11ea_bbdd_acd5647de6d0row0_col9 {\n",
       "            background-color:  #440154;\n",
       "            color:  #f1f1f1;\n",
       "        }    #T_dfe39f3a_5879_11ea_bbdd_acd5647de6d0row0_col10 {\n",
       "            background-color:  #440154;\n",
       "            color:  #f1f1f1;\n",
       "        }    #T_dfe39f3a_5879_11ea_bbdd_acd5647de6d0row0_col11 {\n",
       "            background-color:  #440154;\n",
       "            color:  #f1f1f1;\n",
       "        }    #T_dfe39f3a_5879_11ea_bbdd_acd5647de6d0row0_col12 {\n",
       "            background-color:  #440154;\n",
       "            color:  #f1f1f1;\n",
       "        }    #T_dfe39f3a_5879_11ea_bbdd_acd5647de6d0row1_col0 {\n",
       "            background-color:  #46075a;\n",
       "            color:  #f1f1f1;\n",
       "        }    #T_dfe39f3a_5879_11ea_bbdd_acd5647de6d0row1_col1 {\n",
       "            background-color:  #fde725;\n",
       "            color:  #000000;\n",
       "        }    #T_dfe39f3a_5879_11ea_bbdd_acd5647de6d0row1_col2 {\n",
       "            background-color:  #355e8d;\n",
       "            color:  #f1f1f1;\n",
       "        }    #T_dfe39f3a_5879_11ea_bbdd_acd5647de6d0row1_col3 {\n",
       "            background-color:  #355e8d;\n",
       "            color:  #f1f1f1;\n",
       "        }    #T_dfe39f3a_5879_11ea_bbdd_acd5647de6d0row1_col4 {\n",
       "            background-color:  #46307e;\n",
       "            color:  #f1f1f1;\n",
       "        }    #T_dfe39f3a_5879_11ea_bbdd_acd5647de6d0row1_col5 {\n",
       "            background-color:  #46307e;\n",
       "            color:  #f1f1f1;\n",
       "        }    #T_dfe39f3a_5879_11ea_bbdd_acd5647de6d0row1_col6 {\n",
       "            background-color:  #440154;\n",
       "            color:  #f1f1f1;\n",
       "        }    #T_dfe39f3a_5879_11ea_bbdd_acd5647de6d0row1_col7 {\n",
       "            background-color:  #453781;\n",
       "            color:  #f1f1f1;\n",
       "        }    #T_dfe39f3a_5879_11ea_bbdd_acd5647de6d0row1_col8 {\n",
       "            background-color:  #453781;\n",
       "            color:  #f1f1f1;\n",
       "        }    #T_dfe39f3a_5879_11ea_bbdd_acd5647de6d0row1_col9 {\n",
       "            background-color:  #440154;\n",
       "            color:  #f1f1f1;\n",
       "        }    #T_dfe39f3a_5879_11ea_bbdd_acd5647de6d0row1_col10 {\n",
       "            background-color:  #440154;\n",
       "            color:  #f1f1f1;\n",
       "        }    #T_dfe39f3a_5879_11ea_bbdd_acd5647de6d0row1_col11 {\n",
       "            background-color:  #440154;\n",
       "            color:  #f1f1f1;\n",
       "        }    #T_dfe39f3a_5879_11ea_bbdd_acd5647de6d0row1_col12 {\n",
       "            background-color:  #440154;\n",
       "            color:  #f1f1f1;\n",
       "        }    #T_dfe39f3a_5879_11ea_bbdd_acd5647de6d0row2_col0 {\n",
       "            background-color:  #440154;\n",
       "            color:  #f1f1f1;\n",
       "        }    #T_dfe39f3a_5879_11ea_bbdd_acd5647de6d0row2_col1 {\n",
       "            background-color:  #433d84;\n",
       "            color:  #f1f1f1;\n",
       "        }    #T_dfe39f3a_5879_11ea_bbdd_acd5647de6d0row2_col2 {\n",
       "            background-color:  #fde725;\n",
       "            color:  #000000;\n",
       "        }    #T_dfe39f3a_5879_11ea_bbdd_acd5647de6d0row2_col3 {\n",
       "            background-color:  #440154;\n",
       "            color:  #f1f1f1;\n",
       "        }    #T_dfe39f3a_5879_11ea_bbdd_acd5647de6d0row2_col4 {\n",
       "            background-color:  #31688e;\n",
       "            color:  #f1f1f1;\n",
       "        }    #T_dfe39f3a_5879_11ea_bbdd_acd5647de6d0row2_col5 {\n",
       "            background-color:  #3c4f8a;\n",
       "            color:  #f1f1f1;\n",
       "        }    #T_dfe39f3a_5879_11ea_bbdd_acd5647de6d0row2_col6 {\n",
       "            background-color:  #440154;\n",
       "            color:  #f1f1f1;\n",
       "        }    #T_dfe39f3a_5879_11ea_bbdd_acd5647de6d0row2_col7 {\n",
       "            background-color:  #481668;\n",
       "            color:  #f1f1f1;\n",
       "        }    #T_dfe39f3a_5879_11ea_bbdd_acd5647de6d0row2_col8 {\n",
       "            background-color:  #433d84;\n",
       "            color:  #f1f1f1;\n",
       "        }    #T_dfe39f3a_5879_11ea_bbdd_acd5647de6d0row2_col9 {\n",
       "            background-color:  #440154;\n",
       "            color:  #f1f1f1;\n",
       "        }    #T_dfe39f3a_5879_11ea_bbdd_acd5647de6d0row2_col10 {\n",
       "            background-color:  #440154;\n",
       "            color:  #f1f1f1;\n",
       "        }    #T_dfe39f3a_5879_11ea_bbdd_acd5647de6d0row2_col11 {\n",
       "            background-color:  #440154;\n",
       "            color:  #f1f1f1;\n",
       "        }    #T_dfe39f3a_5879_11ea_bbdd_acd5647de6d0row2_col12 {\n",
       "            background-color:  #440154;\n",
       "            color:  #f1f1f1;\n",
       "        }    #T_dfe39f3a_5879_11ea_bbdd_acd5647de6d0row3_col0 {\n",
       "            background-color:  #482979;\n",
       "            color:  #f1f1f1;\n",
       "        }    #T_dfe39f3a_5879_11ea_bbdd_acd5647de6d0row3_col1 {\n",
       "            background-color:  #433d84;\n",
       "            color:  #f1f1f1;\n",
       "        }    #T_dfe39f3a_5879_11ea_bbdd_acd5647de6d0row3_col2 {\n",
       "            background-color:  #440154;\n",
       "            color:  #f1f1f1;\n",
       "        }    #T_dfe39f3a_5879_11ea_bbdd_acd5647de6d0row3_col3 {\n",
       "            background-color:  #fde725;\n",
       "            color:  #000000;\n",
       "        }    #T_dfe39f3a_5879_11ea_bbdd_acd5647de6d0row3_col4 {\n",
       "            background-color:  #3c4f8a;\n",
       "            color:  #f1f1f1;\n",
       "        }    #T_dfe39f3a_5879_11ea_bbdd_acd5647de6d0row3_col5 {\n",
       "            background-color:  #31688e;\n",
       "            color:  #f1f1f1;\n",
       "        }    #T_dfe39f3a_5879_11ea_bbdd_acd5647de6d0row3_col6 {\n",
       "            background-color:  #440154;\n",
       "            color:  #f1f1f1;\n",
       "        }    #T_dfe39f3a_5879_11ea_bbdd_acd5647de6d0row3_col7 {\n",
       "            background-color:  #433d84;\n",
       "            color:  #f1f1f1;\n",
       "        }    #T_dfe39f3a_5879_11ea_bbdd_acd5647de6d0row3_col8 {\n",
       "            background-color:  #481668;\n",
       "            color:  #f1f1f1;\n",
       "        }    #T_dfe39f3a_5879_11ea_bbdd_acd5647de6d0row3_col9 {\n",
       "            background-color:  #440154;\n",
       "            color:  #f1f1f1;\n",
       "        }    #T_dfe39f3a_5879_11ea_bbdd_acd5647de6d0row3_col10 {\n",
       "            background-color:  #440154;\n",
       "            color:  #f1f1f1;\n",
       "        }    #T_dfe39f3a_5879_11ea_bbdd_acd5647de6d0row3_col11 {\n",
       "            background-color:  #440154;\n",
       "            color:  #f1f1f1;\n",
       "        }    #T_dfe39f3a_5879_11ea_bbdd_acd5647de6d0row3_col12 {\n",
       "            background-color:  #440154;\n",
       "            color:  #f1f1f1;\n",
       "        }    #T_dfe39f3a_5879_11ea_bbdd_acd5647de6d0row4_col0 {\n",
       "            background-color:  #46085c;\n",
       "            color:  #f1f1f1;\n",
       "        }    #T_dfe39f3a_5879_11ea_bbdd_acd5647de6d0row4_col1 {\n",
       "            background-color:  #440154;\n",
       "            color:  #f1f1f1;\n",
       "        }    #T_dfe39f3a_5879_11ea_bbdd_acd5647de6d0row4_col2 {\n",
       "            background-color:  #30698e;\n",
       "            color:  #f1f1f1;\n",
       "        }    #T_dfe39f3a_5879_11ea_bbdd_acd5647de6d0row4_col3 {\n",
       "            background-color:  #3c508b;\n",
       "            color:  #f1f1f1;\n",
       "        }    #T_dfe39f3a_5879_11ea_bbdd_acd5647de6d0row4_col4 {\n",
       "            background-color:  #fde725;\n",
       "            color:  #000000;\n",
       "        }    #T_dfe39f3a_5879_11ea_bbdd_acd5647de6d0row4_col5 {\n",
       "            background-color:  #3c4f8a;\n",
       "            color:  #f1f1f1;\n",
       "        }    #T_dfe39f3a_5879_11ea_bbdd_acd5647de6d0row4_col6 {\n",
       "            background-color:  #440154;\n",
       "            color:  #f1f1f1;\n",
       "        }    #T_dfe39f3a_5879_11ea_bbdd_acd5647de6d0row4_col7 {\n",
       "            background-color:  #440154;\n",
       "            color:  #f1f1f1;\n",
       "        }    #T_dfe39f3a_5879_11ea_bbdd_acd5647de6d0row4_col8 {\n",
       "            background-color:  #453581;\n",
       "            color:  #f1f1f1;\n",
       "        }    #T_dfe39f3a_5879_11ea_bbdd_acd5647de6d0row4_col9 {\n",
       "            background-color:  #440154;\n",
       "            color:  #f1f1f1;\n",
       "        }    #T_dfe39f3a_5879_11ea_bbdd_acd5647de6d0row4_col10 {\n",
       "            background-color:  #440154;\n",
       "            color:  #f1f1f1;\n",
       "        }    #T_dfe39f3a_5879_11ea_bbdd_acd5647de6d0row4_col11 {\n",
       "            background-color:  #440154;\n",
       "            color:  #f1f1f1;\n",
       "        }    #T_dfe39f3a_5879_11ea_bbdd_acd5647de6d0row4_col12 {\n",
       "            background-color:  #440154;\n",
       "            color:  #f1f1f1;\n",
       "        }    #T_dfe39f3a_5879_11ea_bbdd_acd5647de6d0row5_col0 {\n",
       "            background-color:  #443983;\n",
       "            color:  #f1f1f1;\n",
       "        }    #T_dfe39f3a_5879_11ea_bbdd_acd5647de6d0row5_col1 {\n",
       "            background-color:  #440154;\n",
       "            color:  #f1f1f1;\n",
       "        }    #T_dfe39f3a_5879_11ea_bbdd_acd5647de6d0row5_col2 {\n",
       "            background-color:  #3c508b;\n",
       "            color:  #f1f1f1;\n",
       "        }    #T_dfe39f3a_5879_11ea_bbdd_acd5647de6d0row5_col3 {\n",
       "            background-color:  #30698e;\n",
       "            color:  #f1f1f1;\n",
       "        }    #T_dfe39f3a_5879_11ea_bbdd_acd5647de6d0row5_col4 {\n",
       "            background-color:  #3c4f8a;\n",
       "            color:  #f1f1f1;\n",
       "        }    #T_dfe39f3a_5879_11ea_bbdd_acd5647de6d0row5_col5 {\n",
       "            background-color:  #fde725;\n",
       "            color:  #000000;\n",
       "        }    #T_dfe39f3a_5879_11ea_bbdd_acd5647de6d0row5_col6 {\n",
       "            background-color:  #440154;\n",
       "            color:  #f1f1f1;\n",
       "        }    #T_dfe39f3a_5879_11ea_bbdd_acd5647de6d0row5_col7 {\n",
       "            background-color:  #453581;\n",
       "            color:  #f1f1f1;\n",
       "        }    #T_dfe39f3a_5879_11ea_bbdd_acd5647de6d0row5_col8 {\n",
       "            background-color:  #440154;\n",
       "            color:  #f1f1f1;\n",
       "        }    #T_dfe39f3a_5879_11ea_bbdd_acd5647de6d0row5_col9 {\n",
       "            background-color:  #440154;\n",
       "            color:  #f1f1f1;\n",
       "        }    #T_dfe39f3a_5879_11ea_bbdd_acd5647de6d0row5_col10 {\n",
       "            background-color:  #440154;\n",
       "            color:  #f1f1f1;\n",
       "        }    #T_dfe39f3a_5879_11ea_bbdd_acd5647de6d0row5_col11 {\n",
       "            background-color:  #440154;\n",
       "            color:  #f1f1f1;\n",
       "        }    #T_dfe39f3a_5879_11ea_bbdd_acd5647de6d0row5_col12 {\n",
       "            background-color:  #440154;\n",
       "            color:  #f1f1f1;\n",
       "        }    #T_dfe39f3a_5879_11ea_bbdd_acd5647de6d0row6_col0 {\n",
       "            background-color:  #450457;\n",
       "            color:  #f1f1f1;\n",
       "        }    #T_dfe39f3a_5879_11ea_bbdd_acd5647de6d0row6_col1 {\n",
       "            background-color:  #470d60;\n",
       "            color:  #f1f1f1;\n",
       "        }    #T_dfe39f3a_5879_11ea_bbdd_acd5647de6d0row6_col2 {\n",
       "            background-color:  #443b84;\n",
       "            color:  #f1f1f1;\n",
       "        }    #T_dfe39f3a_5879_11ea_bbdd_acd5647de6d0row6_col3 {\n",
       "            background-color:  #443b84;\n",
       "            color:  #f1f1f1;\n",
       "        }    #T_dfe39f3a_5879_11ea_bbdd_acd5647de6d0row6_col4 {\n",
       "            background-color:  #443a83;\n",
       "            color:  #f1f1f1;\n",
       "        }    #T_dfe39f3a_5879_11ea_bbdd_acd5647de6d0row6_col5 {\n",
       "            background-color:  #443a83;\n",
       "            color:  #f1f1f1;\n",
       "        }    #T_dfe39f3a_5879_11ea_bbdd_acd5647de6d0row6_col6 {\n",
       "            background-color:  #fde725;\n",
       "            color:  #000000;\n",
       "        }    #T_dfe39f3a_5879_11ea_bbdd_acd5647de6d0row6_col7 {\n",
       "            background-color:  #443a83;\n",
       "            color:  #f1f1f1;\n",
       "        }    #T_dfe39f3a_5879_11ea_bbdd_acd5647de6d0row6_col8 {\n",
       "            background-color:  #443a83;\n",
       "            color:  #f1f1f1;\n",
       "        }    #T_dfe39f3a_5879_11ea_bbdd_acd5647de6d0row6_col9 {\n",
       "            background-color:  #440154;\n",
       "            color:  #f1f1f1;\n",
       "        }    #T_dfe39f3a_5879_11ea_bbdd_acd5647de6d0row6_col10 {\n",
       "            background-color:  #440154;\n",
       "            color:  #f1f1f1;\n",
       "        }    #T_dfe39f3a_5879_11ea_bbdd_acd5647de6d0row6_col11 {\n",
       "            background-color:  #440154;\n",
       "            color:  #f1f1f1;\n",
       "        }    #T_dfe39f3a_5879_11ea_bbdd_acd5647de6d0row6_col12 {\n",
       "            background-color:  #440154;\n",
       "            color:  #f1f1f1;\n",
       "        }    #T_dfe39f3a_5879_11ea_bbdd_acd5647de6d0row7_col0 {\n",
       "            background-color:  #440256;\n",
       "            color:  #f1f1f1;\n",
       "        }    #T_dfe39f3a_5879_11ea_bbdd_acd5647de6d0row7_col1 {\n",
       "            background-color:  #46085c;\n",
       "            color:  #f1f1f1;\n",
       "        }    #T_dfe39f3a_5879_11ea_bbdd_acd5647de6d0row7_col2 {\n",
       "            background-color:  #48186a;\n",
       "            color:  #f1f1f1;\n",
       "        }    #T_dfe39f3a_5879_11ea_bbdd_acd5647de6d0row7_col3 {\n",
       "            background-color:  #433e85;\n",
       "            color:  #f1f1f1;\n",
       "        }    #T_dfe39f3a_5879_11ea_bbdd_acd5647de6d0row7_col4 {\n",
       "            background-color:  #440154;\n",
       "            color:  #f1f1f1;\n",
       "        }    #T_dfe39f3a_5879_11ea_bbdd_acd5647de6d0row7_col5 {\n",
       "            background-color:  #453581;\n",
       "            color:  #f1f1f1;\n",
       "        }    #T_dfe39f3a_5879_11ea_bbdd_acd5647de6d0row7_col6 {\n",
       "            background-color:  #440154;\n",
       "            color:  #f1f1f1;\n",
       "        }    #T_dfe39f3a_5879_11ea_bbdd_acd5647de6d0row7_col7 {\n",
       "            background-color:  #fde725;\n",
       "            color:  #000000;\n",
       "        }    #T_dfe39f3a_5879_11ea_bbdd_acd5647de6d0row7_col8 {\n",
       "            background-color:  #443a83;\n",
       "            color:  #f1f1f1;\n",
       "        }    #T_dfe39f3a_5879_11ea_bbdd_acd5647de6d0row7_col9 {\n",
       "            background-color:  #440154;\n",
       "            color:  #f1f1f1;\n",
       "        }    #T_dfe39f3a_5879_11ea_bbdd_acd5647de6d0row7_col10 {\n",
       "            background-color:  #440154;\n",
       "            color:  #f1f1f1;\n",
       "        }    #T_dfe39f3a_5879_11ea_bbdd_acd5647de6d0row7_col11 {\n",
       "            background-color:  #440154;\n",
       "            color:  #f1f1f1;\n",
       "        }    #T_dfe39f3a_5879_11ea_bbdd_acd5647de6d0row7_col12 {\n",
       "            background-color:  #440154;\n",
       "            color:  #f1f1f1;\n",
       "        }    #T_dfe39f3a_5879_11ea_bbdd_acd5647de6d0row8_col0 {\n",
       "            background-color:  #2e6e8e;\n",
       "            color:  #f1f1f1;\n",
       "        }    #T_dfe39f3a_5879_11ea_bbdd_acd5647de6d0row8_col1 {\n",
       "            background-color:  #46085c;\n",
       "            color:  #f1f1f1;\n",
       "        }    #T_dfe39f3a_5879_11ea_bbdd_acd5647de6d0row8_col2 {\n",
       "            background-color:  #433e85;\n",
       "            color:  #f1f1f1;\n",
       "        }    #T_dfe39f3a_5879_11ea_bbdd_acd5647de6d0row8_col3 {\n",
       "            background-color:  #48186a;\n",
       "            color:  #f1f1f1;\n",
       "        }    #T_dfe39f3a_5879_11ea_bbdd_acd5647de6d0row8_col4 {\n",
       "            background-color:  #453581;\n",
       "            color:  #f1f1f1;\n",
       "        }    #T_dfe39f3a_5879_11ea_bbdd_acd5647de6d0row8_col5 {\n",
       "            background-color:  #440154;\n",
       "            color:  #f1f1f1;\n",
       "        }    #T_dfe39f3a_5879_11ea_bbdd_acd5647de6d0row8_col6 {\n",
       "            background-color:  #440154;\n",
       "            color:  #f1f1f1;\n",
       "        }    #T_dfe39f3a_5879_11ea_bbdd_acd5647de6d0row8_col7 {\n",
       "            background-color:  #443a83;\n",
       "            color:  #f1f1f1;\n",
       "        }    #T_dfe39f3a_5879_11ea_bbdd_acd5647de6d0row8_col8 {\n",
       "            background-color:  #fde725;\n",
       "            color:  #000000;\n",
       "        }    #T_dfe39f3a_5879_11ea_bbdd_acd5647de6d0row8_col9 {\n",
       "            background-color:  #440154;\n",
       "            color:  #f1f1f1;\n",
       "        }    #T_dfe39f3a_5879_11ea_bbdd_acd5647de6d0row8_col10 {\n",
       "            background-color:  #440154;\n",
       "            color:  #f1f1f1;\n",
       "        }    #T_dfe39f3a_5879_11ea_bbdd_acd5647de6d0row8_col11 {\n",
       "            background-color:  #440154;\n",
       "            color:  #f1f1f1;\n",
       "        }    #T_dfe39f3a_5879_11ea_bbdd_acd5647de6d0row8_col12 {\n",
       "            background-color:  #440154;\n",
       "            color:  #f1f1f1;\n",
       "        }    #T_dfe39f3a_5879_11ea_bbdd_acd5647de6d0row9_col0 {\n",
       "            background-color:  #450457;\n",
       "            color:  #f1f1f1;\n",
       "        }    #T_dfe39f3a_5879_11ea_bbdd_acd5647de6d0row9_col1 {\n",
       "            background-color:  #470d60;\n",
       "            color:  #f1f1f1;\n",
       "        }    #T_dfe39f3a_5879_11ea_bbdd_acd5647de6d0row9_col2 {\n",
       "            background-color:  #443b84;\n",
       "            color:  #f1f1f1;\n",
       "        }    #T_dfe39f3a_5879_11ea_bbdd_acd5647de6d0row9_col3 {\n",
       "            background-color:  #443b84;\n",
       "            color:  #f1f1f1;\n",
       "        }    #T_dfe39f3a_5879_11ea_bbdd_acd5647de6d0row9_col4 {\n",
       "            background-color:  #443a83;\n",
       "            color:  #f1f1f1;\n",
       "        }    #T_dfe39f3a_5879_11ea_bbdd_acd5647de6d0row9_col5 {\n",
       "            background-color:  #443a83;\n",
       "            color:  #f1f1f1;\n",
       "        }    #T_dfe39f3a_5879_11ea_bbdd_acd5647de6d0row9_col6 {\n",
       "            background-color:  #440154;\n",
       "            color:  #f1f1f1;\n",
       "        }    #T_dfe39f3a_5879_11ea_bbdd_acd5647de6d0row9_col7 {\n",
       "            background-color:  #443a83;\n",
       "            color:  #f1f1f1;\n",
       "        }    #T_dfe39f3a_5879_11ea_bbdd_acd5647de6d0row9_col8 {\n",
       "            background-color:  #443a83;\n",
       "            color:  #f1f1f1;\n",
       "        }    #T_dfe39f3a_5879_11ea_bbdd_acd5647de6d0row9_col9 {\n",
       "            background-color:  #fde725;\n",
       "            color:  #000000;\n",
       "        }    #T_dfe39f3a_5879_11ea_bbdd_acd5647de6d0row9_col10 {\n",
       "            background-color:  #440154;\n",
       "            color:  #f1f1f1;\n",
       "        }    #T_dfe39f3a_5879_11ea_bbdd_acd5647de6d0row9_col11 {\n",
       "            background-color:  #440154;\n",
       "            color:  #f1f1f1;\n",
       "        }    #T_dfe39f3a_5879_11ea_bbdd_acd5647de6d0row9_col12 {\n",
       "            background-color:  #440154;\n",
       "            color:  #f1f1f1;\n",
       "        }    #T_dfe39f3a_5879_11ea_bbdd_acd5647de6d0row10_col0 {\n",
       "            background-color:  #450457;\n",
       "            color:  #f1f1f1;\n",
       "        }    #T_dfe39f3a_5879_11ea_bbdd_acd5647de6d0row10_col1 {\n",
       "            background-color:  #470d60;\n",
       "            color:  #f1f1f1;\n",
       "        }    #T_dfe39f3a_5879_11ea_bbdd_acd5647de6d0row10_col2 {\n",
       "            background-color:  #443b84;\n",
       "            color:  #f1f1f1;\n",
       "        }    #T_dfe39f3a_5879_11ea_bbdd_acd5647de6d0row10_col3 {\n",
       "            background-color:  #443b84;\n",
       "            color:  #f1f1f1;\n",
       "        }    #T_dfe39f3a_5879_11ea_bbdd_acd5647de6d0row10_col4 {\n",
       "            background-color:  #443a83;\n",
       "            color:  #f1f1f1;\n",
       "        }    #T_dfe39f3a_5879_11ea_bbdd_acd5647de6d0row10_col5 {\n",
       "            background-color:  #443a83;\n",
       "            color:  #f1f1f1;\n",
       "        }    #T_dfe39f3a_5879_11ea_bbdd_acd5647de6d0row10_col6 {\n",
       "            background-color:  #440154;\n",
       "            color:  #f1f1f1;\n",
       "        }    #T_dfe39f3a_5879_11ea_bbdd_acd5647de6d0row10_col7 {\n",
       "            background-color:  #443a83;\n",
       "            color:  #f1f1f1;\n",
       "        }    #T_dfe39f3a_5879_11ea_bbdd_acd5647de6d0row10_col8 {\n",
       "            background-color:  #443a83;\n",
       "            color:  #f1f1f1;\n",
       "        }    #T_dfe39f3a_5879_11ea_bbdd_acd5647de6d0row10_col9 {\n",
       "            background-color:  #440154;\n",
       "            color:  #f1f1f1;\n",
       "        }    #T_dfe39f3a_5879_11ea_bbdd_acd5647de6d0row10_col10 {\n",
       "            background-color:  #fde725;\n",
       "            color:  #000000;\n",
       "        }    #T_dfe39f3a_5879_11ea_bbdd_acd5647de6d0row10_col11 {\n",
       "            background-color:  #440154;\n",
       "            color:  #f1f1f1;\n",
       "        }    #T_dfe39f3a_5879_11ea_bbdd_acd5647de6d0row10_col12 {\n",
       "            background-color:  #440154;\n",
       "            color:  #f1f1f1;\n",
       "        }    #T_dfe39f3a_5879_11ea_bbdd_acd5647de6d0row11_col0 {\n",
       "            background-color:  #450457;\n",
       "            color:  #f1f1f1;\n",
       "        }    #T_dfe39f3a_5879_11ea_bbdd_acd5647de6d0row11_col1 {\n",
       "            background-color:  #470d60;\n",
       "            color:  #f1f1f1;\n",
       "        }    #T_dfe39f3a_5879_11ea_bbdd_acd5647de6d0row11_col2 {\n",
       "            background-color:  #443b84;\n",
       "            color:  #f1f1f1;\n",
       "        }    #T_dfe39f3a_5879_11ea_bbdd_acd5647de6d0row11_col3 {\n",
       "            background-color:  #443b84;\n",
       "            color:  #f1f1f1;\n",
       "        }    #T_dfe39f3a_5879_11ea_bbdd_acd5647de6d0row11_col4 {\n",
       "            background-color:  #443a83;\n",
       "            color:  #f1f1f1;\n",
       "        }    #T_dfe39f3a_5879_11ea_bbdd_acd5647de6d0row11_col5 {\n",
       "            background-color:  #443a83;\n",
       "            color:  #f1f1f1;\n",
       "        }    #T_dfe39f3a_5879_11ea_bbdd_acd5647de6d0row11_col6 {\n",
       "            background-color:  #440154;\n",
       "            color:  #f1f1f1;\n",
       "        }    #T_dfe39f3a_5879_11ea_bbdd_acd5647de6d0row11_col7 {\n",
       "            background-color:  #443a83;\n",
       "            color:  #f1f1f1;\n",
       "        }    #T_dfe39f3a_5879_11ea_bbdd_acd5647de6d0row11_col8 {\n",
       "            background-color:  #443a83;\n",
       "            color:  #f1f1f1;\n",
       "        }    #T_dfe39f3a_5879_11ea_bbdd_acd5647de6d0row11_col9 {\n",
       "            background-color:  #440154;\n",
       "            color:  #f1f1f1;\n",
       "        }    #T_dfe39f3a_5879_11ea_bbdd_acd5647de6d0row11_col10 {\n",
       "            background-color:  #440154;\n",
       "            color:  #f1f1f1;\n",
       "        }    #T_dfe39f3a_5879_11ea_bbdd_acd5647de6d0row11_col11 {\n",
       "            background-color:  #fde725;\n",
       "            color:  #000000;\n",
       "        }    #T_dfe39f3a_5879_11ea_bbdd_acd5647de6d0row11_col12 {\n",
       "            background-color:  #440154;\n",
       "            color:  #f1f1f1;\n",
       "        }    #T_dfe39f3a_5879_11ea_bbdd_acd5647de6d0row12_col0 {\n",
       "            background-color:  #450457;\n",
       "            color:  #f1f1f1;\n",
       "        }    #T_dfe39f3a_5879_11ea_bbdd_acd5647de6d0row12_col1 {\n",
       "            background-color:  #470d60;\n",
       "            color:  #f1f1f1;\n",
       "        }    #T_dfe39f3a_5879_11ea_bbdd_acd5647de6d0row12_col2 {\n",
       "            background-color:  #443b84;\n",
       "            color:  #f1f1f1;\n",
       "        }    #T_dfe39f3a_5879_11ea_bbdd_acd5647de6d0row12_col3 {\n",
       "            background-color:  #443b84;\n",
       "            color:  #f1f1f1;\n",
       "        }    #T_dfe39f3a_5879_11ea_bbdd_acd5647de6d0row12_col4 {\n",
       "            background-color:  #443a83;\n",
       "            color:  #f1f1f1;\n",
       "        }    #T_dfe39f3a_5879_11ea_bbdd_acd5647de6d0row12_col5 {\n",
       "            background-color:  #443a83;\n",
       "            color:  #f1f1f1;\n",
       "        }    #T_dfe39f3a_5879_11ea_bbdd_acd5647de6d0row12_col6 {\n",
       "            background-color:  #440154;\n",
       "            color:  #f1f1f1;\n",
       "        }    #T_dfe39f3a_5879_11ea_bbdd_acd5647de6d0row12_col7 {\n",
       "            background-color:  #443a83;\n",
       "            color:  #f1f1f1;\n",
       "        }    #T_dfe39f3a_5879_11ea_bbdd_acd5647de6d0row12_col8 {\n",
       "            background-color:  #443a83;\n",
       "            color:  #f1f1f1;\n",
       "        }    #T_dfe39f3a_5879_11ea_bbdd_acd5647de6d0row12_col9 {\n",
       "            background-color:  #440154;\n",
       "            color:  #f1f1f1;\n",
       "        }    #T_dfe39f3a_5879_11ea_bbdd_acd5647de6d0row12_col10 {\n",
       "            background-color:  #440154;\n",
       "            color:  #f1f1f1;\n",
       "        }    #T_dfe39f3a_5879_11ea_bbdd_acd5647de6d0row12_col11 {\n",
       "            background-color:  #440154;\n",
       "            color:  #f1f1f1;\n",
       "        }    #T_dfe39f3a_5879_11ea_bbdd_acd5647de6d0row12_col12 {\n",
       "            background-color:  #fde725;\n",
       "            color:  #000000;\n",
       "        }</style><table id=\"T_dfe39f3a_5879_11ea_bbdd_acd5647de6d0\" ><thead>    <tr>        <th class=\"blank level0\" ></th>        <th class=\"col_heading level0 col0\" >NWG</th>        <th class=\"col_heading level0 col1\" >KWG</th>        <th class=\"col_heading level0 col2\" >MDIMC</th>        <th class=\"col_heading level0 col3\" >NDIMC</th>        <th class=\"col_heading level0 col4\" >MDIMA</th>        <th class=\"col_heading level0 col5\" >NDIMB</th>        <th class=\"col_heading level0 col6\" >KWI</th>        <th class=\"col_heading level0 col7\" >VWM</th>        <th class=\"col_heading level0 col8\" >VWN</th>        <th class=\"col_heading level0 col9\" >STRM</th>        <th class=\"col_heading level0 col10\" >STRN</th>        <th class=\"col_heading level0 col11\" >SA</th>        <th class=\"col_heading level0 col12\" >SB</th>    </tr></thead><tbody>\n",
       "                <tr>\n",
       "                        <th id=\"T_dfe39f3a_5879_11ea_bbdd_acd5647de6d0level0_row0\" class=\"row_heading level0 row0\" >NWG</th>\n",
       "                        <td id=\"T_dfe39f3a_5879_11ea_bbdd_acd5647de6d0row0_col0\" class=\"data row0 col0\" >1</td>\n",
       "                        <td id=\"T_dfe39f3a_5879_11ea_bbdd_acd5647de6d0row0_col1\" class=\"data row0 col1\" >0.0093</td>\n",
       "                        <td id=\"T_dfe39f3a_5879_11ea_bbdd_acd5647de6d0row0_col2\" class=\"data row0 col2\" >-0.0086</td>\n",
       "                        <td id=\"T_dfe39f3a_5879_11ea_bbdd_acd5647de6d0row0_col3\" class=\"data row0 col3\" >0.11</td>\n",
       "                        <td id=\"T_dfe39f3a_5879_11ea_bbdd_acd5647de6d0row0_col4\" class=\"data row0 col4\" >0.015</td>\n",
       "                        <td id=\"T_dfe39f3a_5879_11ea_bbdd_acd5647de6d0row0_col5\" class=\"data row0 col5\" >0.16</td>\n",
       "                        <td id=\"T_dfe39f3a_5879_11ea_bbdd_acd5647de6d0row0_col6\" class=\"data row0 col6\" >8.6e-19</td>\n",
       "                        <td id=\"T_dfe39f3a_5879_11ea_bbdd_acd5647de6d0row0_col7\" class=\"data row0 col7\" >-0.00084</td>\n",
       "                        <td id=\"T_dfe39f3a_5879_11ea_bbdd_acd5647de6d0row0_col8\" class=\"data row0 col8\" >0.35</td>\n",
       "                        <td id=\"T_dfe39f3a_5879_11ea_bbdd_acd5647de6d0row0_col9\" class=\"data row0 col9\" >6.9e-21</td>\n",
       "                        <td id=\"T_dfe39f3a_5879_11ea_bbdd_acd5647de6d0row0_col10\" class=\"data row0 col10\" >1.4e-21</td>\n",
       "                        <td id=\"T_dfe39f3a_5879_11ea_bbdd_acd5647de6d0row0_col11\" class=\"data row0 col11\" >0</td>\n",
       "                        <td id=\"T_dfe39f3a_5879_11ea_bbdd_acd5647de6d0row0_col12\" class=\"data row0 col12\" >0</td>\n",
       "            </tr>\n",
       "            <tr>\n",
       "                        <th id=\"T_dfe39f3a_5879_11ea_bbdd_acd5647de6d0level0_row1\" class=\"row_heading level0 row1\" >KWG</th>\n",
       "                        <td id=\"T_dfe39f3a_5879_11ea_bbdd_acd5647de6d0row1_col0\" class=\"data row1 col0\" >0.0093</td>\n",
       "                        <td id=\"T_dfe39f3a_5879_11ea_bbdd_acd5647de6d0row1_col1\" class=\"data row1 col1\" >1</td>\n",
       "                        <td id=\"T_dfe39f3a_5879_11ea_bbdd_acd5647de6d0row1_col2\" class=\"data row1 col2\" >0.15</td>\n",
       "                        <td id=\"T_dfe39f3a_5879_11ea_bbdd_acd5647de6d0row1_col3\" class=\"data row1 col3\" >0.15</td>\n",
       "                        <td id=\"T_dfe39f3a_5879_11ea_bbdd_acd5647de6d0row1_col4\" class=\"data row1 col4\" >-0.035</td>\n",
       "                        <td id=\"T_dfe39f3a_5879_11ea_bbdd_acd5647de6d0row1_col5\" class=\"data row1 col5\" >-0.035</td>\n",
       "                        <td id=\"T_dfe39f3a_5879_11ea_bbdd_acd5647de6d0row1_col6\" class=\"data row1 col6\" >-1.8e-19</td>\n",
       "                        <td id=\"T_dfe39f3a_5879_11ea_bbdd_acd5647de6d0row1_col7\" class=\"data row1 col7\" >-0.012</td>\n",
       "                        <td id=\"T_dfe39f3a_5879_11ea_bbdd_acd5647de6d0row1_col8\" class=\"data row1 col8\" >-0.012</td>\n",
       "                        <td id=\"T_dfe39f3a_5879_11ea_bbdd_acd5647de6d0row1_col9\" class=\"data row1 col9\" >1.9e-21</td>\n",
       "                        <td id=\"T_dfe39f3a_5879_11ea_bbdd_acd5647de6d0row1_col10\" class=\"data row1 col10\" >0</td>\n",
       "                        <td id=\"T_dfe39f3a_5879_11ea_bbdd_acd5647de6d0row1_col11\" class=\"data row1 col11\" >0</td>\n",
       "                        <td id=\"T_dfe39f3a_5879_11ea_bbdd_acd5647de6d0row1_col12\" class=\"data row1 col12\" >0</td>\n",
       "            </tr>\n",
       "            <tr>\n",
       "                        <th id=\"T_dfe39f3a_5879_11ea_bbdd_acd5647de6d0level0_row2\" class=\"row_heading level0 row2\" >MDIMC</th>\n",
       "                        <td id=\"T_dfe39f3a_5879_11ea_bbdd_acd5647de6d0row2_col0\" class=\"data row2 col0\" >-0.0086</td>\n",
       "                        <td id=\"T_dfe39f3a_5879_11ea_bbdd_acd5647de6d0row2_col1\" class=\"data row2 col1\" >0.15</td>\n",
       "                        <td id=\"T_dfe39f3a_5879_11ea_bbdd_acd5647de6d0row2_col2\" class=\"data row2 col2\" >1</td>\n",
       "                        <td id=\"T_dfe39f3a_5879_11ea_bbdd_acd5647de6d0row2_col3\" class=\"data row2 col3\" >-0.21</td>\n",
       "                        <td id=\"T_dfe39f3a_5879_11ea_bbdd_acd5647de6d0row2_col4\" class=\"data row2 col4\" >0.2</td>\n",
       "                        <td id=\"T_dfe39f3a_5879_11ea_bbdd_acd5647de6d0row2_col5\" class=\"data row2 col5\" >0.085</td>\n",
       "                        <td id=\"T_dfe39f3a_5879_11ea_bbdd_acd5647de6d0row2_col6\" class=\"data row2 col6\" >-3.2e-18</td>\n",
       "                        <td id=\"T_dfe39f3a_5879_11ea_bbdd_acd5647de6d0row2_col7\" class=\"data row2 col7\" >-0.13</td>\n",
       "                        <td id=\"T_dfe39f3a_5879_11ea_bbdd_acd5647de6d0row2_col8\" class=\"data row2 col8\" >0.011</td>\n",
       "                        <td id=\"T_dfe39f3a_5879_11ea_bbdd_acd5647de6d0row2_col9\" class=\"data row2 col9\" >-1.1e-20</td>\n",
       "                        <td id=\"T_dfe39f3a_5879_11ea_bbdd_acd5647de6d0row2_col10\" class=\"data row2 col10\" >-3.7e-21</td>\n",
       "                        <td id=\"T_dfe39f3a_5879_11ea_bbdd_acd5647de6d0row2_col11\" class=\"data row2 col11\" >0</td>\n",
       "                        <td id=\"T_dfe39f3a_5879_11ea_bbdd_acd5647de6d0row2_col12\" class=\"data row2 col12\" >0</td>\n",
       "            </tr>\n",
       "            <tr>\n",
       "                        <th id=\"T_dfe39f3a_5879_11ea_bbdd_acd5647de6d0level0_row3\" class=\"row_heading level0 row3\" >NDIMC</th>\n",
       "                        <td id=\"T_dfe39f3a_5879_11ea_bbdd_acd5647de6d0row3_col0\" class=\"data row3 col0\" >0.11</td>\n",
       "                        <td id=\"T_dfe39f3a_5879_11ea_bbdd_acd5647de6d0row3_col1\" class=\"data row3 col1\" >0.15</td>\n",
       "                        <td id=\"T_dfe39f3a_5879_11ea_bbdd_acd5647de6d0row3_col2\" class=\"data row3 col2\" >-0.21</td>\n",
       "                        <td id=\"T_dfe39f3a_5879_11ea_bbdd_acd5647de6d0row3_col3\" class=\"data row3 col3\" >1</td>\n",
       "                        <td id=\"T_dfe39f3a_5879_11ea_bbdd_acd5647de6d0row3_col4\" class=\"data row3 col4\" >0.085</td>\n",
       "                        <td id=\"T_dfe39f3a_5879_11ea_bbdd_acd5647de6d0row3_col5\" class=\"data row3 col5\" >0.2</td>\n",
       "                        <td id=\"T_dfe39f3a_5879_11ea_bbdd_acd5647de6d0row3_col6\" class=\"data row3 col6\" >-5.3e-18</td>\n",
       "                        <td id=\"T_dfe39f3a_5879_11ea_bbdd_acd5647de6d0row3_col7\" class=\"data row3 col7\" >0.011</td>\n",
       "                        <td id=\"T_dfe39f3a_5879_11ea_bbdd_acd5647de6d0row3_col8\" class=\"data row3 col8\" >-0.13</td>\n",
       "                        <td id=\"T_dfe39f3a_5879_11ea_bbdd_acd5647de6d0row3_col9\" class=\"data row3 col9\" >-1.1e-20</td>\n",
       "                        <td id=\"T_dfe39f3a_5879_11ea_bbdd_acd5647de6d0row3_col10\" class=\"data row3 col10\" >-3.7e-21</td>\n",
       "                        <td id=\"T_dfe39f3a_5879_11ea_bbdd_acd5647de6d0row3_col11\" class=\"data row3 col11\" >0</td>\n",
       "                        <td id=\"T_dfe39f3a_5879_11ea_bbdd_acd5647de6d0row3_col12\" class=\"data row3 col12\" >0</td>\n",
       "            </tr>\n",
       "            <tr>\n",
       "                        <th id=\"T_dfe39f3a_5879_11ea_bbdd_acd5647de6d0level0_row4\" class=\"row_heading level0 row4\" >MDIMA</th>\n",
       "                        <td id=\"T_dfe39f3a_5879_11ea_bbdd_acd5647de6d0row4_col0\" class=\"data row4 col0\" >0.015</td>\n",
       "                        <td id=\"T_dfe39f3a_5879_11ea_bbdd_acd5647de6d0row4_col1\" class=\"data row4 col1\" >-0.035</td>\n",
       "                        <td id=\"T_dfe39f3a_5879_11ea_bbdd_acd5647de6d0row4_col2\" class=\"data row4 col2\" >0.2</td>\n",
       "                        <td id=\"T_dfe39f3a_5879_11ea_bbdd_acd5647de6d0row4_col3\" class=\"data row4 col3\" >0.085</td>\n",
       "                        <td id=\"T_dfe39f3a_5879_11ea_bbdd_acd5647de6d0row4_col4\" class=\"data row4 col4\" >1</td>\n",
       "                        <td id=\"T_dfe39f3a_5879_11ea_bbdd_acd5647de6d0row4_col5\" class=\"data row4 col5\" >0.088</td>\n",
       "                        <td id=\"T_dfe39f3a_5879_11ea_bbdd_acd5647de6d0row4_col6\" class=\"data row4 col6\" >-4.6e-18</td>\n",
       "                        <td id=\"T_dfe39f3a_5879_11ea_bbdd_acd5647de6d0row4_col7\" class=\"data row4 col7\" >-0.2</td>\n",
       "                        <td id=\"T_dfe39f3a_5879_11ea_bbdd_acd5647de6d0row4_col8\" class=\"data row4 col8\" >-0.019</td>\n",
       "                        <td id=\"T_dfe39f3a_5879_11ea_bbdd_acd5647de6d0row4_col9\" class=\"data row4 col9\" >1.6e-21</td>\n",
       "                        <td id=\"T_dfe39f3a_5879_11ea_bbdd_acd5647de6d0row4_col10\" class=\"data row4 col10\" >1.6e-21</td>\n",
       "                        <td id=\"T_dfe39f3a_5879_11ea_bbdd_acd5647de6d0row4_col11\" class=\"data row4 col11\" >0</td>\n",
       "                        <td id=\"T_dfe39f3a_5879_11ea_bbdd_acd5647de6d0row4_col12\" class=\"data row4 col12\" >0</td>\n",
       "            </tr>\n",
       "            <tr>\n",
       "                        <th id=\"T_dfe39f3a_5879_11ea_bbdd_acd5647de6d0level0_row5\" class=\"row_heading level0 row5\" >NDIMB</th>\n",
       "                        <td id=\"T_dfe39f3a_5879_11ea_bbdd_acd5647de6d0row5_col0\" class=\"data row5 col0\" >0.16</td>\n",
       "                        <td id=\"T_dfe39f3a_5879_11ea_bbdd_acd5647de6d0row5_col1\" class=\"data row5 col1\" >-0.035</td>\n",
       "                        <td id=\"T_dfe39f3a_5879_11ea_bbdd_acd5647de6d0row5_col2\" class=\"data row5 col2\" >0.085</td>\n",
       "                        <td id=\"T_dfe39f3a_5879_11ea_bbdd_acd5647de6d0row5_col3\" class=\"data row5 col3\" >0.2</td>\n",
       "                        <td id=\"T_dfe39f3a_5879_11ea_bbdd_acd5647de6d0row5_col4\" class=\"data row5 col4\" >0.088</td>\n",
       "                        <td id=\"T_dfe39f3a_5879_11ea_bbdd_acd5647de6d0row5_col5\" class=\"data row5 col5\" >1</td>\n",
       "                        <td id=\"T_dfe39f3a_5879_11ea_bbdd_acd5647de6d0row5_col6\" class=\"data row5 col6\" >-1.1e-17</td>\n",
       "                        <td id=\"T_dfe39f3a_5879_11ea_bbdd_acd5647de6d0row5_col7\" class=\"data row5 col7\" >-0.019</td>\n",
       "                        <td id=\"T_dfe39f3a_5879_11ea_bbdd_acd5647de6d0row5_col8\" class=\"data row5 col8\" >-0.2</td>\n",
       "                        <td id=\"T_dfe39f3a_5879_11ea_bbdd_acd5647de6d0row5_col9\" class=\"data row5 col9\" >1.6e-21</td>\n",
       "                        <td id=\"T_dfe39f3a_5879_11ea_bbdd_acd5647de6d0row5_col10\" class=\"data row5 col10\" >1.6e-21</td>\n",
       "                        <td id=\"T_dfe39f3a_5879_11ea_bbdd_acd5647de6d0row5_col11\" class=\"data row5 col11\" >0</td>\n",
       "                        <td id=\"T_dfe39f3a_5879_11ea_bbdd_acd5647de6d0row5_col12\" class=\"data row5 col12\" >0</td>\n",
       "            </tr>\n",
       "            <tr>\n",
       "                        <th id=\"T_dfe39f3a_5879_11ea_bbdd_acd5647de6d0level0_row6\" class=\"row_heading level0 row6\" >KWI</th>\n",
       "                        <td id=\"T_dfe39f3a_5879_11ea_bbdd_acd5647de6d0row6_col0\" class=\"data row6 col0\" >8.6e-19</td>\n",
       "                        <td id=\"T_dfe39f3a_5879_11ea_bbdd_acd5647de6d0row6_col1\" class=\"data row6 col1\" >-1.8e-19</td>\n",
       "                        <td id=\"T_dfe39f3a_5879_11ea_bbdd_acd5647de6d0row6_col2\" class=\"data row6 col2\" >-3.2e-18</td>\n",
       "                        <td id=\"T_dfe39f3a_5879_11ea_bbdd_acd5647de6d0row6_col3\" class=\"data row6 col3\" >-5.3e-18</td>\n",
       "                        <td id=\"T_dfe39f3a_5879_11ea_bbdd_acd5647de6d0row6_col4\" class=\"data row6 col4\" >-4.6e-18</td>\n",
       "                        <td id=\"T_dfe39f3a_5879_11ea_bbdd_acd5647de6d0row6_col5\" class=\"data row6 col5\" >-1.1e-17</td>\n",
       "                        <td id=\"T_dfe39f3a_5879_11ea_bbdd_acd5647de6d0row6_col6\" class=\"data row6 col6\" >1</td>\n",
       "                        <td id=\"T_dfe39f3a_5879_11ea_bbdd_acd5647de6d0row6_col7\" class=\"data row6 col7\" >-3.6e-16</td>\n",
       "                        <td id=\"T_dfe39f3a_5879_11ea_bbdd_acd5647de6d0row6_col8\" class=\"data row6 col8\" >-4.8e-16</td>\n",
       "                        <td id=\"T_dfe39f3a_5879_11ea_bbdd_acd5647de6d0row6_col9\" class=\"data row6 col9\" >0</td>\n",
       "                        <td id=\"T_dfe39f3a_5879_11ea_bbdd_acd5647de6d0row6_col10\" class=\"data row6 col10\" >0</td>\n",
       "                        <td id=\"T_dfe39f3a_5879_11ea_bbdd_acd5647de6d0row6_col11\" class=\"data row6 col11\" >0</td>\n",
       "                        <td id=\"T_dfe39f3a_5879_11ea_bbdd_acd5647de6d0row6_col12\" class=\"data row6 col12\" >0</td>\n",
       "            </tr>\n",
       "            <tr>\n",
       "                        <th id=\"T_dfe39f3a_5879_11ea_bbdd_acd5647de6d0level0_row7\" class=\"row_heading level0 row7\" >VWM</th>\n",
       "                        <td id=\"T_dfe39f3a_5879_11ea_bbdd_acd5647de6d0row7_col0\" class=\"data row7 col0\" >-0.00084</td>\n",
       "                        <td id=\"T_dfe39f3a_5879_11ea_bbdd_acd5647de6d0row7_col1\" class=\"data row7 col1\" >-0.012</td>\n",
       "                        <td id=\"T_dfe39f3a_5879_11ea_bbdd_acd5647de6d0row7_col2\" class=\"data row7 col2\" >-0.13</td>\n",
       "                        <td id=\"T_dfe39f3a_5879_11ea_bbdd_acd5647de6d0row7_col3\" class=\"data row7 col3\" >0.011</td>\n",
       "                        <td id=\"T_dfe39f3a_5879_11ea_bbdd_acd5647de6d0row7_col4\" class=\"data row7 col4\" >-0.2</td>\n",
       "                        <td id=\"T_dfe39f3a_5879_11ea_bbdd_acd5647de6d0row7_col5\" class=\"data row7 col5\" >-0.019</td>\n",
       "                        <td id=\"T_dfe39f3a_5879_11ea_bbdd_acd5647de6d0row7_col6\" class=\"data row7 col6\" >-3.6e-16</td>\n",
       "                        <td id=\"T_dfe39f3a_5879_11ea_bbdd_acd5647de6d0row7_col7\" class=\"data row7 col7\" >1</td>\n",
       "                        <td id=\"T_dfe39f3a_5879_11ea_bbdd_acd5647de6d0row7_col8\" class=\"data row7 col8\" >0.0012</td>\n",
       "                        <td id=\"T_dfe39f3a_5879_11ea_bbdd_acd5647de6d0row7_col9\" class=\"data row7 col9\" >-1.4e-20</td>\n",
       "                        <td id=\"T_dfe39f3a_5879_11ea_bbdd_acd5647de6d0row7_col10\" class=\"data row7 col10\" >9.4e-22</td>\n",
       "                        <td id=\"T_dfe39f3a_5879_11ea_bbdd_acd5647de6d0row7_col11\" class=\"data row7 col11\" >0</td>\n",
       "                        <td id=\"T_dfe39f3a_5879_11ea_bbdd_acd5647de6d0row7_col12\" class=\"data row7 col12\" >0</td>\n",
       "            </tr>\n",
       "            <tr>\n",
       "                        <th id=\"T_dfe39f3a_5879_11ea_bbdd_acd5647de6d0level0_row8\" class=\"row_heading level0 row8\" >VWN</th>\n",
       "                        <td id=\"T_dfe39f3a_5879_11ea_bbdd_acd5647de6d0row8_col0\" class=\"data row8 col0\" >0.35</td>\n",
       "                        <td id=\"T_dfe39f3a_5879_11ea_bbdd_acd5647de6d0row8_col1\" class=\"data row8 col1\" >-0.012</td>\n",
       "                        <td id=\"T_dfe39f3a_5879_11ea_bbdd_acd5647de6d0row8_col2\" class=\"data row8 col2\" >0.011</td>\n",
       "                        <td id=\"T_dfe39f3a_5879_11ea_bbdd_acd5647de6d0row8_col3\" class=\"data row8 col3\" >-0.13</td>\n",
       "                        <td id=\"T_dfe39f3a_5879_11ea_bbdd_acd5647de6d0row8_col4\" class=\"data row8 col4\" >-0.019</td>\n",
       "                        <td id=\"T_dfe39f3a_5879_11ea_bbdd_acd5647de6d0row8_col5\" class=\"data row8 col5\" >-0.2</td>\n",
       "                        <td id=\"T_dfe39f3a_5879_11ea_bbdd_acd5647de6d0row8_col6\" class=\"data row8 col6\" >-4.8e-16</td>\n",
       "                        <td id=\"T_dfe39f3a_5879_11ea_bbdd_acd5647de6d0row8_col7\" class=\"data row8 col7\" >0.0012</td>\n",
       "                        <td id=\"T_dfe39f3a_5879_11ea_bbdd_acd5647de6d0row8_col8\" class=\"data row8 col8\" >1</td>\n",
       "                        <td id=\"T_dfe39f3a_5879_11ea_bbdd_acd5647de6d0row8_col9\" class=\"data row8 col9\" >-1.4e-20</td>\n",
       "                        <td id=\"T_dfe39f3a_5879_11ea_bbdd_acd5647de6d0row8_col10\" class=\"data row8 col10\" >9.4e-22</td>\n",
       "                        <td id=\"T_dfe39f3a_5879_11ea_bbdd_acd5647de6d0row8_col11\" class=\"data row8 col11\" >0</td>\n",
       "                        <td id=\"T_dfe39f3a_5879_11ea_bbdd_acd5647de6d0row8_col12\" class=\"data row8 col12\" >0</td>\n",
       "            </tr>\n",
       "            <tr>\n",
       "                        <th id=\"T_dfe39f3a_5879_11ea_bbdd_acd5647de6d0level0_row9\" class=\"row_heading level0 row9\" >STRM</th>\n",
       "                        <td id=\"T_dfe39f3a_5879_11ea_bbdd_acd5647de6d0row9_col0\" class=\"data row9 col0\" >6.9e-21</td>\n",
       "                        <td id=\"T_dfe39f3a_5879_11ea_bbdd_acd5647de6d0row9_col1\" class=\"data row9 col1\" >1.9e-21</td>\n",
       "                        <td id=\"T_dfe39f3a_5879_11ea_bbdd_acd5647de6d0row9_col2\" class=\"data row9 col2\" >-1.1e-20</td>\n",
       "                        <td id=\"T_dfe39f3a_5879_11ea_bbdd_acd5647de6d0row9_col3\" class=\"data row9 col3\" >-1.1e-20</td>\n",
       "                        <td id=\"T_dfe39f3a_5879_11ea_bbdd_acd5647de6d0row9_col4\" class=\"data row9 col4\" >1.6e-21</td>\n",
       "                        <td id=\"T_dfe39f3a_5879_11ea_bbdd_acd5647de6d0row9_col5\" class=\"data row9 col5\" >1.6e-21</td>\n",
       "                        <td id=\"T_dfe39f3a_5879_11ea_bbdd_acd5647de6d0row9_col6\" class=\"data row9 col6\" >0</td>\n",
       "                        <td id=\"T_dfe39f3a_5879_11ea_bbdd_acd5647de6d0row9_col7\" class=\"data row9 col7\" >-1.4e-20</td>\n",
       "                        <td id=\"T_dfe39f3a_5879_11ea_bbdd_acd5647de6d0row9_col8\" class=\"data row9 col8\" >-1.4e-20</td>\n",
       "                        <td id=\"T_dfe39f3a_5879_11ea_bbdd_acd5647de6d0row9_col9\" class=\"data row9 col9\" >1</td>\n",
       "                        <td id=\"T_dfe39f3a_5879_11ea_bbdd_acd5647de6d0row9_col10\" class=\"data row9 col10\" >0</td>\n",
       "                        <td id=\"T_dfe39f3a_5879_11ea_bbdd_acd5647de6d0row9_col11\" class=\"data row9 col11\" >0</td>\n",
       "                        <td id=\"T_dfe39f3a_5879_11ea_bbdd_acd5647de6d0row9_col12\" class=\"data row9 col12\" >0</td>\n",
       "            </tr>\n",
       "            <tr>\n",
       "                        <th id=\"T_dfe39f3a_5879_11ea_bbdd_acd5647de6d0level0_row10\" class=\"row_heading level0 row10\" >STRN</th>\n",
       "                        <td id=\"T_dfe39f3a_5879_11ea_bbdd_acd5647de6d0row10_col0\" class=\"data row10 col0\" >1.4e-21</td>\n",
       "                        <td id=\"T_dfe39f3a_5879_11ea_bbdd_acd5647de6d0row10_col1\" class=\"data row10 col1\" >0</td>\n",
       "                        <td id=\"T_dfe39f3a_5879_11ea_bbdd_acd5647de6d0row10_col2\" class=\"data row10 col2\" >-3.7e-21</td>\n",
       "                        <td id=\"T_dfe39f3a_5879_11ea_bbdd_acd5647de6d0row10_col3\" class=\"data row10 col3\" >-3.7e-21</td>\n",
       "                        <td id=\"T_dfe39f3a_5879_11ea_bbdd_acd5647de6d0row10_col4\" class=\"data row10 col4\" >1.6e-21</td>\n",
       "                        <td id=\"T_dfe39f3a_5879_11ea_bbdd_acd5647de6d0row10_col5\" class=\"data row10 col5\" >1.6e-21</td>\n",
       "                        <td id=\"T_dfe39f3a_5879_11ea_bbdd_acd5647de6d0row10_col6\" class=\"data row10 col6\" >0</td>\n",
       "                        <td id=\"T_dfe39f3a_5879_11ea_bbdd_acd5647de6d0row10_col7\" class=\"data row10 col7\" >9.4e-22</td>\n",
       "                        <td id=\"T_dfe39f3a_5879_11ea_bbdd_acd5647de6d0row10_col8\" class=\"data row10 col8\" >9.4e-22</td>\n",
       "                        <td id=\"T_dfe39f3a_5879_11ea_bbdd_acd5647de6d0row10_col9\" class=\"data row10 col9\" >0</td>\n",
       "                        <td id=\"T_dfe39f3a_5879_11ea_bbdd_acd5647de6d0row10_col10\" class=\"data row10 col10\" >1</td>\n",
       "                        <td id=\"T_dfe39f3a_5879_11ea_bbdd_acd5647de6d0row10_col11\" class=\"data row10 col11\" >0</td>\n",
       "                        <td id=\"T_dfe39f3a_5879_11ea_bbdd_acd5647de6d0row10_col12\" class=\"data row10 col12\" >0</td>\n",
       "            </tr>\n",
       "            <tr>\n",
       "                        <th id=\"T_dfe39f3a_5879_11ea_bbdd_acd5647de6d0level0_row11\" class=\"row_heading level0 row11\" >SA</th>\n",
       "                        <td id=\"T_dfe39f3a_5879_11ea_bbdd_acd5647de6d0row11_col0\" class=\"data row11 col0\" >0</td>\n",
       "                        <td id=\"T_dfe39f3a_5879_11ea_bbdd_acd5647de6d0row11_col1\" class=\"data row11 col1\" >0</td>\n",
       "                        <td id=\"T_dfe39f3a_5879_11ea_bbdd_acd5647de6d0row11_col2\" class=\"data row11 col2\" >0</td>\n",
       "                        <td id=\"T_dfe39f3a_5879_11ea_bbdd_acd5647de6d0row11_col3\" class=\"data row11 col3\" >0</td>\n",
       "                        <td id=\"T_dfe39f3a_5879_11ea_bbdd_acd5647de6d0row11_col4\" class=\"data row11 col4\" >0</td>\n",
       "                        <td id=\"T_dfe39f3a_5879_11ea_bbdd_acd5647de6d0row11_col5\" class=\"data row11 col5\" >0</td>\n",
       "                        <td id=\"T_dfe39f3a_5879_11ea_bbdd_acd5647de6d0row11_col6\" class=\"data row11 col6\" >0</td>\n",
       "                        <td id=\"T_dfe39f3a_5879_11ea_bbdd_acd5647de6d0row11_col7\" class=\"data row11 col7\" >0</td>\n",
       "                        <td id=\"T_dfe39f3a_5879_11ea_bbdd_acd5647de6d0row11_col8\" class=\"data row11 col8\" >0</td>\n",
       "                        <td id=\"T_dfe39f3a_5879_11ea_bbdd_acd5647de6d0row11_col9\" class=\"data row11 col9\" >0</td>\n",
       "                        <td id=\"T_dfe39f3a_5879_11ea_bbdd_acd5647de6d0row11_col10\" class=\"data row11 col10\" >0</td>\n",
       "                        <td id=\"T_dfe39f3a_5879_11ea_bbdd_acd5647de6d0row11_col11\" class=\"data row11 col11\" >1</td>\n",
       "                        <td id=\"T_dfe39f3a_5879_11ea_bbdd_acd5647de6d0row11_col12\" class=\"data row11 col12\" >0</td>\n",
       "            </tr>\n",
       "            <tr>\n",
       "                        <th id=\"T_dfe39f3a_5879_11ea_bbdd_acd5647de6d0level0_row12\" class=\"row_heading level0 row12\" >SB</th>\n",
       "                        <td id=\"T_dfe39f3a_5879_11ea_bbdd_acd5647de6d0row12_col0\" class=\"data row12 col0\" >0</td>\n",
       "                        <td id=\"T_dfe39f3a_5879_11ea_bbdd_acd5647de6d0row12_col1\" class=\"data row12 col1\" >0</td>\n",
       "                        <td id=\"T_dfe39f3a_5879_11ea_bbdd_acd5647de6d0row12_col2\" class=\"data row12 col2\" >0</td>\n",
       "                        <td id=\"T_dfe39f3a_5879_11ea_bbdd_acd5647de6d0row12_col3\" class=\"data row12 col3\" >0</td>\n",
       "                        <td id=\"T_dfe39f3a_5879_11ea_bbdd_acd5647de6d0row12_col4\" class=\"data row12 col4\" >0</td>\n",
       "                        <td id=\"T_dfe39f3a_5879_11ea_bbdd_acd5647de6d0row12_col5\" class=\"data row12 col5\" >0</td>\n",
       "                        <td id=\"T_dfe39f3a_5879_11ea_bbdd_acd5647de6d0row12_col6\" class=\"data row12 col6\" >0</td>\n",
       "                        <td id=\"T_dfe39f3a_5879_11ea_bbdd_acd5647de6d0row12_col7\" class=\"data row12 col7\" >0</td>\n",
       "                        <td id=\"T_dfe39f3a_5879_11ea_bbdd_acd5647de6d0row12_col8\" class=\"data row12 col8\" >0</td>\n",
       "                        <td id=\"T_dfe39f3a_5879_11ea_bbdd_acd5647de6d0row12_col9\" class=\"data row12 col9\" >0</td>\n",
       "                        <td id=\"T_dfe39f3a_5879_11ea_bbdd_acd5647de6d0row12_col10\" class=\"data row12 col10\" >0</td>\n",
       "                        <td id=\"T_dfe39f3a_5879_11ea_bbdd_acd5647de6d0row12_col11\" class=\"data row12 col11\" >0</td>\n",
       "                        <td id=\"T_dfe39f3a_5879_11ea_bbdd_acd5647de6d0row12_col12\" class=\"data row12 col12\" >1</td>\n",
       "            </tr>\n",
       "    </tbody></table>"
      ],
      "text/plain": [
       "<pandas.io.formats.style.Styler at 0x215f1497d48>"
      ]
     },
     "execution_count": 8,
     "metadata": {},
     "output_type": "execute_result"
    }
   ],
   "source": [
    "#Showing correlation of all the independent variable\n",
    "runtime1 =runtime.iloc[:,1:14]\n",
    "corr = runtime1.corr()\n",
    "corr.style.background_gradient(cmap='viridis').set_precision(2)"
   ]
  },
  {
   "cell_type": "code",
   "execution_count": 9,
   "metadata": {
    "scrolled": false
   },
   "outputs": [],
   "source": [
    "#Normalizing the data\n",
    "def norm(dataset):\n",
    "    scaler = StandardScaler()\n",
    "    newd =scaler.fit_transform(dataset)\n",
    "    return newd"
   ]
  },
  {
   "cell_type": "code",
   "execution_count": 10,
   "metadata": {},
   "outputs": [],
   "source": [
    "runtime_n=runtime"
   ]
  },
  {
   "cell_type": "code",
   "execution_count": 11,
   "metadata": {},
   "outputs": [
    {
     "data": {
      "text/plain": [
       "(241600, 15)"
      ]
     },
     "execution_count": 11,
     "metadata": {},
     "output_type": "execute_result"
    }
   ],
   "source": [
    "#Creating a matrix of all the independent variables\n",
    "xd = np.array(runtime_n)\n",
    "x=xd[:,0:14]\n",
    "x.shape\n",
    "x=pd.DataFrame(x)\n",
    "test=pd.DataFrame(x)\n",
    "x[\"constant\"]=1\n",
    "x=np.array(x)\n",
    "x.shape"
   ]
  },
  {
   "cell_type": "code",
   "execution_count": 12,
   "metadata": {},
   "outputs": [],
   "source": [
    "#Generating a random matrix\n",
    "def theta_gen(x):\n",
    "    theta = np.random.rand(x.shape[1],1)\n",
    "    return theta[0:,]"
   ]
  },
  {
   "cell_type": "code",
   "execution_count": 13,
   "metadata": {},
   "outputs": [],
   "source": [
    "theta = theta_gen(x)"
   ]
  },
  {
   "cell_type": "code",
   "execution_count": 14,
   "metadata": {
    "scrolled": false
   },
   "outputs": [
    {
     "data": {
      "text/html": [
       "<div>\n",
       "<style scoped>\n",
       "    .dataframe tbody tr th:only-of-type {\n",
       "        vertical-align: middle;\n",
       "    }\n",
       "\n",
       "    .dataframe tbody tr th {\n",
       "        vertical-align: top;\n",
       "    }\n",
       "\n",
       "    .dataframe thead th {\n",
       "        text-align: right;\n",
       "    }\n",
       "</style>\n",
       "<table border=\"1\" class=\"dataframe\">\n",
       "  <thead>\n",
       "    <tr style=\"text-align: right;\">\n",
       "      <th></th>\n",
       "      <th>MWG</th>\n",
       "      <th>NWG</th>\n",
       "      <th>KWG</th>\n",
       "      <th>MDIMC</th>\n",
       "      <th>NDIMC</th>\n",
       "      <th>MDIMA</th>\n",
       "      <th>NDIMB</th>\n",
       "      <th>KWI</th>\n",
       "      <th>VWM</th>\n",
       "      <th>VWN</th>\n",
       "      <th>STRM</th>\n",
       "      <th>STRN</th>\n",
       "      <th>SA</th>\n",
       "      <th>SB</th>\n",
       "      <th>Run1 (ms)</th>\n",
       "      <th>Run2 (ms)</th>\n",
       "      <th>Run3 (ms)</th>\n",
       "      <th>Run4 (ms)</th>\n",
       "      <th>runavg (ms)</th>\n",
       "    </tr>\n",
       "  </thead>\n",
       "  <tbody>\n",
       "    <tr>\n",
       "      <td>0</td>\n",
       "      <td>16</td>\n",
       "      <td>16</td>\n",
       "      <td>16</td>\n",
       "      <td>8</td>\n",
       "      <td>8</td>\n",
       "      <td>8</td>\n",
       "      <td>8</td>\n",
       "      <td>2</td>\n",
       "      <td>1</td>\n",
       "      <td>1</td>\n",
       "      <td>0</td>\n",
       "      <td>0</td>\n",
       "      <td>0</td>\n",
       "      <td>0</td>\n",
       "      <td>115.26</td>\n",
       "      <td>115.87</td>\n",
       "      <td>118.55</td>\n",
       "      <td>115.80</td>\n",
       "      <td>116.3700</td>\n",
       "    </tr>\n",
       "    <tr>\n",
       "      <td>1</td>\n",
       "      <td>16</td>\n",
       "      <td>16</td>\n",
       "      <td>16</td>\n",
       "      <td>8</td>\n",
       "      <td>8</td>\n",
       "      <td>8</td>\n",
       "      <td>8</td>\n",
       "      <td>2</td>\n",
       "      <td>1</td>\n",
       "      <td>1</td>\n",
       "      <td>0</td>\n",
       "      <td>0</td>\n",
       "      <td>0</td>\n",
       "      <td>1</td>\n",
       "      <td>78.13</td>\n",
       "      <td>78.25</td>\n",
       "      <td>79.25</td>\n",
       "      <td>79.19</td>\n",
       "      <td>78.7050</td>\n",
       "    </tr>\n",
       "    <tr>\n",
       "      <td>2</td>\n",
       "      <td>16</td>\n",
       "      <td>16</td>\n",
       "      <td>16</td>\n",
       "      <td>8</td>\n",
       "      <td>8</td>\n",
       "      <td>8</td>\n",
       "      <td>8</td>\n",
       "      <td>2</td>\n",
       "      <td>1</td>\n",
       "      <td>1</td>\n",
       "      <td>0</td>\n",
       "      <td>0</td>\n",
       "      <td>1</td>\n",
       "      <td>0</td>\n",
       "      <td>79.84</td>\n",
       "      <td>80.69</td>\n",
       "      <td>80.76</td>\n",
       "      <td>80.97</td>\n",
       "      <td>80.5650</td>\n",
       "    </tr>\n",
       "    <tr>\n",
       "      <td>3</td>\n",
       "      <td>16</td>\n",
       "      <td>16</td>\n",
       "      <td>16</td>\n",
       "      <td>8</td>\n",
       "      <td>8</td>\n",
       "      <td>8</td>\n",
       "      <td>8</td>\n",
       "      <td>2</td>\n",
       "      <td>1</td>\n",
       "      <td>1</td>\n",
       "      <td>0</td>\n",
       "      <td>0</td>\n",
       "      <td>1</td>\n",
       "      <td>1</td>\n",
       "      <td>84.32</td>\n",
       "      <td>89.90</td>\n",
       "      <td>86.75</td>\n",
       "      <td>85.58</td>\n",
       "      <td>86.6375</td>\n",
       "    </tr>\n",
       "    <tr>\n",
       "      <td>4</td>\n",
       "      <td>16</td>\n",
       "      <td>16</td>\n",
       "      <td>16</td>\n",
       "      <td>8</td>\n",
       "      <td>8</td>\n",
       "      <td>8</td>\n",
       "      <td>8</td>\n",
       "      <td>2</td>\n",
       "      <td>1</td>\n",
       "      <td>1</td>\n",
       "      <td>0</td>\n",
       "      <td>1</td>\n",
       "      <td>0</td>\n",
       "      <td>0</td>\n",
       "      <td>115.13</td>\n",
       "      <td>121.98</td>\n",
       "      <td>122.73</td>\n",
       "      <td>114.81</td>\n",
       "      <td>118.6625</td>\n",
       "    </tr>\n",
       "  </tbody>\n",
       "</table>\n",
       "</div>"
      ],
      "text/plain": [
       "   MWG  NWG  KWG  MDIMC  NDIMC  MDIMA  NDIMB  KWI  VWM  VWN  STRM  STRN  SA  \\\n",
       "0   16   16   16      8      8      8      8    2    1    1     0     0   0   \n",
       "1   16   16   16      8      8      8      8    2    1    1     0     0   0   \n",
       "2   16   16   16      8      8      8      8    2    1    1     0     0   1   \n",
       "3   16   16   16      8      8      8      8    2    1    1     0     0   1   \n",
       "4   16   16   16      8      8      8      8    2    1    1     0     1   0   \n",
       "\n",
       "   SB  Run1 (ms)  Run2 (ms)  Run3 (ms)  Run4 (ms)  runavg (ms)  \n",
       "0   0     115.26     115.87     118.55     115.80     116.3700  \n",
       "1   1      78.13      78.25      79.25      79.19      78.7050  \n",
       "2   0      79.84      80.69      80.76      80.97      80.5650  \n",
       "3   1      84.32      89.90      86.75      85.58      86.6375  \n",
       "4   0     115.13     121.98     122.73     114.81     118.6625  "
      ]
     },
     "execution_count": 14,
     "metadata": {},
     "output_type": "execute_result"
    }
   ],
   "source": [
    "#Creating a column which is the average of all the four runtimes\n",
    "runtime[\"runavg (ms)\"] = (runtime[\"Run1 (ms)\"]+runtime[\"Run2 (ms)\"]+runtime[\"Run3 (ms)\"]+runtime[\"Run4 (ms)\"])/4\n",
    "runtime.head()"
   ]
  },
  {
   "cell_type": "code",
   "execution_count": 15,
   "metadata": {
    "scrolled": true
   },
   "outputs": [
    {
     "data": {
      "text/plain": [
       "<matplotlib.axes._subplots.AxesSubplot at 0x215f1615bc8>"
      ]
     },
     "execution_count": 15,
     "metadata": {},
     "output_type": "execute_result"
    },
    {
     "data": {
      "image/png": "[encoded data removed]",
      "text/plain": [
       "<Figure size 432x288 with 1 Axes>"
      ]
     },
     "metadata": {
      "needs_background": "light"
     },
     "output_type": "display_data"
    }
   ],
   "source": [
    "sns.distplot(runtime[\"runavg (ms)\"] )"
   ]
  },
  {
   "cell_type": "code",
   "execution_count": 16,
   "metadata": {
    "scrolled": true
   },
   "outputs": [
    {
     "data": {
      "text/plain": [
       "<matplotlib.axes._subplots.AxesSubplot at 0x215f3613d08>"
      ]
     },
     "execution_count": 16,
     "metadata": {},
     "output_type": "execute_result"
    },
    {
     "data": {
      "image/png": "[encoded data removed]",
      "text/plain": [
       "<Figure size 432x288 with 1 Axes>"
      ]
     },
     "metadata": {
      "needs_background": "light"
     },
     "output_type": "display_data"
    }
   ],
   "source": [
    "#Boxplot showing the range of variables\n",
    "runtime2 = runtime.iloc[:,0:7]\n",
    "runtime2.plot.box(grid='True')"
   ]
  },
  {
   "cell_type": "code",
   "execution_count": 17,
   "metadata": {
    "scrolled": true
   },
   "outputs": [
    {
     "data": {
      "text/plain": [
       "<matplotlib.axes._subplots.AxesSubplot at 0x215f43a86c8>"
      ]
     },
     "execution_count": 17,
     "metadata": {},
     "output_type": "execute_result"
    },
    {
     "data": {
      "image/png": "[encoded data removed]",
      "text/plain": [
       "<Figure size 432x288 with 1 Axes>"
      ]
     },
     "metadata": {
      "needs_background": "light"
     },
     "output_type": "display_data"
    }
   ],
   "source": [
    "runtime2 = runtime.iloc[:,7:14]\n",
    "runtime2.plot.box(grid='True')"
   ]
  },
  {
   "cell_type": "code",
   "execution_count": 18,
   "metadata": {},
   "outputs": [
    {
     "data": {
      "text/plain": [
       "<bound method NDFrame.describe of         MWG  NWG  KWG  MDIMC  NDIMC  MDIMA  NDIMB  KWI  VWM  VWN  STRM  STRN  \\\n",
       "0        16   16   16      8      8      8      8    2    1    1     0     0   \n",
       "1        16   16   16      8      8      8      8    2    1    1     0     0   \n",
       "2        16   16   16      8      8      8      8    2    1    1     0     0   \n",
       "3        16   16   16      8      8      8      8    2    1    1     0     0   \n",
       "4        16   16   16      8      8      8      8    2    1    1     0     1   \n",
       "...     ...  ...  ...    ...    ...    ...    ...  ...  ...  ...   ...   ...   \n",
       "241595  128  128   32     32     32     32     32    8    4    4     1     0   \n",
       "241596  128  128   32     32     32     32     32    8    4    4     1     1   \n",
       "241597  128  128   32     32     32     32     32    8    4    4     1     1   \n",
       "241598  128  128   32     32     32     32     32    8    4    4     1     1   \n",
       "241599  128  128   32     32     32     32     32    8    4    4     1     1   \n",
       "\n",
       "        SA  SB  Run1 (ms)  Run2 (ms)  Run3 (ms)  Run4 (ms)  runavg (ms)  \n",
       "0        0   0     115.26     115.87     118.55     115.80     116.3700  \n",
       "1        0   1      78.13      78.25      79.25      79.19      78.7050  \n",
       "2        1   0      79.84      80.69      80.76      80.97      80.5650  \n",
       "3        1   1      84.32      89.90      86.75      85.58      86.6375  \n",
       "4        0   0     115.13     121.98     122.73     114.81     118.6625  \n",
       "...     ..  ..        ...        ...        ...        ...          ...  \n",
       "241595   1   1      17.96      17.77      17.77      17.77      17.8175  \n",
       "241596   0   0      36.04      36.03      36.04      36.03      36.0350  \n",
       "241597   0   1      35.28      34.82      35.27      35.27      35.1600  \n",
       "241598   1   0      28.43      28.49      28.44      28.45      28.4525  \n",
       "241599   1   1      17.94      17.79      17.77      17.77      17.8175  \n",
       "\n",
       "[241600 rows x 19 columns]>"
      ]
     },
     "execution_count": 18,
     "metadata": {},
     "output_type": "execute_result"
    }
   ],
   "source": [
    "runtime.describe"
   ]
  },
  {
   "cell_type": "code",
   "execution_count": 19,
   "metadata": {},
   "outputs": [
    {
     "data": {
      "text/plain": [
       "(241600, 1)"
      ]
     },
     "execution_count": 19,
     "metadata": {},
     "output_type": "execute_result"
    }
   ],
   "source": [
    "#Value to be predicted is run, keeping it in a matrix\n",
    "runs = runtime[\"runavg (ms)\"]/1000\n",
    "run=np.array(runs).reshape([-1,1])\n",
    "run.shape"
   ]
  },
  {
   "cell_type": "code",
   "execution_count": 20,
   "metadata": {},
   "outputs": [
    {
     "data": {
      "text/plain": [
       "0         0.116370\n",
       "1         0.078705\n",
       "2         0.080565\n",
       "3         0.086638\n",
       "4         0.118663\n",
       "            ...   \n",
       "241595    0.017818\n",
       "241596    0.036035\n",
       "241597    0.035160\n",
       "241598    0.028453\n",
       "241599    0.017818\n",
       "Name: runavg (ms), Length: 241600, dtype: float64"
      ]
     },
     "execution_count": 20,
     "metadata": {},
     "output_type": "execute_result"
    }
   ],
   "source": [
    "runs"
   ]
  },
  {
   "cell_type": "markdown",
   "metadata": {},
   "source": [
    "# Linear Regression"
   ]
  },
  {
   "cell_type": "code",
   "execution_count": 18,
   "metadata": {},
   "outputs": [],
   "source": [
    "#Spliting the data into train and test\n",
    "X_train, X_test, y_train, y_test=train_test_split(x, run, train_size=0.70,test_size=0.30, random_state=100)"
   ]
  },
  {
   "cell_type": "code",
   "execution_count": 19,
   "metadata": {},
   "outputs": [],
   "source": [
    "theta = theta_gen(X_train)"
   ]
  },
  {
   "cell_type": "code",
   "execution_count": 20,
   "metadata": {},
   "outputs": [],
   "source": [
    "X_train=norm(X_train)\n",
    "X_test=norm(X_test)\n",
    "y_train=norm(y_train)\n",
    "y_test=norm(y_test)"
   ]
  },
  {
   "cell_type": "code",
   "execution_count": 21,
   "metadata": {},
   "outputs": [
    {
     "data": {
      "text/plain": [
       "(72480, 15)"
      ]
     },
     "execution_count": 21,
     "metadata": {},
     "output_type": "execute_result"
    }
   ],
   "source": [
    "X_test.shape"
   ]
  },
  {
   "cell_type": "code",
   "execution_count": 54,
   "metadata": {},
   "outputs": [],
   "source": [
    "#Setting up the Cost function\n",
    "#Here x is the independent variable, y is the dependent variable and theta is the randomly generated numbers\n",
    "\n",
    "def Cost(x,y,theta):\n",
    "    m=len(runtime.axes[0])\n",
    "    the1 = np.matmul(x,theta)\n",
    "    Cost1=sum(np.subtract((the1),y)**2)\n",
    "    Cost=Cost1/(2*m)\n",
    "    return(Cost)  "
   ]
  },
  {
   "cell_type": "code",
   "execution_count": 55,
   "metadata": {},
   "outputs": [],
   "source": [
    "#Implementing gradient Descent function\n",
    "def gradesc(x,y,theta,alpha,total):\n",
    "    m=len(runtime.axes[0])\n",
    "    xt = x.transpose()\n",
    "    j=[0]*total\n",
    "    for i in range(total):\n",
    "        the2 =np.subtract((np.matmul(x,theta)),y)       \n",
    "        the3=np.matmul(x.transpose(),the2)\n",
    "        theta = np.subtract(theta , alpha*(1/m)*the3)\n",
    "        theta0=theta[-1]\n",
    "        j[i] = Cost(x,y,theta)\n",
    "    finalj=(theta, j)\n",
    "    return(finalj)"
   ]
  },
  {
   "cell_type": "code",
   "execution_count": 406,
   "metadata": {
    "scrolled": true
   },
   "outputs": [],
   "source": [
    "alpha = .001 \n",
    "total =3000\n",
    "finalj = gradesc(X_train, y_train, theta, alpha, total)"
   ]
  },
  {
   "cell_type": "code",
   "execution_count": 407,
   "metadata": {},
   "outputs": [],
   "source": [
    "theta=finalj[0]\n",
    "cost=finalj[1]"
   ]
  },
  {
   "cell_type": "code",
   "execution_count": 408,
   "metadata": {
    "scrolled": true
   },
   "outputs": [
    {
     "data": {
      "text/plain": [
       "[<matplotlib.lines.Line2D at 0x205020bd488>]"
      ]
     },
     "execution_count": 408,
     "metadata": {},
     "output_type": "execute_result"
    },
    {
     "data": {
      "image/png": "[encoded data removed]",
      "text/plain": [
       "<Figure size 432x288 with 1 Axes>"
      ]
     },
     "metadata": {
      "needs_background": "light"
     },
     "output_type": "display_data"
    }
   ],
   "source": [
    "plt.plot(cost) # 0.33"
   ]
  },
  {
   "cell_type": "code",
   "execution_count": 409,
   "metadata": {},
   "outputs": [
    {
     "data": {
      "text/plain": [
       "array([0.27528326])"
      ]
     },
     "execution_count": 409,
     "metadata": {},
     "output_type": "execute_result"
    }
   ],
   "source": [
    "cost[2999]"
   ]
  },
  {
   "cell_type": "code",
   "execution_count": 37,
   "metadata": {},
   "outputs": [
    {
     "name": "stdout",
     "output_type": "stream",
     "text": [
      "                            OLS Regression Results                            \n",
      "==============================================================================\n",
      "Dep. Variable:                      y   R-squared:                       0.407\n",
      "Model:                            OLS   Adj. R-squared:                  0.407\n",
      "Method:                 Least Squares   F-statistic:                     8287.\n",
      "Date:                Tue, 11 Feb 2020   Prob (F-statistic):               0.00\n",
      "Time:                        20:47:40   Log-Likelihood:            -1.9621e+05\n",
      "No. Observations:              169120   AIC:                         3.924e+05\n",
      "Df Residuals:                  169105   BIC:                         3.926e+05\n",
      "Df Model:                          14                                         \n",
      "Covariance Type:            nonrobust                                         \n",
      "==============================================================================\n",
      "                 coef    std err          t      P>|t|      [0.025      0.975]\n",
      "------------------------------------------------------------------------------\n",
      "x1             0.3819      0.002    182.493      0.000       0.378       0.386\n",
      "x2             0.3550      0.002    169.978      0.000       0.351       0.359\n",
      "x3             0.1115      0.002     57.226      0.000       0.108       0.115\n",
      "x4            -0.3556      0.002   -173.791      0.000      -0.360      -0.352\n",
      "x5            -0.3507      0.002   -170.906      0.000      -0.355      -0.347\n",
      "x6             0.0272      0.002     13.405      0.000       0.023       0.031\n",
      "x7             0.0285      0.002     14.035      0.000       0.024       0.032\n",
      "x8             0.0322      0.002     17.172      0.000       0.029       0.036\n",
      "x9            -0.0059      0.002     -2.807      0.005      -0.010      -0.002\n",
      "x10           -0.0166      0.002     -7.840      0.000      -0.021      -0.012\n",
      "x11           -0.0118      0.002     -6.306      0.000      -0.016      -0.008\n",
      "x12         3.134e-05      0.002      0.017      0.987      -0.004       0.004\n",
      "x13            0.0523      0.002     27.845      0.000       0.049       0.056\n",
      "x14            0.0649      0.002     34.564      0.000       0.061       0.069\n",
      "const          0.0013      0.002      0.715      0.474      -0.002       0.005\n",
      "==============================================================================\n",
      "Omnibus:                   128738.260   Durbin-Watson:                   2.003\n",
      "Prob(Omnibus):                  0.000   Jarque-Bera (JB):          2938587.785\n",
      "Skew:                           3.526   Prob(JB):                         0.00\n",
      "Kurtosis:                      22.165   Cond. No.                         1.70\n",
      "==============================================================================\n",
      "\n",
      "Warnings:\n",
      "[1] Standard Errors assume that the covariance matrix of the errors is correctly specified.\n"
     ]
    }
   ],
   "source": [
    "#Linear Reg inbuilt func output\n",
    "pred = sm.OLS(y_train, X_train)\n",
    "pred2 = pred.fit()\n",
    "print(pred2.summary())"
   ]
  },
  {
   "cell_type": "code",
   "execution_count": 455,
   "metadata": {},
   "outputs": [],
   "source": [
    "#Predicting run time values using theta from gradient descent function\n",
    "def predict_f(X_test, theta):\n",
    "    predicted_val = X_test.dot(theta);\n",
    "    return predicted_val;"
   ]
  },
  {
   "cell_type": "code",
   "execution_count": 411,
   "metadata": {},
   "outputs": [],
   "source": [
    "#calculating predicted values\n",
    "ypred=predict_f(X_test,theta)"
   ]
  },
  {
   "cell_type": "code",
   "execution_count": 412,
   "metadata": {},
   "outputs": [
    {
     "data": {
      "text/plain": [
       "0.7688947566917249"
      ]
     },
     "execution_count": 412,
     "metadata": {},
     "output_type": "execute_result"
    }
   ],
   "source": [
    "#RMSE calculated using inbuilt function and inbuilt values of reg\n",
    "regressor = LinearRegression()  \n",
    "regressor.fit(X_train, y_train)\n",
    "y_pred = regressor.predict(X_test)\n",
    "error = y_pred-y_test\n",
    "math.sqrt(sum(error*error)/len(error))"
   ]
  },
  {
   "cell_type": "code",
   "execution_count": 453,
   "metadata": {},
   "outputs": [],
   "source": [
    "#Finding all the regression metrics\n",
    "def regression_results(y_test, ypred):\n",
    "    # Regression metrics\n",
    "    explained_variance=metrics.explained_variance_score(y_test, ypred)\n",
    "    mean_absolute_error=metrics.mean_absolute_error(y_test, ypred) \n",
    "    mse=metrics.mean_squared_error(y_test, ypred) \n",
    "    #mean_squared_log_error=metrics.mean_squared_log_error(y_test, ypred)\n",
    "    median_absolute_error=metrics.median_absolute_error(y_test, ypred)\n",
    "    r2=metrics.r2_score(y_test, ypred)\n",
    "\n",
    "    print('explained_variance: ', round(explained_variance,4))    \n",
    "    #print('mean_squared_log_error: ', round(mean_squared_log_error,4))\n",
    "    print('r2: ', round(r2,4))\n",
    "    print('MAE: ', round(mean_absolute_error,4))\n",
    "    print('MSE: ', round(mse,4))\n",
    "    print('RMSE: ', round(np.sqrt(mse),4))"
   ]
  },
  {
   "cell_type": "code",
   "execution_count": 414,
   "metadata": {
    "scrolled": false
   },
   "outputs": [
    {
     "name": "stdout",
     "output_type": "stream",
     "text": [
      "explained_variance:  0.2092\n",
      "r2:  0.2092\n",
      "MAE:  0.5683\n",
      "MSE:  0.7908\n",
      "RMSE:  0.8893\n"
     ]
    }
   ],
   "source": [
    "regression_results(y_test, ypred)"
   ]
  },
  {
   "cell_type": "code",
   "execution_count": 415,
   "metadata": {},
   "outputs": [
    {
     "name": "stdout",
     "output_type": "stream",
     "text": [
      "explained_variance:  0.2135\n",
      "r2:  0.2135\n",
      "MAE:  0.5654\n",
      "MSE:  0.7865\n",
      "RMSE:  0.8869\n"
     ]
    }
   ],
   "source": [
    "xx = np.matmul(X_train,theta)\n",
    "regression_results(y_train, xx)"
   ]
  },
  {
   "cell_type": "code",
   "execution_count": 677,
   "metadata": {},
   "outputs": [
    {
     "name": "stderr",
     "output_type": "stream",
     "text": [
      "C:\\Users\\ikapo\\Anaconda3\\lib\\site-packages\\ipykernel_launcher.py:6: SettingWithCopyWarning: \n",
      "A value is trying to be set on a copy of a slice from a DataFrame.\n",
      "Try using .loc[row_indexer,col_indexer] = value instead\n",
      "\n",
      "See the caveats in the documentation: http://pandas.pydata.org/pandas-docs/stable/user_guide/indexing.html#returning-a-view-versus-a-copy\n",
      "  \n"
     ]
    },
    {
     "data": {
      "image/png": "[encoded data removed]",
      "text/plain": [
       "<Figure size 432x288 with 1 Axes>"
      ]
     },
     "metadata": {
      "needs_background": "light"
     },
     "output_type": "display_data"
    }
   ],
   "source": [
    "#Plotting y_hat and y_pred\n",
    "y_data_lin = np.concatenate((y_test, ypred), axis=1)\n",
    "y_data_lin = pd.DataFrame(y_data_lin)\n",
    "y_data_lin.columns = [\"Run_actual\",\"Run_predicted\"]\n",
    "y_data_lin_plot = y_data_lin.head(10)\n",
    "y_data_lin_plot[\"index\"] = range(1,11)\n",
    "fig, ax = plt.subplots()\n",
    "y_data_lin_plot.plot.bar(x = 'index', y = ['Run_actual', 'Run_predicted'], rot = 40, ax = ax)\n",
    "for p in ax.patches: \n",
    "    ax.annotate(np.round(p.get_height(),decimals=2), (p.get_x()+p.get_width()/2., p.get_height()))"
   ]
  },
  {
   "cell_type": "markdown",
   "metadata": {},
   "source": [
    "# Logistic Regression"
   ]
  },
  {
   "cell_type": "code",
   "execution_count": 21,
   "metadata": {},
   "outputs": [
    {
     "data": {
      "text/plain": [
       "0.06979"
      ]
     },
     "execution_count": 21,
     "metadata": {},
     "output_type": "execute_result"
    }
   ],
   "source": [
    "#Calculating the median of the dependent variable\n",
    "runs1=pd.DataFrame(runs)\n",
    "med_r=statistics.median(runs)\n",
    "med_r"
   ]
  },
  {
   "cell_type": "code",
   "execution_count": 42,
   "metadata": {
    "scrolled": true
   },
   "outputs": [],
   "source": [
    "#Creating DataSet:\n",
    "#Making a column, where run>med,1,0\n",
    "import statistics\n",
    "runs1[\"log_run\"] = np.where(runs1['runavg (ms)']>med_r, 1.0, 0.0)\n",
    "runs2=runs1.iloc[:,1]\n",
    "runs2=np.array(runs2)\n",
    "runs2=runs2.reshape([-1,1])"
   ]
  },
  {
   "cell_type": "code",
   "execution_count": 43,
   "metadata": {},
   "outputs": [],
   "source": [
    "#Splitting the datset, into train and test\n",
    "X_train_l, X_test_l, y_train_l, y_test_l=train_test_split(x, runs2, train_size=0.70,test_size=0.30, random_state=100)"
   ]
  },
  {
   "cell_type": "code",
   "execution_count": 44,
   "metadata": {},
   "outputs": [],
   "source": [
    "#Normalising Data\n",
    "X_train_l=norm(X_train_l)\n",
    "X_test_l=norm(X_test_l)"
   ]
  },
  {
   "cell_type": "code",
   "execution_count": 48,
   "metadata": {},
   "outputs": [],
   "source": [
    "#Sigmoid function\n",
    "def sigmoid(x):\n",
    "    return 1 / (1 + np.exp(-x))"
   ]
  },
  {
   "cell_type": "code",
   "execution_count": 49,
   "metadata": {},
   "outputs": [],
   "source": [
    "#cost function\n",
    "def compute_cost(X, y, theta):\n",
    "    m = len(y)\n",
    "    h = sigmoid(X @ theta)\n",
    "    epsilon = 1e-5\n",
    "    cost = (1/m)*(((-y).T @ np.log(h + epsilon))-((1-y).T @ np.log(1-h + epsilon)))\n",
    "    return cost"
   ]
  },
  {
   "cell_type": "code",
   "execution_count": 50,
   "metadata": {},
   "outputs": [],
   "source": [
    "#Gradient descent\n",
    "def gradient_descent(X, y, params, alpha, total):\n",
    "    m = len(y)\n",
    "    cost_history = np.zeros((total,1))\n",
    "\n",
    "    for i in range(total):\n",
    "        params = params - (alpha/m) * (X.T @ (sigmoid(X @ params) - y)) \n",
    "        cost_history[i] = compute_cost(X, y, params)\n",
    "\n",
    "    return (cost_history, params)"
   ]
  },
  {
   "cell_type": "code",
   "execution_count": 51,
   "metadata": {},
   "outputs": [],
   "source": [
    "def predict(X, params):\n",
    "    return np.round(sigmoid(X @ params))"
   ]
  },
  {
   "cell_type": "code",
   "execution_count": 435,
   "metadata": {},
   "outputs": [],
   "source": [
    "m = len(runs)\n",
    "n = np.size(x,1)\n",
    "params = np.random.rand(n,1) #betas\n",
    "total = 5000\n",
    "learning_rate = 0.01\n",
    "\n",
    "initial_cost = compute_cost(X_train_l, y_train_l, params)\n",
    "(cost_history, params_optimal) = gradient_descent(X_train_l, y_train_l, params, learning_rate, total)\n",
    "y_predl = predict(X_test_l, params_optimal)"
   ]
  },
  {
   "cell_type": "code",
   "execution_count": 436,
   "metadata": {},
   "outputs": [
    {
     "data": {
      "text/plain": [
       "array([0.47863404])"
      ]
     },
     "execution_count": 436,
     "metadata": {},
     "output_type": "execute_result"
    },
    {
     "data": {
      "image/png": "[encoded data removed]",
      "text/plain": [
       "<Figure size 432x288 with 1 Axes>"
      ]
     },
     "metadata": {
      "needs_background": "light"
     },
     "output_type": "display_data"
    }
   ],
   "source": [
    "plt.plot(cost_history)\n",
    "cost_history[4999]"
   ]
  },
  {
   "cell_type": "code",
   "execution_count": 438,
   "metadata": {
    "scrolled": true
   },
   "outputs": [
    {
     "name": "stdout",
     "output_type": "stream",
     "text": [
      "[[29601  6605]\n",
      " [ 7052 29222]]\n"
     ]
    }
   ],
   "source": [
    "confusion_matrix = confusion_matrix(y_test_l, y_predl)\n",
    "print(confusion_matrix)"
   ]
  },
  {
   "cell_type": "code",
   "execution_count": 111,
   "metadata": {},
   "outputs": [
    {
     "data": {
      "text/plain": [
       "array([[0.],\n",
       "       [0.],\n",
       "       [0.],\n",
       "       ...,\n",
       "       [0.],\n",
       "       [1.],\n",
       "       [0.]])"
      ]
     },
     "execution_count": 111,
     "metadata": {},
     "output_type": "execute_result"
    }
   ],
   "source": [
    "y_predl"
   ]
  },
  {
   "cell_type": "code",
   "execution_count": 439,
   "metadata": {},
   "outputs": [],
   "source": [
    "y_pred_tr=predict(X_train_l,params_optimal)\n",
    "#y_pred_tr = np.round(np.matmul(X_train_l,params_optimal))\n",
    "#y_pred_tr.shape"
   ]
  },
  {
   "cell_type": "code",
   "execution_count": 113,
   "metadata": {},
   "outputs": [
    {
     "data": {
      "text/plain": [
       "169120"
      ]
     },
     "execution_count": 113,
     "metadata": {},
     "output_type": "execute_result"
    }
   ],
   "source": [
    "len(y_pred_tr)"
   ]
  },
  {
   "cell_type": "code",
   "execution_count": 440,
   "metadata": {},
   "outputs": [
    {
     "name": "stdout",
     "output_type": "stream",
     "text": [
      "[[68805 15790]\n",
      " [16491 68034]]\n"
     ]
    }
   ],
   "source": [
    "#y_pred_tr = np.matmul(X_train_l,params_optimal)\n",
    "from sklearn.metrics import confusion_matrix\n",
    "confusion_matrix = (confusion_matrix(y_train_l, y_pred_tr))\n",
    "print(confusion_matrix)"
   ]
  },
  {
   "cell_type": "code",
   "execution_count": 691,
   "metadata": {},
   "outputs": [
    {
     "name": "stderr",
     "output_type": "stream",
     "text": [
      "C:\\Users\\ikapo\\Anaconda3\\lib\\site-packages\\ipykernel_launcher.py:6: SettingWithCopyWarning: \n",
      "A value is trying to be set on a copy of a slice from a DataFrame.\n",
      "Try using .loc[row_indexer,col_indexer] = value instead\n",
      "\n",
      "See the caveats in the documentation: http://pandas.pydata.org/pandas-docs/stable/user_guide/indexing.html#returning-a-view-versus-a-copy\n",
      "  \n"
     ]
    },
    {
     "data": {
      "image/png": "[encoded data removed]",
      "text/plain": [
       "<Figure size 432x288 with 1 Axes>"
      ]
     },
     "metadata": {
      "needs_background": "light"
     },
     "output_type": "display_data"
    }
   ],
   "source": [
    "#Plotting y_hat and y_pred\n",
    "y_data = np.concatenate((y_test_l, y_predl), axis=1)\n",
    "y_data = pd.DataFrame(y_data)\n",
    "y_data.columns = [\"Run_actual\",\"Run_predicted\"]\n",
    "y_data_plot = y_data.head(10)\n",
    "y_data_plot[\"index\"] = range(1,11)\n",
    "fig, ax = plt.subplots()\n",
    "y_data_plot.plot.bar(x = 'index', y = ['Run_actual', 'Run_predicted'], rot = 40, ax = ax)\n",
    "for p in ax.patches: \n",
    "    ax.annotate(np.round(p.get_height(),decimals=2), (p.get_x()+p.get_width()/2., p.get_height()))"
   ]
  },
  {
   "cell_type": "markdown",
   "metadata": {},
   "source": [
    "## Experiment 1"
   ]
  },
  {
   "cell_type": "markdown",
   "metadata": {},
   "source": [
    "#### Ques : Experiment with various parameters for linear and logistic regression (e.g. learning rate ∝) and report on your findings as how the error/accuracy varies for train and test sets with varying these parameters. Plot the results. Report the best values of the parameters."
   ]
  },
  {
   "cell_type": "markdown",
   "metadata": {},
   "source": [
    "### Linear Regression"
   ]
  },
  {
   "cell_type": "markdown",
   "metadata": {},
   "source": [
    "### Case 1: Above case :  alpha = .001  total =3000 explained_variance:  0.3967 r2:  0.3967 MAE:   0.4665 MSE:  0.5964 RMSE of the function: 0.7723 RMSE of inbuilt model : 0.7645157928830532, cost converging at : 0.21"
   ]
  },
  {
   "cell_type": "markdown",
   "metadata": {},
   "source": [
    "### Case2: When we look at the p-value we can see that x12 which is STRN is not significant with p-value 0.987. Therefore we will build a model by removing this variable and then check the results."
   ]
  },
  {
   "cell_type": "code",
   "execution_count": 441,
   "metadata": {},
   "outputs": [],
   "source": [
    "#Function for converting the independent variables dataset into a datframe and doing manipulations\n",
    "def manu_data(dataset):\n",
    "    x_ind = pd.DataFrame(dataset)\n",
    "    x_ind.columns = [\"MWG\",\"NWG\",\"KWG\",\"MDIMC\",\"NDIMC\",\"MDIMA\",\"NDIMB\",\"KWI\",\"VWM\",\"VWN\",\"STRM\",\"STRN\",\"SA\",\"SB\",\"constant\"]\n",
    "    return x_ind"
   ]
  },
  {
   "cell_type": "code",
   "execution_count": 442,
   "metadata": {},
   "outputs": [],
   "source": [
    "#Dropping column STRN from the dataset\n",
    "x_ind=manu_data(x)\n",
    "x_mod = x_ind.drop(columns=['STRN'])\n",
    "#Converting it into an array\n",
    "x_mod=np.array(x_mod)\n",
    "#Splitting the data\n",
    "X_train, X_test, y_train, y_test=train_test_split(x_mod, run, train_size=0.70,test_size=0.30, random_state=100)"
   ]
  },
  {
   "cell_type": "code",
   "execution_count": 443,
   "metadata": {},
   "outputs": [],
   "source": [
    "X_train=norm(X_train)\n",
    "X_test=norm(X_test)\n",
    "y_train=norm(y_train)\n",
    "y_test=norm(y_test)"
   ]
  },
  {
   "cell_type": "code",
   "execution_count": 445,
   "metadata": {},
   "outputs": [],
   "source": [
    "#generating theta\n",
    "theta_e=theta_gen(X_train)"
   ]
  },
  {
   "cell_type": "code",
   "execution_count": 446,
   "metadata": {
    "scrolled": true
   },
   "outputs": [],
   "source": [
    "#Finding cost and thetas\n",
    "alpha = .001 \n",
    "total =5000\n",
    "finalj1 = gradesc(X_train, y_train, theta_e, alpha, total)\n",
    "cost_e1 = finalj1[1]\n",
    "theta_e1 = finalj1[0]"
   ]
  },
  {
   "cell_type": "code",
   "execution_count": 448,
   "metadata": {},
   "outputs": [
    {
     "name": "stdout",
     "output_type": "stream",
     "text": [
      "[[ 0.36057762]\n",
      " [ 0.26788914]\n",
      " [ 0.07002085]\n",
      " [-0.27338809]\n",
      " [-0.2461213 ]\n",
      " [-0.00167938]\n",
      " [ 0.05300984]\n",
      " [ 0.03198866]\n",
      " [ 0.01881344]\n",
      " [ 0.08674441]\n",
      " [ 0.00807217]\n",
      " [ 0.07623254]\n",
      " [ 0.07957535]\n",
      " [ 0.83438636]]\n",
      "Cost is : [0.21534475]\n"
     ]
    }
   ],
   "source": [
    "print(theta_e1)\n",
    "#Converging point\n",
    "print(\"Cost is :\" ,cost_e1[4999])"
   ]
  },
  {
   "cell_type": "code",
   "execution_count": 450,
   "metadata": {
    "scrolled": true
   },
   "outputs": [
    {
     "data": {
      "text/plain": [
       "[<matplotlib.lines.Line2D at 0x2050d20f708>]"
      ]
     },
     "execution_count": 450,
     "metadata": {},
     "output_type": "execute_result"
    },
    {
     "data": {
      "image/png": "[encoded data removed]",
      "text/plain": [
       "<Figure size 432x288 with 1 Axes>"
      ]
     },
     "metadata": {
      "needs_background": "light"
     },
     "output_type": "display_data"
    }
   ],
   "source": [
    "#plotting the cost\n",
    "plt.plot(cost_e1)"
   ]
  },
  {
   "cell_type": "code",
   "execution_count": 451,
   "metadata": {},
   "outputs": [
    {
     "name": "stdout",
     "output_type": "stream",
     "text": [
      "                                 OLS Regression Results                                \n",
      "=======================================================================================\n",
      "Dep. Variable:                      y   R-squared (uncentered):                   0.407\n",
      "Model:                            OLS   Adj. R-squared (uncentered):              0.407\n",
      "Method:                 Least Squares   F-statistic:                              8924.\n",
      "Date:                Wed, 12 Feb 2020   Prob (F-statistic):                        0.00\n",
      "Time:                        17:13:39   Log-Likelihood:                     -1.9580e+05\n",
      "No. Observations:              169120   AIC:                                  3.916e+05\n",
      "Df Residuals:                  169107   BIC:                                  3.918e+05\n",
      "Df Model:                          13                                                  \n",
      "Covariance Type:            nonrobust                                                  \n",
      "==============================================================================\n",
      "                 coef    std err          t      P>|t|      [0.025      0.975]\n",
      "------------------------------------------------------------------------------\n",
      "x1             0.3808      0.002    182.494      0.000       0.377       0.385\n",
      "x2             0.3543      0.002    169.979      0.000       0.350       0.358\n",
      "x3             0.1113      0.002     57.227      0.000       0.107       0.115\n",
      "x4            -0.3557      0.002   -173.792      0.000      -0.360      -0.352\n",
      "x5            -0.3500      0.002   -170.907      0.000      -0.354      -0.346\n",
      "x6             0.0271      0.002     13.405      0.000       0.023       0.031\n",
      "x7             0.0284      0.002     14.035      0.000       0.024       0.032\n",
      "x8             0.0322      0.002     17.172      0.000       0.028       0.036\n",
      "x9            -0.0059      0.002     -2.807      0.005      -0.010      -0.002\n",
      "x10           -0.0165      0.002     -7.840      0.000      -0.021      -0.012\n",
      "x11           -0.0118      0.002     -6.306      0.000      -0.015      -0.008\n",
      "x12            0.0521      0.002     27.845      0.000       0.048       0.056\n",
      "x13            0.0647      0.002     34.565      0.000       0.061       0.068\n",
      "const               0          0        nan        nan           0           0\n",
      "==============================================================================\n",
      "Omnibus:                   128738.280   Durbin-Watson:                   2.003\n",
      "Prob(Omnibus):                  0.000   Jarque-Bera (JB):          2938587.527\n",
      "Skew:                           3.526   Prob(JB):                         0.00\n",
      "Kurtosis:                      22.165   Cond. No.                          inf\n",
      "==============================================================================\n",
      "\n",
      "Warnings:\n",
      "[1] Standard Errors assume that the covariance matrix of the errors is correctly specified.\n",
      "[2] The smallest eigenvalue is      0. This might indicate that there are\n",
      "strong multicollinearity problems or that the design matrix is singular.\n"
     ]
    },
    {
     "name": "stderr",
     "output_type": "stream",
     "text": [
      "C:\\Users\\ikapo\\Anaconda3\\lib\\site-packages\\statsmodels\\regression\\linear_model.py:1755: RuntimeWarning: divide by zero encountered in double_scalars\n",
      "  return np.sqrt(eigvals[0]/eigvals[-1])\n",
      "C:\\Users\\ikapo\\Anaconda3\\lib\\site-packages\\statsmodels\\base\\model.py:1294: RuntimeWarning: invalid value encountered in true_divide\n",
      "  return self.params / self.bse\n",
      "C:\\Users\\ikapo\\Anaconda3\\lib\\site-packages\\scipy\\stats\\_distn_infrastructure.py:901: RuntimeWarning: invalid value encountered in greater\n",
      "  return (a < x) & (x < b)\n",
      "C:\\Users\\ikapo\\Anaconda3\\lib\\site-packages\\scipy\\stats\\_distn_infrastructure.py:901: RuntimeWarning: invalid value encountered in less\n",
      "  return (a < x) & (x < b)\n",
      "C:\\Users\\ikapo\\Anaconda3\\lib\\site-packages\\scipy\\stats\\_distn_infrastructure.py:1892: RuntimeWarning: invalid value encountered in less_equal\n",
      "  cond2 = cond0 & (x <= _a)\n"
     ]
    }
   ],
   "source": [
    "#Inbuilt regression values\n",
    "pred = sm.OLS(y_train, X_train)\n",
    "pred2 = pred.fit()\n",
    "print(pred2.summary())"
   ]
  },
  {
   "cell_type": "code",
   "execution_count": 456,
   "metadata": {},
   "outputs": [
    {
     "name": "stdout",
     "output_type": "stream",
     "text": [
      "explained_variance:  0.3862\n",
      "r2:  0.3862\n",
      "MAE:  0.4679\n",
      "MSE:  0.6138\n",
      "RMSE:  0.7835\n"
     ]
    }
   ],
   "source": [
    "#Calculating all parameters\n",
    "ypred1=predict_f(X_test,theta_e1)\n",
    "regression_results(y_test, ypred1)"
   ]
  },
  {
   "cell_type": "markdown",
   "metadata": {},
   "source": [
    "##### We can see that as we removed one variable, all the variables are almost the same, R2, RMSE, not much difference, alpha = 0.001, Iteration = 5000 explained_variance:  0.4071 r2:  0.4071 MAE:  0.4728 MSE:  0.5862 RMSE:  0.7656, converging cost : 0.20918236"
   ]
  },
  {
   "cell_type": "markdown",
   "metadata": {},
   "source": [
    "### Case 3 : Changing the value of alpha to 0.01 and iterations to 6000"
   ]
  },
  {
   "cell_type": "code",
   "execution_count": null,
   "metadata": {},
   "outputs": [],
   "source": [
    "X_train=norm(X_train)\n",
    "X_test=norm(X_test)\n",
    "y_train=norm(y_train)\n",
    "y_test=norm(y_test)"
   ]
  },
  {
   "cell_type": "code",
   "execution_count": 314,
   "metadata": {},
   "outputs": [],
   "source": [
    "alpha = .01 \n",
    "total =6000\n",
    "finalj2 = gradesc(X_train, y_train, theta_e, alpha, total)\n",
    "cost_e2 = finalj2[1]\n",
    "theta_e2 = finalj2[0]"
   ]
  },
  {
   "cell_type": "code",
   "execution_count": 316,
   "metadata": {},
   "outputs": [
    {
     "name": "stdout",
     "output_type": "stream",
     "text": [
      "[[ 0.38187538]\n",
      " [ 0.35497854]\n",
      " [ 0.11151419]\n",
      " [-0.35564727]\n",
      " [-0.35067908]\n",
      " [ 0.02715043]\n",
      " [ 0.02846448]\n",
      " [ 0.03223792]\n",
      " [-0.00593447]\n",
      " [-0.0165857 ]\n",
      " [-0.01183808]\n",
      " [ 0.05227514]\n",
      " [ 0.06488974]\n",
      " [ 0.00067155]]\n",
      "Cost is : [0.20859945]\n"
     ]
    }
   ],
   "source": [
    "print(theta_e2)\n",
    "#Converging point\n",
    "print(\"Cost is :\" ,cost_e2[5999])"
   ]
  },
  {
   "cell_type": "code",
   "execution_count": 317,
   "metadata": {},
   "outputs": [
    {
     "data": {
      "text/plain": [
       "[<matplotlib.lines.Line2D at 0x22cdd09f908>]"
      ]
     },
     "execution_count": 317,
     "metadata": {},
     "output_type": "execute_result"
    },
    {
     "data": {
      "image/png": "[encoded data removed]",
      "text/plain": [
       "<Figure size 432x288 with 1 Axes>"
      ]
     },
     "metadata": {
      "needs_background": "light"
     },
     "output_type": "display_data"
    }
   ],
   "source": [
    "#plotting the cost\n",
    "plt.plot(cost_e2)"
   ]
  },
  {
   "cell_type": "code",
   "execution_count": 318,
   "metadata": {},
   "outputs": [
    {
     "name": "stdout",
     "output_type": "stream",
     "text": [
      "explained_variance:  0.4088\n",
      "r2:  0.4088\n",
      "MAE:  0.4763\n",
      "MSE:  0.5845\n",
      "RMSE:  0.7645\n"
     ]
    }
   ],
   "source": [
    "ypred2=predict_f(X_test,theta_e2)\n",
    "print(regression_results(y_test, ypred2))\n",
    "print(regression_results(y_test, ypred2))"
   ]
  },
  {
   "cell_type": "code",
   "execution_count": 320,
   "metadata": {},
   "outputs": [
    {
     "data": {
      "text/plain": [
       "0.7645157928830532"
      ]
     },
     "execution_count": 320,
     "metadata": {},
     "output_type": "execute_result"
    }
   ],
   "source": [
    "#RMSE calculated using inbuilt function and inbuilt values of reg\n",
    "regressor = LinearRegression()  \n",
    "regressor.fit(X_train, y_train)\n",
    "y_pred_2 = regressor.predict(X_test)\n",
    "error = y_pred_2-y_test\n",
    "math.sqrt(sum(error*error)/len(error))"
   ]
  },
  {
   "cell_type": "code",
   "execution_count": 419,
   "metadata": {},
   "outputs": [
    {
     "name": "stderr",
     "output_type": "stream",
     "text": [
      "C:\\Users\\ikapo\\Anaconda3\\lib\\site-packages\\ipykernel_launcher.py:6: SettingWithCopyWarning: \n",
      "A value is trying to be set on a copy of a slice from a DataFrame.\n",
      "Try using .loc[row_indexer,col_indexer] = value instead\n",
      "\n",
      "See the caveats in the documentation: http://pandas.pydata.org/pandas-docs/stable/user_guide/indexing.html#returning-a-view-versus-a-copy\n",
      "  \n"
     ]
    },
    {
     "data": {
      "image/png": "[encoded data removed]",
      "text/plain": [
       "<Figure size 432x288 with 1 Axes>"
      ]
     },
     "metadata": {
      "needs_background": "light"
     },
     "output_type": "display_data"
    }
   ],
   "source": [
    "#Plotting y_hat and y_pred\n",
    "y_data_lin = np.concatenate((y_test, ypred2), axis=1)\n",
    "y_data_lin = pd.DataFrame(y_data_lin)\n",
    "y_data_lin.columns = [\"y_actual\",\"y_predicted\"]\n",
    "y_data_lin_plot = y_data_lin.head(10)\n",
    "y_data_lin_plot[\"index\"] = range(1,11)\n",
    "fig, ax = plt.subplots()\n",
    "y_data_lin_plot.plot.bar(x = 'index', y = ['y_actual', 'y_predicted'], rot = 40, ax = ax)\n",
    "for p in ax.patches: \n",
    "    ax.annotate(np.round(p.get_height(),decimals=2), (p.get_x()+p.get_width()/2., p.get_height()))"
   ]
  },
  {
   "cell_type": "markdown",
   "metadata": {},
   "source": [
    "#### We can see that as we removed one variable, all the variables are almost the same, R2, RMSE, not much difference, alpha = 0.01, Iteration = 6000 explained_variance:  0.4088 r2:  0.4088(slight improv) MAE:  0.4763 MSE:  0.5845 RMSE:  0.7645, matches with the RMSE we get from the inbuilt function, converging cost : 0.20859945"
   ]
  },
  {
   "cell_type": "markdown",
   "metadata": {},
   "source": [
    "### Case 4 : Running for a few more alphas but having all the variables"
   ]
  },
  {
   "cell_type": "code",
   "execution_count": 496,
   "metadata": {},
   "outputs": [],
   "source": [
    "#Having all the data and independent variables\n",
    "X_train, X_test, y_train, y_test=train_test_split(x, run, train_size=0.70,test_size=0.30, random_state=100)"
   ]
  },
  {
   "cell_type": "code",
   "execution_count": 497,
   "metadata": {},
   "outputs": [],
   "source": [
    "X_train=norm(X_train)\n",
    "X_test=norm(X_test)\n",
    "y_train=norm(y_train)\n",
    "y_test=norm(y_test)"
   ]
  },
  {
   "cell_type": "code",
   "execution_count": 466,
   "metadata": {},
   "outputs": [
    {
     "data": {
      "text/plain": [
       "[<matplotlib.lines.Line2D at 0x20501e0aec8>]"
      ]
     },
     "execution_count": 466,
     "metadata": {},
     "output_type": "execute_result"
    },
    {
     "data": {
      "image/png": "[encoded data removed]",
      "text/plain": [
       "<Figure size 432x288 with 1 Axes>"
      ]
     },
     "metadata": {
      "needs_background": "light"
     },
     "output_type": "display_data"
    }
   ],
   "source": [
    "alpha = 0.03\n",
    "total =1000\n",
    "theta_e=theta_gen(X_train)\n",
    "finalj3 = gradesc(X_train, y_train, theta_e, alpha, total)\n",
    "cost_e3 = finalj3[1]\n",
    "theta_e3 = finalj3[0]\n",
    "plt.plot(cost_e3)"
   ]
  },
  {
   "cell_type": "code",
   "execution_count": 467,
   "metadata": {
    "scrolled": true
   },
   "outputs": [
    {
     "name": "stdout",
     "output_type": "stream",
     "text": [
      "explained_variance:  0.4088\n",
      "r2:  0.4088\n",
      "MAE:  0.4771\n",
      "MSE:  0.5912\n",
      "RMSE:  0.7689\n"
     ]
    }
   ],
   "source": [
    "ypred3=predict_f(X_test,theta_e3)\n",
    "regression_results(y_test, ypred3)"
   ]
  },
  {
   "cell_type": "code",
   "execution_count": 468,
   "metadata": {},
   "outputs": [
    {
     "name": "stdout",
     "output_type": "stream",
     "text": [
      "explained_variance:  0.4069\n",
      "r2:  0.4069\n",
      "MAE:  0.4786\n",
      "MSE:  0.5931\n",
      "RMSE:  0.7701\n"
     ]
    }
   ],
   "source": [
    "xy = np.matmul(X_train,theta_e3)\n",
    "regression_results(y_train, xy)"
   ]
  },
  {
   "cell_type": "code",
   "execution_count": 471,
   "metadata": {},
   "outputs": [
    {
     "data": {
      "text/plain": [
       "array([0.20758648])"
      ]
     },
     "execution_count": 471,
     "metadata": {},
     "output_type": "execute_result"
    }
   ],
   "source": [
    "cost_e3[784]"
   ]
  },
  {
   "cell_type": "code",
   "execution_count": null,
   "metadata": {},
   "outputs": [],
   "source": [
    "alpha = 0.8\n",
    "total =1000\n",
    "theta_e=theta_gen(X_train)\n",
    "finalj4= gradesc(X_train, y_train, theta_e, alpha, total)\n",
    "cost_e4= finalj4[1]\n",
    "theta_e4 = finalj4[0]\n",
    "plt.plot(cost_e4)"
   ]
  },
  {
   "cell_type": "code",
   "execution_count": 500,
   "metadata": {},
   "outputs": [
    {
     "data": {
      "text/plain": [
       "array([[ 3.80802924e-01],\n",
       "       [ 3.54272185e-01],\n",
       "       [ 1.11256698e-01],\n",
       "       [-3.55733697e-01],\n",
       "       [-3.49994506e-01],\n",
       "       [ 2.71090123e-02],\n",
       "       [ 2.84018026e-02],\n",
       "       [ 3.21595213e-02],\n",
       "       [-5.91747523e-03],\n",
       "       [-1.65052862e-02],\n",
       "       [-1.18092787e-02],\n",
       "       [ 3.12673399e-05],\n",
       "       [ 5.21480663e-02],\n",
       "       [ 6.47319695e-02],\n",
       "       [ 8.97653820e-01]])"
      ]
     },
     "execution_count": 500,
     "metadata": {},
     "output_type": "execute_result"
    }
   ],
   "source": [
    "theta_e4"
   ]
  },
  {
   "cell_type": "code",
   "execution_count": 507,
   "metadata": {},
   "outputs": [
    {
     "name": "stdout",
     "output_type": "stream",
     "text": [
      "explained_variance:  0.4088\n",
      "r2:  0.4088\n",
      "MAE:  0.4771\n",
      "MSE:  0.5912\n",
      "RMSE:  0.7689\n"
     ]
    }
   ],
   "source": [
    "ypred5=predict_f(X_test,theta_e4)\n",
    "regression_results(y_test, ypred5)"
   ]
  },
  {
   "cell_type": "code",
   "execution_count": 503,
   "metadata": {},
   "outputs": [
    {
     "name": "stdout",
     "output_type": "stream",
     "text": [
      "explained_variance:  0.4069\n",
      "r2:  0.4069\n",
      "MAE:  0.4786\n",
      "MSE:  0.5931\n",
      "RMSE:  0.7701\n"
     ]
    }
   ],
   "source": [
    "xy1 = np.matmul(X_train,theta_e4)\n",
    "regression_results(y_train, xy1)"
   ]
  },
  {
   "cell_type": "code",
   "execution_count": 506,
   "metadata": {},
   "outputs": [
    {
     "data": {
      "text/plain": [
       "array([0.20758649])"
      ]
     },
     "execution_count": 506,
     "metadata": {},
     "output_type": "execute_result"
    }
   ],
   "source": [
    "cost_e4[24]"
   ]
  },
  {
   "cell_type": "code",
   "execution_count": 66,
   "metadata": {},
   "outputs": [
    {
     "data": {
      "text/plain": [
       "[<matplotlib.lines.Line2D at 0x20517842ec8>]"
      ]
     },
     "execution_count": 66,
     "metadata": {},
     "output_type": "execute_result"
    },
    {
     "data": {
      "image/png": "[encoded data removed]",
      "text/plain": [
       "<Figure size 432x288 with 1 Axes>"
      ]
     },
     "metadata": {
      "needs_background": "light"
     },
     "output_type": "display_data"
    }
   ],
   "source": [
    "alpha = 0.05\n",
    "total =1000\n",
    "theta_e=theta_gen(X_train)\n",
    "finalj5 = gradesc(X_train, y_train, theta_e, alpha, total)\n",
    "cost_e5 = finalj5[1]\n",
    "theta_e5 = finalj5[0]\n",
    "plt.plot(cost_e5)"
   ]
  },
  {
   "cell_type": "code",
   "execution_count": 67,
   "metadata": {},
   "outputs": [
    {
     "name": "stdout",
     "output_type": "stream",
     "text": [
      "explained_variance:  0.4088\n",
      "r2:  0.4088\n",
      "MAE:  0.4763\n",
      "MSE:  0.5845\n",
      "RMSE:  0.7645\n"
     ]
    }
   ],
   "source": [
    "ypred5=predict_f(X_test,theta_e5)\n",
    "regression_results(y_test, ypred5)"
   ]
  },
  {
   "cell_type": "code",
   "execution_count": 68,
   "metadata": {},
   "outputs": [
    {
     "name": "stdout",
     "output_type": "stream",
     "text": [
      "explained_variance:  0.4069\n",
      "r2:  0.4069\n",
      "MAE:  0.4796\n",
      "MSE:  0.596\n",
      "RMSE:  0.772\n"
     ]
    }
   ],
   "source": [
    "xy1 = np.matmul(X_train,theta_e5)\n",
    "regression_results(y_train, xy1)"
   ]
  },
  {
   "cell_type": "code",
   "execution_count": 738,
   "metadata": {},
   "outputs": [
    {
     "data": {
      "text/plain": [
       "array([0.20859945])"
      ]
     },
     "execution_count": 738,
     "metadata": {},
     "output_type": "execute_result"
    }
   ],
   "source": [
    "cost_e5[477]"
   ]
  },
  {
   "cell_type": "markdown",
   "metadata": {},
   "source": [
    "### Logistic Regression"
   ]
  },
  {
   "cell_type": "markdown",
   "metadata": {},
   "source": [
    "#### Logistic doesn't have any insignificant variables so, we will change the alpha value and check the converging points"
   ]
  },
  {
   "cell_type": "markdown",
   "metadata": {},
   "source": [
    "##### Case 1 : alpha = 0.01, iteration = 5000, converging point = 0.47879172"
   ]
  },
  {
   "cell_type": "markdown",
   "metadata": {},
   "source": [
    "#### Case 2: CHeck for alpha = 0.1 and iteration = 8000"
   ]
  },
  {
   "cell_type": "code",
   "execution_count": 473,
   "metadata": {},
   "outputs": [],
   "source": [
    "X_train_l, X_test_l, y_train_l, y_test_l=train_test_split(x, runs2, train_size=0.70,test_size=0.30, random_state=100)"
   ]
  },
  {
   "cell_type": "code",
   "execution_count": 475,
   "metadata": {},
   "outputs": [],
   "source": [
    "X_train_l=norm(X_train_l)\n",
    "X_test_l=norm(X_test_l)\n",
    "y_train_l=norm(y_train_l)\n",
    "y_test_l=norm(y_test_l)"
   ]
  },
  {
   "cell_type": "code",
   "execution_count": 136,
   "metadata": {},
   "outputs": [],
   "source": [
    "m = len(runs)\n",
    "n = np.size(x,1)\n",
    "params = np.random.rand(n,1) #betas\n",
    "total = 8000\n",
    "learning_rate = 0.1\n",
    "initial_cost = compute_cost(X_train_l, y_train_l, params)\n",
    "(cost_history1, params_optimal1) = gradient_descent(X_train_l, y_train_l, params, learning_rate, total)\n",
    "y_pred_l1 = predict(X_test_l, params_optimal1)"
   ]
  },
  {
   "cell_type": "code",
   "execution_count": 780,
   "metadata": {},
   "outputs": [
    {
     "name": "stdout",
     "output_type": "stream",
     "text": [
      "[[ 1.30945044]\n",
      " [ 0.84778212]\n",
      " [ 0.15339636]\n",
      " [-0.89257938]\n",
      " [-0.76810686]\n",
      " [-0.0463098 ]\n",
      " [-0.06929998]\n",
      " [-0.02034041]\n",
      " [-0.07780992]\n",
      " [-0.14953631]\n",
      " [-0.32257686]\n",
      " [-0.02305719]\n",
      " [-0.4053967 ]\n",
      " [-0.0810245 ]\n",
      " [ 0.00499033]]\n"
     ]
    },
    {
     "data": {
      "text/plain": [
       "array([0.47847361])"
      ]
     },
     "execution_count": 780,
     "metadata": {},
     "output_type": "execute_result"
    },
    {
     "data": {
      "image/png": "[encoded data removed]",
      "text/plain": [
       "<Figure size 432x288 with 1 Axes>"
      ]
     },
     "metadata": {
      "needs_background": "light"
     },
     "output_type": "display_data"
    }
   ],
   "source": [
    "y_pred_l1 = predict(X_test_l, params_optimal1)\n",
    "print(params_optimal1)\n",
    "plt.plot(cost_history1)\n",
    "cost_history1[1678]"
   ]
  },
  {
   "cell_type": "code",
   "execution_count": 138,
   "metadata": {},
   "outputs": [
    {
     "name": "stdout",
     "output_type": "stream",
     "text": [
      "[[29486  6720]\n",
      " [ 6988 29286]]\n"
     ]
    }
   ],
   "source": [
    "from sklearn.metrics import confusion_matrix\n",
    "confusion_matrix1 = confusion_matrix(y_test_l, y_pred_l1)\n",
    "print(confusion_matrix1)"
   ]
  },
  {
   "cell_type": "code",
   "execution_count": 150,
   "metadata": {},
   "outputs": [
    {
     "data": {
      "text/plain": [
       "(15, 1)"
      ]
     },
     "execution_count": 150,
     "metadata": {},
     "output_type": "execute_result"
    }
   ],
   "source": [
    "params_optimal1.shape"
   ]
  },
  {
   "cell_type": "code",
   "execution_count": 154,
   "metadata": {},
   "outputs": [
    {
     "name": "stdout",
     "output_type": "stream",
     "text": [
      "[[68726 15869]\n",
      " [16479 68046]]\n"
     ]
    }
   ],
   "source": [
    "from sklearn.metrics import confusion_matrix\n",
    "y_pred_tr11=predict(X_train_l,params_optimal1)\n",
    "confusion_matrix1 = confusion_matrix(y_train_l, y_pred_tr11)\n",
    "print(confusion_matrix1)"
   ]
  },
  {
   "cell_type": "markdown",
   "metadata": {},
   "source": [
    "##### Converging point = 0.47847361"
   ]
  },
  {
   "cell_type": "markdown",
   "metadata": {},
   "source": [
    "#### Case 3: CHeck for alpha = 0.5 and iteration = 15000"
   ]
  },
  {
   "cell_type": "code",
   "execution_count": 155,
   "metadata": {
    "scrolled": true
   },
   "outputs": [
    {
     "name": "stdout",
     "output_type": "stream",
     "text": [
      "[[ 1.30945044]\n",
      " [ 0.84778212]\n",
      " [ 0.15339636]\n",
      " [-0.89257938]\n",
      " [-0.76810686]\n",
      " [-0.0463098 ]\n",
      " [-0.06929998]\n",
      " [-0.02034041]\n",
      " [-0.07780992]\n",
      " [-0.14953631]\n",
      " [-0.32257686]\n",
      " [-0.02305719]\n",
      " [-0.4053967 ]\n",
      " [-0.0810245 ]\n",
      " [ 0.00499033]]\n"
     ]
    },
    {
     "data": {
      "text/plain": [
       "[<matplotlib.lines.Line2D at 0x205162a3048>]"
      ]
     },
     "execution_count": 155,
     "metadata": {},
     "output_type": "execute_result"
    },
    {
     "data": {
      "image/png": "[encoded data removed]",
      "text/plain": [
       "<Figure size 432x288 with 1 Axes>"
      ]
     },
     "metadata": {
      "needs_background": "light"
     },
     "output_type": "display_data"
    }
   ],
   "source": [
    "m = len(runs)\n",
    "n = np.size(x,1)\n",
    "params = np.random.rand(n,1) #betas\n",
    "total = 15000\n",
    "learning_rate = 0.5\n",
    "\n",
    "initial_cost = compute_cost(X_train_l, y_train_l, params)\n",
    "(cost_history2, params_optimal2) = gradient_descent(X_train_l, y_train_l, params, learning_rate, total)\n",
    "y_pred_l2 = predict(X_test_l, params_optimal2)\n",
    "print(params_optimal2)\n",
    "plt.plot(cost_history2)"
   ]
  },
  {
   "cell_type": "code",
   "execution_count": 160,
   "metadata": {},
   "outputs": [
    {
     "data": {
      "text/plain": [
       "array([0.47847361])"
      ]
     },
     "execution_count": 160,
     "metadata": {},
     "output_type": "execute_result"
    }
   ],
   "source": [
    "cost_history2[325]"
   ]
  },
  {
   "cell_type": "code",
   "execution_count": 828,
   "metadata": {},
   "outputs": [
    {
     "data": {
      "text/plain": [
       "array([[ 1.30945044],\n",
       "       [ 0.84778212],\n",
       "       [ 0.15339636],\n",
       "       [-0.89257938],\n",
       "       [-0.76810686],\n",
       "       [-0.0463098 ],\n",
       "       [-0.06929998],\n",
       "       [-0.02034041],\n",
       "       [-0.07780992],\n",
       "       [-0.14953631],\n",
       "       [-0.32257686],\n",
       "       [-0.02305719],\n",
       "       [-0.4053967 ],\n",
       "       [-0.0810245 ],\n",
       "       [ 0.00499033]])"
      ]
     },
     "execution_count": 828,
     "metadata": {},
     "output_type": "execute_result"
    }
   ],
   "source": [
    "params_optimal2"
   ]
  },
  {
   "cell_type": "code",
   "execution_count": 538,
   "metadata": {
    "scrolled": true
   },
   "outputs": [
    {
     "name": "stderr",
     "output_type": "stream",
     "text": [
      "C:\\Users\\ikapo\\Anaconda3\\lib\\site-packages\\ipykernel_launcher.py:6: SettingWithCopyWarning: \n",
      "A value is trying to be set on a copy of a slice from a DataFrame.\n",
      "Try using .loc[row_indexer,col_indexer] = value instead\n",
      "\n",
      "See the caveats in the documentation: http://pandas.pydata.org/pandas-docs/stable/user_guide/indexing.html#returning-a-view-versus-a-copy\n",
      "  \n"
     ]
    },
    {
     "data": {
      "image/png": "[encoded data removed]",
      "text/plain": [
       "<Figure size 432x288 with 1 Axes>"
      ]
     },
     "metadata": {
      "needs_background": "light"
     },
     "output_type": "display_data"
    }
   ],
   "source": [
    "#Plotting y_hat and y_pred\n",
    "y_data = np.concatenate((y_test_l, y_pred_l2), axis=1)\n",
    "y_data = pd.DataFrame(y_data)\n",
    "y_data.columns = [\"y_actual\",\"y_predicted\"]\n",
    "y_data_plot = y_data.head(10)\n",
    "y_data_plot[\"index\"] = range(1,11)\n",
    "fig, ax = plt.subplots()\n",
    "y_data_plot.plot.bar(x = 'index', y = ['y_actual', 'y_predicted'], rot = 40, ax = ax)\n",
    "for p in ax.patches: \n",
    "    ax.annotate(np.round(p.get_height(),decimals=2), (p.get_x()+p.get_width()/2., p.get_height()))"
   ]
  },
  {
   "cell_type": "code",
   "execution_count": 539,
   "metadata": {},
   "outputs": [
    {
     "name": "stdout",
     "output_type": "stream",
     "text": [
      "[[29486  6720]\n",
      " [ 6988 29286]]\n"
     ]
    }
   ],
   "source": [
    "from sklearn.metrics import confusion_matrix\n",
    "confusion_matrix2 = confusion_matrix(y_test_l, y_pred_l2)\n",
    "print(confusion_matrix2)"
   ]
  },
  {
   "cell_type": "code",
   "execution_count": 161,
   "metadata": {},
   "outputs": [
    {
     "name": "stdout",
     "output_type": "stream",
     "text": [
      "[[68726 15869]\n",
      " [16479 68046]]\n"
     ]
    }
   ],
   "source": [
    "from sklearn.metrics import confusion_matrix\n",
    "y_pred_tr12=predict(X_train_l,params_optimal2)\n",
    "confusion_matrix1 = confusion_matrix(y_train_l, y_pred_tr12)\n",
    "print(confusion_matrix1)"
   ]
  },
  {
   "cell_type": "code",
   "execution_count": 540,
   "metadata": {},
   "outputs": [
    {
     "data": {
      "text/plain": [
       "array([0.47847361])"
      ]
     },
     "execution_count": 540,
     "metadata": {},
     "output_type": "execute_result"
    }
   ],
   "source": [
    "cost_history2[14999]"
   ]
  },
  {
   "cell_type": "markdown",
   "metadata": {},
   "source": [
    "#### We see no change in the cost"
   ]
  },
  {
   "cell_type": "markdown",
   "metadata": {},
   "source": [
    "### Running for a few more alphas"
   ]
  },
  {
   "cell_type": "code",
   "execution_count": 541,
   "metadata": {},
   "outputs": [
    {
     "name": "stdout",
     "output_type": "stream",
     "text": [
      "[[ 1.30945044]\n",
      " [ 0.84778212]\n",
      " [ 0.15339636]\n",
      " [-0.89257938]\n",
      " [-0.76810686]\n",
      " [-0.0463098 ]\n",
      " [-0.06929998]\n",
      " [-0.02034041]\n",
      " [-0.07780992]\n",
      " [-0.14953631]\n",
      " [-0.32257686]\n",
      " [-0.02305719]\n",
      " [-0.4053967 ]\n",
      " [-0.0810245 ]\n",
      " [ 0.00499033]]\n"
     ]
    },
    {
     "data": {
      "text/plain": [
       "[<matplotlib.lines.Line2D at 0x22cdb9048c8>]"
      ]
     },
     "execution_count": 541,
     "metadata": {},
     "output_type": "execute_result"
    },
    {
     "data": {
      "image/png": "[encoded data removed]",
      "text/plain": [
       "<Figure size 432x288 with 1 Axes>"
      ]
     },
     "metadata": {
      "needs_background": "light"
     },
     "output_type": "display_data"
    }
   ],
   "source": [
    "m = len(runs)\n",
    "n = np.size(x,1)\n",
    "params = np.random.rand(n,1) #betas\n",
    "total = 8000\n",
    "learning_rate = 1\n",
    "initial_cost = compute_cost(X_train_l, y_train_l, params)\n",
    "(cost_history3, params_optimal3) = gradient_descent(X_train_l, y_train_l, params, learning_rate, total)\n",
    "y_pred_l3 = predict(X_test_l, params_optimal3)\n",
    "print(params_optimal3)\n",
    "plt.plot(cost_history3)"
   ]
  },
  {
   "cell_type": "code",
   "execution_count": 162,
   "metadata": {
    "scrolled": true
   },
   "outputs": [
    {
     "name": "stdout",
     "output_type": "stream",
     "text": [
      "[[ 1.30945036]\n",
      " [ 0.84778207]\n",
      " [ 0.15339634]\n",
      " [-0.89257932]\n",
      " [-0.7681068 ]\n",
      " [-0.04630979]\n",
      " [-0.06929998]\n",
      " [-0.02034041]\n",
      " [-0.07780989]\n",
      " [-0.14953628]\n",
      " [-0.32257685]\n",
      " [-0.02305718]\n",
      " [-0.40539668]\n",
      " [-0.0810245 ]\n",
      " [ 0.00499032]]\n"
     ]
    },
    {
     "data": {
      "text/plain": [
       "[<matplotlib.lines.Line2D at 0x2051e55d8c8>]"
      ]
     },
     "execution_count": 162,
     "metadata": {},
     "output_type": "execute_result"
    },
    {
     "data": {
      "image/png": "[encoded data removed]",
      "text/plain": [
       "<Figure size 432x288 with 1 Axes>"
      ]
     },
     "metadata": {
      "needs_background": "light"
     },
     "output_type": "display_data"
    }
   ],
   "source": [
    "m = len(runs)\n",
    "n = np.size(x,1)\n",
    "params = np.random.rand(n,1) #betas\n",
    "total = 8000\n",
    "learning_rate = 0.04\n",
    "initial_cost = compute_cost(X_train_l, y_train_l, params)\n",
    "(cost_history4, params_optimal4) = gradient_descent(X_train_l, y_train_l, params, learning_rate, total)\n",
    "y_pred_l4 = predict(X_test_l, params_optimal4)\n",
    "print(params_optimal4)\n",
    "plt.plot(cost_history4)"
   ]
  },
  {
   "cell_type": "code",
   "execution_count": 827,
   "metadata": {},
   "outputs": [
    {
     "data": {
      "text/plain": [
       "array([0.47847361])"
      ]
     },
     "execution_count": 827,
     "metadata": {},
     "output_type": "execute_result"
    }
   ],
   "source": [
    "cost_history4[4196]"
   ]
  },
  {
   "cell_type": "code",
   "execution_count": 163,
   "metadata": {},
   "outputs": [
    {
     "name": "stdout",
     "output_type": "stream",
     "text": [
      "[[29486  6720]\n",
      " [ 6988 29286]]\n"
     ]
    }
   ],
   "source": [
    "from sklearn.metrics import confusion_matrix\n",
    "confusion_matrix2 = confusion_matrix(y_test_l, y_pred_l4)\n",
    "print(confusion_matrix2)"
   ]
  },
  {
   "cell_type": "code",
   "execution_count": 164,
   "metadata": {},
   "outputs": [
    {
     "name": "stdout",
     "output_type": "stream",
     "text": [
      "[[68726 15869]\n",
      " [16479 68046]]\n"
     ]
    }
   ],
   "source": [
    "from sklearn.metrics import confusion_matrix\n",
    "y_pred_tr14=predict(X_train_l,params_optimal4)\n",
    "confusion_matrix1 = confusion_matrix(y_train_l, y_pred_tr14)\n",
    "print(confusion_matrix1)"
   ]
  },
  {
   "cell_type": "code",
   "execution_count": 801,
   "metadata": {},
   "outputs": [
    {
     "name": "stdout",
     "output_type": "stream",
     "text": [
      "[[0.10176416]\n",
      " [0.79174983]\n",
      " [0.33455732]\n",
      " [0.46929392]\n",
      " [0.67171022]\n",
      " [0.64888458]\n",
      " [0.37010395]\n",
      " [0.25339714]\n",
      " [0.29058409]\n",
      " [0.21269305]\n",
      " [0.42089788]\n",
      " [0.87804735]\n",
      " [0.85642646]\n",
      " [0.96186093]\n",
      " [0.29200653]]\n"
     ]
    },
    {
     "data": {
      "text/plain": [
       "[<matplotlib.lines.Line2D at 0x22e5c1de988>]"
      ]
     },
     "execution_count": 801,
     "metadata": {},
     "output_type": "execute_result"
    },
    {
     "data": {
      "image/png": "[encoded data removed]",
      "text/plain": [
       "<Figure size 432x288 with 1 Axes>"
      ]
     },
     "metadata": {
      "needs_background": "light"
     },
     "output_type": "display_data"
    }
   ],
   "source": [
    "m = len(runs)\n",
    "n = np.size(x,1)\n",
    "params = np.random.rand(n,1) #betas\n",
    "total = 8000\n",
    "learning_rate = 0.0000001\n",
    "initial_cost = compute_cost(X_train_l, y_train_l, params)\n",
    "(cost_history5, params_optimal5) = gradient_descent(X_train_l, y_train_l, params, learning_rate, total)\n",
    "y_pred_l5 = predict(X_test_l, params_optimal5)\n",
    "print(params_optimal5)\n",
    "plt.plot(cost_history5)"
   ]
  },
  {
   "cell_type": "markdown",
   "metadata": {},
   "source": [
    "## Experiment 3"
   ]
  },
  {
   "cell_type": "markdown",
   "metadata": {},
   "source": [
    "#### Dropping 8 random features :'KWI',\"VWN\",\"VWM\",\"MWG\",\"KWG\",\"SB\""
   ]
  },
  {
   "cell_type": "markdown",
   "metadata": {},
   "source": [
    "### For Linear Regression"
   ]
  },
  {
   "cell_type": "code",
   "execution_count": 476,
   "metadata": {},
   "outputs": [],
   "source": [
    "x_mod_1 = x_ind.drop(columns=['KWI',\"VWN\",\"VWM\",\"MWG\",\"KWG\",\"SB\"])\n",
    "x_mod_1\n",
    "#Converting it into an array\n",
    "x_mod_1=np.array(x_mod_1)\n",
    "#Splitting the data\n",
    "X_train, X_test, y_train, y_test=train_test_split(x_mod_1, run, train_size=0.70,test_size=0.30, random_state=100)"
   ]
  },
  {
   "cell_type": "code",
   "execution_count": 477,
   "metadata": {},
   "outputs": [],
   "source": [
    "#Normalising the data\n",
    "X_train=norm(X_train)\n",
    "X_test=norm(X_test)\n",
    "y_train=norm(y_train)\n",
    "y_test=norm(y_test)"
   ]
  },
  {
   "cell_type": "code",
   "execution_count": 188,
   "metadata": {},
   "outputs": [],
   "source": [
    "#generating theta\n",
    "theta_e=theta_gen(X_train)\n",
    "#Finding cost and thetas\n",
    "alpha = .001 \n",
    "total =5000\n",
    "finalj1_8 = gradesc(X_train, y_train, theta_e, alpha, total)\n",
    "cost_e1_8 = finalj1_8[1]\n",
    "theta_e1_8 = finalj1_8[0]"
   ]
  },
  {
   "cell_type": "code",
   "execution_count": 508,
   "metadata": {},
   "outputs": [
    {
     "data": {
      "text/plain": [
       "array([0.21555041])"
      ]
     },
     "execution_count": 508,
     "metadata": {},
     "output_type": "execute_result"
    },
    {
     "data": {
      "image/png": "[encoded data removed]",
      "text/plain": [
       "<Figure size 432x288 with 1 Axes>"
      ]
     },
     "metadata": {
      "needs_background": "light"
     },
     "output_type": "display_data"
    }
   ],
   "source": [
    "#plotting the cost\n",
    "plt.plot(cost_e1_8)\n",
    "cost_e1_8[4999]"
   ]
  },
  {
   "cell_type": "code",
   "execution_count": 509,
   "metadata": {},
   "outputs": [
    {
     "name": "stdout",
     "output_type": "stream",
     "text": [
      "                            OLS Regression Results                            \n",
      "==============================================================================\n",
      "Dep. Variable:                      y   R-squared:                       0.400\n",
      "Model:                            OLS   Adj. R-squared:                  0.400\n",
      "Method:                 Least Squares   F-statistic:                 1.407e+04\n",
      "Date:                Mon, 10 Feb 2020   Prob (F-statistic):               0.00\n",
      "Time:                        18:48:53   Log-Likelihood:            -1.9725e+05\n",
      "No. Observations:              169120   AIC:                         3.945e+05\n",
      "Df Residuals:                  169111   BIC:                         3.946e+05\n",
      "Df Model:                           8                                         \n",
      "Covariance Type:            nonrobust                                         \n",
      "==============================================================================\n",
      "                 coef    std err          t      P>|t|      [0.025      0.975]\n",
      "------------------------------------------------------------------------------\n",
      "x1             0.3796      0.002    197.774      0.000       0.376       0.383\n",
      "x2             0.3483      0.002    181.585      0.000       0.345       0.352\n",
      "x3             0.1116      0.002     56.932      0.000       0.108       0.115\n",
      "x4            -0.3550      0.002   -173.968      0.000      -0.359      -0.351\n",
      "x5            -0.3487      0.002   -170.323      0.000      -0.353      -0.345\n",
      "x6             0.0284      0.002     14.403      0.000       0.025       0.032\n",
      "x7             0.0325      0.002     16.450      0.000       0.029       0.036\n",
      "x8             0.0321      0.002     17.000      0.000       0.028       0.036\n",
      "const          0.0013      0.002      0.685      0.493      -0.002       0.005\n",
      "==============================================================================\n",
      "Omnibus:                   132974.062   Durbin-Watson:                   2.004\n",
      "Prob(Omnibus):                  0.000   Jarque-Bera (JB):          3250018.916\n",
      "Skew:                           3.677   Prob(JB):                         0.00\n",
      "Kurtosis:                      23.178   Cond. No.                         1.62\n",
      "==============================================================================\n",
      "\n",
      "Warnings:\n",
      "[1] Standard Errors assume that the covariance matrix of the errors is correctly specified.\n"
     ]
    }
   ],
   "source": [
    "#Inbuilt regression values\n",
    "pred_8 = sm.OLS(y_train, X_train)\n",
    "pred_8 = pred_8.fit()\n",
    "print(pred_8.summary())"
   ]
  },
  {
   "cell_type": "code",
   "execution_count": 510,
   "metadata": {},
   "outputs": [
    {
     "data": {
      "text/plain": [
       "0.7689901649839674"
      ]
     },
     "execution_count": 510,
     "metadata": {},
     "output_type": "execute_result"
    }
   ],
   "source": [
    "#RMSE calculated using inbuilt function and inbuilt values of reg\n",
    "regressor = LinearRegression()  \n",
    "regressor.fit(X_train, y_train)\n",
    "y_pred_8 = regressor.predict(X_test)\n",
    "error = y_pred_8-y_test\n",
    "math.sqrt(sum(error*error)/len(error))"
   ]
  },
  {
   "cell_type": "code",
   "execution_count": 189,
   "metadata": {
    "scrolled": true
   },
   "outputs": [
    {
     "name": "stdout",
     "output_type": "stream",
     "text": [
      "explained_variance:  0.2351\n",
      "r2:  0.2351\n",
      "MAE:  0.5105\n",
      "MSE:  0.7562\n",
      "RMSE:  0.8696\n"
     ]
    }
   ],
   "source": [
    "ypred_8l=predict_f(X_test,theta_e1_8)\n",
    "regression_results(y_test, ypred_8l)"
   ]
  },
  {
   "cell_type": "code",
   "execution_count": 190,
   "metadata": {},
   "outputs": [
    {
     "name": "stdout",
     "output_type": "stream",
     "text": [
      "explained_variance:  0.2369\n",
      "r2:  0.2369\n",
      "MAE:  0.5103\n",
      "MSE:  0.7669\n",
      "RMSE:  0.8757\n"
     ]
    }
   ],
   "source": [
    "ypred_8l_tr=predict_f(X_train,theta_e1_8)\n",
    "regression_results(y_train, ypred_8l_tr)"
   ]
  },
  {
   "cell_type": "code",
   "execution_count": 511,
   "metadata": {
    "scrolled": true
   },
   "outputs": [
    {
     "name": "stderr",
     "output_type": "stream",
     "text": [
      "C:\\Users\\ikapo\\Anaconda3\\lib\\site-packages\\ipykernel_launcher.py:6: SettingWithCopyWarning: \n",
      "A value is trying to be set on a copy of a slice from a DataFrame.\n",
      "Try using .loc[row_indexer,col_indexer] = value instead\n",
      "\n",
      "See the caveats in the documentation: http://pandas.pydata.org/pandas-docs/stable/user_guide/indexing.html#returning-a-view-versus-a-copy\n",
      "  \n"
     ]
    },
    {
     "data": {
      "image/png": "[encoded data removed]",
      "text/plain": [
       "<Figure size 432x288 with 1 Axes>"
      ]
     },
     "metadata": {
      "needs_background": "light"
     },
     "output_type": "display_data"
    }
   ],
   "source": [
    "#Plotting y_hat and y_pred\n",
    "y_data_lin = np.concatenate((y_test, ypred2), axis=1)\n",
    "y_data_lin = pd.DataFrame(y_data_lin)\n",
    "y_data_lin.columns = [\"y_actual\",\"y_predicted\"]\n",
    "y_data_lin_plot = y_data_lin.head(10)\n",
    "y_data_lin_plot[\"index\"] = range(1,11)\n",
    "fig, ax = plt.subplots()\n",
    "y_data_lin_plot.plot.bar(x = 'index', y = ['y_actual', 'y_predicted'], rot = 40, ax = ax)\n",
    "for p in ax.patches: \n",
    "    ax.annotate(np.round(p.get_height(),decimals=2), (p.get_x()+p.get_width()/2., p.get_height()))"
   ]
  },
  {
   "cell_type": "markdown",
   "metadata": {},
   "source": [
    "#### Based on the results : RMSE has increased, also, cost convergence point has increased. So, after selecting 8 randon variables, there was no improvement in the cost value. (All the results in the report.)"
   ]
  },
  {
   "cell_type": "markdown",
   "metadata": {},
   "source": [
    "### For Logistic Regression"
   ]
  },
  {
   "cell_type": "code",
   "execution_count": 167,
   "metadata": {},
   "outputs": [
    {
     "name": "stdout",
     "output_type": "stream",
     "text": [
      "[[ 0.59360061]\n",
      " [-0.56861214]\n",
      " [-0.54175761]\n",
      " [ 0.1208924 ]\n",
      " [-0.03862995]\n",
      " [-0.24469518]\n",
      " [-0.01344074]\n",
      " [-0.30373959]\n",
      " [-0.00669534]]\n"
     ]
    },
    {
     "data": {
      "text/plain": [
       "[<matplotlib.lines.Line2D at 0x2051e5c6948>]"
      ]
     },
     "execution_count": 167,
     "metadata": {},
     "output_type": "execute_result"
    },
    {
     "data": {
      "image/png": "[encoded data removed]",
      "text/plain": [
       "<Figure size 432x288 with 1 Axes>"
      ]
     },
     "metadata": {
      "needs_background": "light"
     },
     "output_type": "display_data"
    }
   ],
   "source": [
    "m = len(runs)\n",
    "n = np.size(X_train,1)\n",
    "params = np.random.rand(n,1) #betas\n",
    "total = 8000\n",
    "learning_rate = 0.01\n",
    "initial_cost = compute_cost(X_train, y_train_l, params)\n",
    "(cost_history1_8, params_optimal1_8) = gradient_descent(X_train, y_train_l, params, learning_rate, total)\n",
    "y_pred_l1_8 = predict(X_test, params_optimal1_8)\n",
    "print(params_optimal1_8)\n",
    "plt.plot(cost_history1_8)"
   ]
  },
  {
   "cell_type": "code",
   "execution_count": 843,
   "metadata": {},
   "outputs": [
    {
     "data": {
      "text/plain": [
       "array([0.4906456])"
      ]
     },
     "execution_count": 843,
     "metadata": {},
     "output_type": "execute_result"
    }
   ],
   "source": [
    "cost_history1_8[7999]"
   ]
  },
  {
   "cell_type": "code",
   "execution_count": 837,
   "metadata": {},
   "outputs": [
    {
     "name": "stderr",
     "output_type": "stream",
     "text": [
      "C:\\Users\\ikapo\\Anaconda3\\lib\\site-packages\\ipykernel_launcher.py:6: SettingWithCopyWarning: \n",
      "A value is trying to be set on a copy of a slice from a DataFrame.\n",
      "Try using .loc[row_indexer,col_indexer] = value instead\n",
      "\n",
      "See the caveats in the documentation: http://pandas.pydata.org/pandas-docs/stable/user_guide/indexing.html#returning-a-view-versus-a-copy\n",
      "  \n"
     ]
    },
    {
     "data": {
      "image/png": "[encoded data removed]",
      "text/plain": [
       "<Figure size 432x288 with 1 Axes>"
      ]
     },
     "metadata": {
      "needs_background": "light"
     },
     "output_type": "display_data"
    }
   ],
   "source": [
    "#Plotting y_hat and y_pred\n",
    "y_data_8 = np.concatenate((y_test_l, y_pred_l1_8), axis=1)\n",
    "y_data_8 = pd.DataFrame(y_data_8)\n",
    "y_data_8.columns = [\"y_actual\",\"y_predicted\"]\n",
    "y_data_plot_8 = y_data_8.head(10)\n",
    "y_data_plot_8[\"index\"] = range(1,11)\n",
    "fig, ax = plt.subplots()\n",
    "y_data_plot_8.plot.bar(x = 'index', y = ['y_actual', 'y_predicted'], rot = 40, ax = ax)\n",
    "for p in ax.patches: \n",
    "    ax.annotate(np.round(p.get_height(),decimals=2), (p.get_x()+p.get_width()/2., p.get_height()))"
   ]
  },
  {
   "cell_type": "code",
   "execution_count": 838,
   "metadata": {
    "scrolled": true
   },
   "outputs": [
    {
     "name": "stdout",
     "output_type": "stream",
     "text": [
      "Optimization terminated successfully.\n",
      "         Current function value: 0.478500\n",
      "         Iterations 6\n",
      "                          Results: Logit\n",
      "==================================================================\n",
      "Model:              Logit            Pseudo R-squared: 0.310      \n",
      "Dependent Variable: y                AIC:              161877.9255\n",
      "Date:               2020-02-11 15:03 BIC:              162028.5010\n",
      "No. Observations:   169120           Log-Likelihood:   -80924.    \n",
      "Df Model:           14               LL-Null:          -1.1723e+05\n",
      "Df Residuals:       169105           LLR p-value:      0.0000     \n",
      "Converged:          1.0000           Scale:            1.0000     \n",
      "No. Iterations:     6.0000                                        \n",
      "--------------------------------------------------------------------\n",
      "          Coef.    Std.Err.       z       P>|z|     [0.025    0.975]\n",
      "--------------------------------------------------------------------\n",
      "x1        1.3095     0.0079    166.0315   0.0000    1.2940    1.3249\n",
      "x2        0.8478     0.0073    115.3554   0.0000    0.8334    0.8622\n",
      "x3        0.1534     0.0064     24.0918   0.0000    0.1409    0.1659\n",
      "x4       -0.8926     0.0075   -119.5945   0.0000   -0.9072   -0.8780\n",
      "x5       -0.7681     0.0073   -105.6625   0.0000   -0.7824   -0.7539\n",
      "x6       -0.0463     0.0067     -6.9620   0.0000   -0.0593   -0.0333\n",
      "x7       -0.0693     0.0066    -10.4263   0.0000   -0.0823   -0.0563\n",
      "x8       -0.0203     0.0061     -3.3157   0.0009   -0.0324   -0.0083\n",
      "x9       -0.0778     0.0069    -11.2038   0.0000   -0.0914   -0.0642\n",
      "x10      -0.1495     0.0069    -21.7170   0.0000   -0.1630   -0.1360\n",
      "x11      -0.3226     0.0062    -51.9886   0.0000   -0.3347   -0.3104\n",
      "x12      -0.0231     0.0061     -3.7583   0.0002   -0.0351   -0.0110\n",
      "x13      -0.4054     0.0062    -64.8980   0.0000   -0.4176   -0.3932\n",
      "x14      -0.0810     0.0061    -13.1984   0.0000   -0.0931   -0.0690\n",
      "const     0.0050     0.0061      0.8125   0.4165   -0.0070    0.0170\n",
      "==================================================================\n",
      "\n"
     ]
    }
   ],
   "source": [
    "#checking from the inbuilt function\n",
    "import statsmodels.api as sm\n",
    "logit_model=sm.Logit(y_train_l,X_train)\n",
    "result=logit_model.fit()\n",
    "print(result.summary2())"
   ]
  },
  {
   "cell_type": "code",
   "execution_count": 848,
   "metadata": {
    "scrolled": true
   },
   "outputs": [
    {
     "name": "stdout",
     "output_type": "stream",
     "text": [
      "[[24546 11660]\n",
      " [11622 24652]]\n"
     ]
    }
   ],
   "source": [
    "confusion_matrix8 = confusion_matrix(y_test_l, y_pred_l1_8)\n",
    "print(confusion_matrix8)\n",
    "#Accuracy : 67.7%"
   ]
  },
  {
   "cell_type": "code",
   "execution_count": 170,
   "metadata": {},
   "outputs": [
    {
     "data": {
      "text/plain": [
       "(169120, 15)"
      ]
     },
     "execution_count": 170,
     "metadata": {},
     "output_type": "execute_result"
    }
   ],
   "source": [
    "X_train_l.shape"
   ]
  },
  {
   "cell_type": "code",
   "execution_count": 171,
   "metadata": {},
   "outputs": [
    {
     "name": "stdout",
     "output_type": "stream",
     "text": [
      "[[57721 26874]\n",
      " [27383 57142]]\n"
     ]
    }
   ],
   "source": [
    "from sklearn.metrics import confusion_matrix\n",
    "y_pred_tr18=predict(X_train,params_optimal1_8)\n",
    "confusion_matrix1 = confusion_matrix(y_train_l, y_pred_tr18)\n",
    "print(confusion_matrix1)"
   ]
  },
  {
   "cell_type": "markdown",
   "metadata": {},
   "source": [
    "## Experiment 4"
   ]
  },
  {
   "cell_type": "code",
   "execution_count": 178,
   "metadata": {},
   "outputs": [],
   "source": [
    "runtime_up = runtime.drop(columns=[\"Run1 (ms)\",\"Run2 (ms)\",\"Run3 (ms)\",\"Run4 (ms)\"])"
   ]
  },
  {
   "cell_type": "code",
   "execution_count": 179,
   "metadata": {},
   "outputs": [
    {
     "data": {
      "text/html": [
       "<style  type=\"text/css\" >\n",
       "    #T_188b822e_4d52_11ea_a933_acd5647de6d0row0_col0 {\n",
       "            background-color:  #fde725;\n",
       "            color:  #000000;\n",
       "        }    #T_188b822e_4d52_11ea_a933_acd5647de6d0row0_col1 {\n",
       "            background-color:  #450457;\n",
       "            color:  #f1f1f1;\n",
       "        }    #T_188b822e_4d52_11ea_a933_acd5647de6d0row0_col2 {\n",
       "            background-color:  #471063;\n",
       "            color:  #f1f1f1;\n",
       "        }    #T_188b822e_4d52_11ea_a933_acd5647de6d0row0_col3 {\n",
       "            background-color:  #39568c;\n",
       "            color:  #f1f1f1;\n",
       "        }    #T_188b822e_4d52_11ea_a933_acd5647de6d0row0_col4 {\n",
       "            background-color:  #443a83;\n",
       "            color:  #f1f1f1;\n",
       "        }    #T_188b822e_4d52_11ea_a933_acd5647de6d0row0_col5 {\n",
       "            background-color:  #355f8d;\n",
       "            color:  #f1f1f1;\n",
       "        }    #T_188b822e_4d52_11ea_a933_acd5647de6d0row0_col6 {\n",
       "            background-color:  #433e85;\n",
       "            color:  #f1f1f1;\n",
       "        }    #T_188b822e_4d52_11ea_a933_acd5647de6d0row0_col7 {\n",
       "            background-color:  #440154;\n",
       "            color:  #f1f1f1;\n",
       "        }    #T_188b822e_4d52_11ea_a933_acd5647de6d0row0_col8 {\n",
       "            background-color:  #24878e;\n",
       "            color:  #000000;\n",
       "        }    #T_188b822e_4d52_11ea_a933_acd5647de6d0row0_col9 {\n",
       "            background-color:  #443983;\n",
       "            color:  #f1f1f1;\n",
       "        }    #T_188b822e_4d52_11ea_a933_acd5647de6d0row0_col10 {\n",
       "            background-color:  #450559;\n",
       "            color:  #f1f1f1;\n",
       "        }    #T_188b822e_4d52_11ea_a933_acd5647de6d0row0_col11 {\n",
       "            background-color:  #440154;\n",
       "            color:  #f1f1f1;\n",
       "        }    #T_188b822e_4d52_11ea_a933_acd5647de6d0row0_col12 {\n",
       "            background-color:  #440154;\n",
       "            color:  #f1f1f1;\n",
       "        }    #T_188b822e_4d52_11ea_a933_acd5647de6d0row0_col13 {\n",
       "            background-color:  #440154;\n",
       "            color:  #f1f1f1;\n",
       "        }    #T_188b822e_4d52_11ea_a933_acd5647de6d0row0_col14 {\n",
       "            background-color:  #23898e;\n",
       "            color:  #000000;\n",
       "        }    #T_188b822e_4d52_11ea_a933_acd5647de6d0row1_col0 {\n",
       "            background-color:  #450457;\n",
       "            color:  #f1f1f1;\n",
       "        }    #T_188b822e_4d52_11ea_a933_acd5647de6d0row1_col1 {\n",
       "            background-color:  #fde725;\n",
       "            color:  #000000;\n",
       "        }    #T_188b822e_4d52_11ea_a933_acd5647de6d0row1_col2 {\n",
       "            background-color:  #471063;\n",
       "            color:  #f1f1f1;\n",
       "        }    #T_188b822e_4d52_11ea_a933_acd5647de6d0row1_col3 {\n",
       "            background-color:  #443b84;\n",
       "            color:  #f1f1f1;\n",
       "        }    #T_188b822e_4d52_11ea_a933_acd5647de6d0row1_col4 {\n",
       "            background-color:  #39558c;\n",
       "            color:  #f1f1f1;\n",
       "        }    #T_188b822e_4d52_11ea_a933_acd5647de6d0row1_col5 {\n",
       "            background-color:  #433e85;\n",
       "            color:  #f1f1f1;\n",
       "        }    #T_188b822e_4d52_11ea_a933_acd5647de6d0row1_col6 {\n",
       "            background-color:  #355f8d;\n",
       "            color:  #f1f1f1;\n",
       "        }    #T_188b822e_4d52_11ea_a933_acd5647de6d0row1_col7 {\n",
       "            background-color:  #440154;\n",
       "            color:  #f1f1f1;\n",
       "        }    #T_188b822e_4d52_11ea_a933_acd5647de6d0row1_col8 {\n",
       "            background-color:  #443983;\n",
       "            color:  #f1f1f1;\n",
       "        }    #T_188b822e_4d52_11ea_a933_acd5647de6d0row1_col9 {\n",
       "            background-color:  #24878e;\n",
       "            color:  #000000;\n",
       "        }    #T_188b822e_4d52_11ea_a933_acd5647de6d0row1_col10 {\n",
       "            background-color:  #450559;\n",
       "            color:  #f1f1f1;\n",
       "        }    #T_188b822e_4d52_11ea_a933_acd5647de6d0row1_col11 {\n",
       "            background-color:  #440154;\n",
       "            color:  #f1f1f1;\n",
       "        }    #T_188b822e_4d52_11ea_a933_acd5647de6d0row1_col12 {\n",
       "            background-color:  #440154;\n",
       "            color:  #f1f1f1;\n",
       "        }    #T_188b822e_4d52_11ea_a933_acd5647de6d0row1_col13 {\n",
       "            background-color:  #440154;\n",
       "            color:  #f1f1f1;\n",
       "        }    #T_188b822e_4d52_11ea_a933_acd5647de6d0row1_col14 {\n",
       "            background-color:  #26828e;\n",
       "            color:  #000000;\n",
       "        }    #T_188b822e_4d52_11ea_a933_acd5647de6d0row2_col0 {\n",
       "            background-color:  #46075a;\n",
       "            color:  #f1f1f1;\n",
       "        }    #T_188b822e_4d52_11ea_a933_acd5647de6d0row2_col1 {\n",
       "            background-color:  #46075a;\n",
       "            color:  #f1f1f1;\n",
       "        }    #T_188b822e_4d52_11ea_a933_acd5647de6d0row2_col2 {\n",
       "            background-color:  #fde725;\n",
       "            color:  #000000;\n",
       "        }    #T_188b822e_4d52_11ea_a933_acd5647de6d0row2_col3 {\n",
       "            background-color:  #34608d;\n",
       "            color:  #f1f1f1;\n",
       "        }    #T_188b822e_4d52_11ea_a933_acd5647de6d0row2_col4 {\n",
       "            background-color:  #355f8d;\n",
       "            color:  #f1f1f1;\n",
       "        }    #T_188b822e_4d52_11ea_a933_acd5647de6d0row2_col5 {\n",
       "            background-color:  #46307e;\n",
       "            color:  #f1f1f1;\n",
       "        }    #T_188b822e_4d52_11ea_a933_acd5647de6d0row2_col6 {\n",
       "            background-color:  #46307e;\n",
       "            color:  #f1f1f1;\n",
       "        }    #T_188b822e_4d52_11ea_a933_acd5647de6d0row2_col7 {\n",
       "            background-color:  #440154;\n",
       "            color:  #f1f1f1;\n",
       "        }    #T_188b822e_4d52_11ea_a933_acd5647de6d0row2_col8 {\n",
       "            background-color:  #453781;\n",
       "            color:  #f1f1f1;\n",
       "        }    #T_188b822e_4d52_11ea_a933_acd5647de6d0row2_col9 {\n",
       "            background-color:  #453781;\n",
       "            color:  #f1f1f1;\n",
       "        }    #T_188b822e_4d52_11ea_a933_acd5647de6d0row2_col10 {\n",
       "            background-color:  #450559;\n",
       "            color:  #f1f1f1;\n",
       "        }    #T_188b822e_4d52_11ea_a933_acd5647de6d0row2_col11 {\n",
       "            background-color:  #440154;\n",
       "            color:  #f1f1f1;\n",
       "        }    #T_188b822e_4d52_11ea_a933_acd5647de6d0row2_col12 {\n",
       "            background-color:  #440154;\n",
       "            color:  #f1f1f1;\n",
       "        }    #T_188b822e_4d52_11ea_a933_acd5647de6d0row2_col13 {\n",
       "            background-color:  #440154;\n",
       "            color:  #f1f1f1;\n",
       "        }    #T_188b822e_4d52_11ea_a933_acd5647de6d0row2_col14 {\n",
       "            background-color:  #424086;\n",
       "            color:  #f1f1f1;\n",
       "        }    #T_188b822e_4d52_11ea_a933_acd5647de6d0row3_col0 {\n",
       "            background-color:  #482979;\n",
       "            color:  #f1f1f1;\n",
       "        }    #T_188b822e_4d52_11ea_a933_acd5647de6d0row3_col1 {\n",
       "            background-color:  #440154;\n",
       "            color:  #f1f1f1;\n",
       "        }    #T_188b822e_4d52_11ea_a933_acd5647de6d0row3_col2 {\n",
       "            background-color:  #433d84;\n",
       "            color:  #f1f1f1;\n",
       "        }    #T_188b822e_4d52_11ea_a933_acd5647de6d0row3_col3 {\n",
       "            background-color:  #fde725;\n",
       "            color:  #000000;\n",
       "        }    #T_188b822e_4d52_11ea_a933_acd5647de6d0row3_col4 {\n",
       "            background-color:  #440256;\n",
       "            color:  #f1f1f1;\n",
       "        }    #T_188b822e_4d52_11ea_a933_acd5647de6d0row3_col5 {\n",
       "            background-color:  #31688e;\n",
       "            color:  #f1f1f1;\n",
       "        }    #T_188b822e_4d52_11ea_a933_acd5647de6d0row3_col6 {\n",
       "            background-color:  #3c4f8a;\n",
       "            color:  #f1f1f1;\n",
       "        }    #T_188b822e_4d52_11ea_a933_acd5647de6d0row3_col7 {\n",
       "            background-color:  #440154;\n",
       "            color:  #f1f1f1;\n",
       "        }    #T_188b822e_4d52_11ea_a933_acd5647de6d0row3_col8 {\n",
       "            background-color:  #481668;\n",
       "            color:  #f1f1f1;\n",
       "        }    #T_188b822e_4d52_11ea_a933_acd5647de6d0row3_col9 {\n",
       "            background-color:  #433d84;\n",
       "            color:  #f1f1f1;\n",
       "        }    #T_188b822e_4d52_11ea_a933_acd5647de6d0row3_col10 {\n",
       "            background-color:  #450559;\n",
       "            color:  #f1f1f1;\n",
       "        }    #T_188b822e_4d52_11ea_a933_acd5647de6d0row3_col11 {\n",
       "            background-color:  #440154;\n",
       "            color:  #f1f1f1;\n",
       "        }    #T_188b822e_4d52_11ea_a933_acd5647de6d0row3_col12 {\n",
       "            background-color:  #440154;\n",
       "            color:  #f1f1f1;\n",
       "        }    #T_188b822e_4d52_11ea_a933_acd5647de6d0row3_col13 {\n",
       "            background-color:  #440154;\n",
       "            color:  #f1f1f1;\n",
       "        }    #T_188b822e_4d52_11ea_a933_acd5647de6d0row3_col14 {\n",
       "            background-color:  #440154;\n",
       "            color:  #f1f1f1;\n",
       "        }    #T_188b822e_4d52_11ea_a933_acd5647de6d0row4_col0 {\n",
       "            background-color:  #440154;\n",
       "            color:  #f1f1f1;\n",
       "        }    #T_188b822e_4d52_11ea_a933_acd5647de6d0row4_col1 {\n",
       "            background-color:  #482979;\n",
       "            color:  #f1f1f1;\n",
       "        }    #T_188b822e_4d52_11ea_a933_acd5647de6d0row4_col2 {\n",
       "            background-color:  #433d84;\n",
       "            color:  #f1f1f1;\n",
       "        }    #T_188b822e_4d52_11ea_a933_acd5647de6d0row4_col3 {\n",
       "            background-color:  #450457;\n",
       "            color:  #f1f1f1;\n",
       "        }    #T_188b822e_4d52_11ea_a933_acd5647de6d0row4_col4 {\n",
       "            background-color:  #fde725;\n",
       "            color:  #000000;\n",
       "        }    #T_188b822e_4d52_11ea_a933_acd5647de6d0row4_col5 {\n",
       "            background-color:  #3c4f8a;\n",
       "            color:  #f1f1f1;\n",
       "        }    #T_188b822e_4d52_11ea_a933_acd5647de6d0row4_col6 {\n",
       "            background-color:  #31688e;\n",
       "            color:  #f1f1f1;\n",
       "        }    #T_188b822e_4d52_11ea_a933_acd5647de6d0row4_col7 {\n",
       "            background-color:  #440154;\n",
       "            color:  #f1f1f1;\n",
       "        }    #T_188b822e_4d52_11ea_a933_acd5647de6d0row4_col8 {\n",
       "            background-color:  #433d84;\n",
       "            color:  #f1f1f1;\n",
       "        }    #T_188b822e_4d52_11ea_a933_acd5647de6d0row4_col9 {\n",
       "            background-color:  #481668;\n",
       "            color:  #f1f1f1;\n",
       "        }    #T_188b822e_4d52_11ea_a933_acd5647de6d0row4_col10 {\n",
       "            background-color:  #450559;\n",
       "            color:  #f1f1f1;\n",
       "        }    #T_188b822e_4d52_11ea_a933_acd5647de6d0row4_col11 {\n",
       "            background-color:  #440154;\n",
       "            color:  #f1f1f1;\n",
       "        }    #T_188b822e_4d52_11ea_a933_acd5647de6d0row4_col12 {\n",
       "            background-color:  #440154;\n",
       "            color:  #f1f1f1;\n",
       "        }    #T_188b822e_4d52_11ea_a933_acd5647de6d0row4_col13 {\n",
       "            background-color:  #440154;\n",
       "            color:  #f1f1f1;\n",
       "        }    #T_188b822e_4d52_11ea_a933_acd5647de6d0row4_col14 {\n",
       "            background-color:  #440256;\n",
       "            color:  #f1f1f1;\n",
       "        }    #T_188b822e_4d52_11ea_a933_acd5647de6d0row5_col0 {\n",
       "            background-color:  #443983;\n",
       "            color:  #f1f1f1;\n",
       "        }    #T_188b822e_4d52_11ea_a933_acd5647de6d0row5_col1 {\n",
       "            background-color:  #46085c;\n",
       "            color:  #f1f1f1;\n",
       "        }    #T_188b822e_4d52_11ea_a933_acd5647de6d0row5_col2 {\n",
       "            background-color:  #440154;\n",
       "            color:  #f1f1f1;\n",
       "        }    #T_188b822e_4d52_11ea_a933_acd5647de6d0row5_col3 {\n",
       "            background-color:  #306a8e;\n",
       "            color:  #f1f1f1;\n",
       "        }    #T_188b822e_4d52_11ea_a933_acd5647de6d0row5_col4 {\n",
       "            background-color:  #3b518b;\n",
       "            color:  #f1f1f1;\n",
       "        }    #T_188b822e_4d52_11ea_a933_acd5647de6d0row5_col5 {\n",
       "            background-color:  #fde725;\n",
       "            color:  #000000;\n",
       "        }    #T_188b822e_4d52_11ea_a933_acd5647de6d0row5_col6 {\n",
       "            background-color:  #3c4f8a;\n",
       "            color:  #f1f1f1;\n",
       "        }    #T_188b822e_4d52_11ea_a933_acd5647de6d0row5_col7 {\n",
       "            background-color:  #440154;\n",
       "            color:  #f1f1f1;\n",
       "        }    #T_188b822e_4d52_11ea_a933_acd5647de6d0row5_col8 {\n",
       "            background-color:  #440154;\n",
       "            color:  #f1f1f1;\n",
       "        }    #T_188b822e_4d52_11ea_a933_acd5647de6d0row5_col9 {\n",
       "            background-color:  #453581;\n",
       "            color:  #f1f1f1;\n",
       "        }    #T_188b822e_4d52_11ea_a933_acd5647de6d0row5_col10 {\n",
       "            background-color:  #450559;\n",
       "            color:  #f1f1f1;\n",
       "        }    #T_188b822e_4d52_11ea_a933_acd5647de6d0row5_col11 {\n",
       "            background-color:  #440154;\n",
       "            color:  #f1f1f1;\n",
       "        }    #T_188b822e_4d52_11ea_a933_acd5647de6d0row5_col12 {\n",
       "            background-color:  #440154;\n",
       "            color:  #f1f1f1;\n",
       "        }    #T_188b822e_4d52_11ea_a933_acd5647de6d0row5_col13 {\n",
       "            background-color:  #440154;\n",
       "            color:  #f1f1f1;\n",
       "        }    #T_188b822e_4d52_11ea_a933_acd5647de6d0row5_col14 {\n",
       "            background-color:  #443b84;\n",
       "            color:  #f1f1f1;\n",
       "        }    #T_188b822e_4d52_11ea_a933_acd5647de6d0row6_col0 {\n",
       "            background-color:  #46085c;\n",
       "            color:  #f1f1f1;\n",
       "        }    #T_188b822e_4d52_11ea_a933_acd5647de6d0row6_col1 {\n",
       "            background-color:  #443983;\n",
       "            color:  #f1f1f1;\n",
       "        }    #T_188b822e_4d52_11ea_a933_acd5647de6d0row6_col2 {\n",
       "            background-color:  #440154;\n",
       "            color:  #f1f1f1;\n",
       "        }    #T_188b822e_4d52_11ea_a933_acd5647de6d0row6_col3 {\n",
       "            background-color:  #3b528b;\n",
       "            color:  #f1f1f1;\n",
       "        }    #T_188b822e_4d52_11ea_a933_acd5647de6d0row6_col4 {\n",
       "            background-color:  #30698e;\n",
       "            color:  #f1f1f1;\n",
       "        }    #T_188b822e_4d52_11ea_a933_acd5647de6d0row6_col5 {\n",
       "            background-color:  #3c4f8a;\n",
       "            color:  #f1f1f1;\n",
       "        }    #T_188b822e_4d52_11ea_a933_acd5647de6d0row6_col6 {\n",
       "            background-color:  #fde725;\n",
       "            color:  #000000;\n",
       "        }    #T_188b822e_4d52_11ea_a933_acd5647de6d0row6_col7 {\n",
       "            background-color:  #440154;\n",
       "            color:  #f1f1f1;\n",
       "        }    #T_188b822e_4d52_11ea_a933_acd5647de6d0row6_col8 {\n",
       "            background-color:  #453581;\n",
       "            color:  #f1f1f1;\n",
       "        }    #T_188b822e_4d52_11ea_a933_acd5647de6d0row6_col9 {\n",
       "            background-color:  #440154;\n",
       "            color:  #f1f1f1;\n",
       "        }    #T_188b822e_4d52_11ea_a933_acd5647de6d0row6_col10 {\n",
       "            background-color:  #450559;\n",
       "            color:  #f1f1f1;\n",
       "        }    #T_188b822e_4d52_11ea_a933_acd5647de6d0row6_col11 {\n",
       "            background-color:  #440154;\n",
       "            color:  #f1f1f1;\n",
       "        }    #T_188b822e_4d52_11ea_a933_acd5647de6d0row6_col12 {\n",
       "            background-color:  #440154;\n",
       "            color:  #f1f1f1;\n",
       "        }    #T_188b822e_4d52_11ea_a933_acd5647de6d0row6_col13 {\n",
       "            background-color:  #440154;\n",
       "            color:  #f1f1f1;\n",
       "        }    #T_188b822e_4d52_11ea_a933_acd5647de6d0row6_col14 {\n",
       "            background-color:  #443b84;\n",
       "            color:  #f1f1f1;\n",
       "        }    #T_188b822e_4d52_11ea_a933_acd5647de6d0row7_col0 {\n",
       "            background-color:  #450457;\n",
       "            color:  #f1f1f1;\n",
       "        }    #T_188b822e_4d52_11ea_a933_acd5647de6d0row7_col1 {\n",
       "            background-color:  #450457;\n",
       "            color:  #f1f1f1;\n",
       "        }    #T_188b822e_4d52_11ea_a933_acd5647de6d0row7_col2 {\n",
       "            background-color:  #470d60;\n",
       "            color:  #f1f1f1;\n",
       "        }    #T_188b822e_4d52_11ea_a933_acd5647de6d0row7_col3 {\n",
       "            background-color:  #433e85;\n",
       "            color:  #f1f1f1;\n",
       "        }    #T_188b822e_4d52_11ea_a933_acd5647de6d0row7_col4 {\n",
       "            background-color:  #433d84;\n",
       "            color:  #f1f1f1;\n",
       "        }    #T_188b822e_4d52_11ea_a933_acd5647de6d0row7_col5 {\n",
       "            background-color:  #443a83;\n",
       "            color:  #f1f1f1;\n",
       "        }    #T_188b822e_4d52_11ea_a933_acd5647de6d0row7_col6 {\n",
       "            background-color:  #443a83;\n",
       "            color:  #f1f1f1;\n",
       "        }    #T_188b822e_4d52_11ea_a933_acd5647de6d0row7_col7 {\n",
       "            background-color:  #fde725;\n",
       "            color:  #000000;\n",
       "        }    #T_188b822e_4d52_11ea_a933_acd5647de6d0row7_col8 {\n",
       "            background-color:  #443a83;\n",
       "            color:  #f1f1f1;\n",
       "        }    #T_188b822e_4d52_11ea_a933_acd5647de6d0row7_col9 {\n",
       "            background-color:  #443a83;\n",
       "            color:  #f1f1f1;\n",
       "        }    #T_188b822e_4d52_11ea_a933_acd5647de6d0row7_col10 {\n",
       "            background-color:  #450559;\n",
       "            color:  #f1f1f1;\n",
       "        }    #T_188b822e_4d52_11ea_a933_acd5647de6d0row7_col11 {\n",
       "            background-color:  #440154;\n",
       "            color:  #f1f1f1;\n",
       "        }    #T_188b822e_4d52_11ea_a933_acd5647de6d0row7_col12 {\n",
       "            background-color:  #440154;\n",
       "            color:  #f1f1f1;\n",
       "        }    #T_188b822e_4d52_11ea_a933_acd5647de6d0row7_col13 {\n",
       "            background-color:  #440154;\n",
       "            color:  #f1f1f1;\n",
       "        }    #T_188b822e_4d52_11ea_a933_acd5647de6d0row7_col14 {\n",
       "            background-color:  #404688;\n",
       "            color:  #f1f1f1;\n",
       "        }    #T_188b822e_4d52_11ea_a933_acd5647de6d0row8_col0 {\n",
       "            background-color:  #2e6e8e;\n",
       "            color:  #f1f1f1;\n",
       "        }    #T_188b822e_4d52_11ea_a933_acd5647de6d0row8_col1 {\n",
       "            background-color:  #440256;\n",
       "            color:  #f1f1f1;\n",
       "        }    #T_188b822e_4d52_11ea_a933_acd5647de6d0row8_col2 {\n",
       "            background-color:  #46085c;\n",
       "            color:  #f1f1f1;\n",
       "        }    #T_188b822e_4d52_11ea_a933_acd5647de6d0row8_col3 {\n",
       "            background-color:  #481b6d;\n",
       "            color:  #f1f1f1;\n",
       "        }    #T_188b822e_4d52_11ea_a933_acd5647de6d0row8_col4 {\n",
       "            background-color:  #423f85;\n",
       "            color:  #f1f1f1;\n",
       "        }    #T_188b822e_4d52_11ea_a933_acd5647de6d0row8_col5 {\n",
       "            background-color:  #440154;\n",
       "            color:  #f1f1f1;\n",
       "        }    #T_188b822e_4d52_11ea_a933_acd5647de6d0row8_col6 {\n",
       "            background-color:  #453581;\n",
       "            color:  #f1f1f1;\n",
       "        }    #T_188b822e_4d52_11ea_a933_acd5647de6d0row8_col7 {\n",
       "            background-color:  #440154;\n",
       "            color:  #f1f1f1;\n",
       "        }    #T_188b822e_4d52_11ea_a933_acd5647de6d0row8_col8 {\n",
       "            background-color:  #fde725;\n",
       "            color:  #000000;\n",
       "        }    #T_188b822e_4d52_11ea_a933_acd5647de6d0row8_col9 {\n",
       "            background-color:  #443a83;\n",
       "            color:  #f1f1f1;\n",
       "        }    #T_188b822e_4d52_11ea_a933_acd5647de6d0row8_col10 {\n",
       "            background-color:  #450559;\n",
       "            color:  #f1f1f1;\n",
       "        }    #T_188b822e_4d52_11ea_a933_acd5647de6d0row8_col11 {\n",
       "            background-color:  #440154;\n",
       "            color:  #f1f1f1;\n",
       "        }    #T_188b822e_4d52_11ea_a933_acd5647de6d0row8_col12 {\n",
       "            background-color:  #440154;\n",
       "            color:  #f1f1f1;\n",
       "        }    #T_188b822e_4d52_11ea_a933_acd5647de6d0row8_col13 {\n",
       "            background-color:  #440154;\n",
       "            color:  #f1f1f1;\n",
       "        }    #T_188b822e_4d52_11ea_a933_acd5647de6d0row8_col14 {\n",
       "            background-color:  #33638d;\n",
       "            color:  #f1f1f1;\n",
       "        }    #T_188b822e_4d52_11ea_a933_acd5647de6d0row9_col0 {\n",
       "            background-color:  #440256;\n",
       "            color:  #f1f1f1;\n",
       "        }    #T_188b822e_4d52_11ea_a933_acd5647de6d0row9_col1 {\n",
       "            background-color:  #2e6e8e;\n",
       "            color:  #f1f1f1;\n",
       "        }    #T_188b822e_4d52_11ea_a933_acd5647de6d0row9_col2 {\n",
       "            background-color:  #46085c;\n",
       "            color:  #f1f1f1;\n",
       "        }    #T_188b822e_4d52_11ea_a933_acd5647de6d0row9_col3 {\n",
       "            background-color:  #424086;\n",
       "            color:  #f1f1f1;\n",
       "        }    #T_188b822e_4d52_11ea_a933_acd5647de6d0row9_col4 {\n",
       "            background-color:  #481a6c;\n",
       "            color:  #f1f1f1;\n",
       "        }    #T_188b822e_4d52_11ea_a933_acd5647de6d0row9_col5 {\n",
       "            background-color:  #453581;\n",
       "            color:  #f1f1f1;\n",
       "        }    #T_188b822e_4d52_11ea_a933_acd5647de6d0row9_col6 {\n",
       "            background-color:  #440154;\n",
       "            color:  #f1f1f1;\n",
       "        }    #T_188b822e_4d52_11ea_a933_acd5647de6d0row9_col7 {\n",
       "            background-color:  #440154;\n",
       "            color:  #f1f1f1;\n",
       "        }    #T_188b822e_4d52_11ea_a933_acd5647de6d0row9_col8 {\n",
       "            background-color:  #443a83;\n",
       "            color:  #f1f1f1;\n",
       "        }    #T_188b822e_4d52_11ea_a933_acd5647de6d0row9_col9 {\n",
       "            background-color:  #fde725;\n",
       "            color:  #000000;\n",
       "        }    #T_188b822e_4d52_11ea_a933_acd5647de6d0row9_col10 {\n",
       "            background-color:  #450559;\n",
       "            color:  #f1f1f1;\n",
       "        }    #T_188b822e_4d52_11ea_a933_acd5647de6d0row9_col11 {\n",
       "            background-color:  #440154;\n",
       "            color:  #f1f1f1;\n",
       "        }    #T_188b822e_4d52_11ea_a933_acd5647de6d0row9_col12 {\n",
       "            background-color:  #440154;\n",
       "            color:  #f1f1f1;\n",
       "        }    #T_188b822e_4d52_11ea_a933_acd5647de6d0row9_col13 {\n",
       "            background-color:  #440154;\n",
       "            color:  #f1f1f1;\n",
       "        }    #T_188b822e_4d52_11ea_a933_acd5647de6d0row9_col14 {\n",
       "            background-color:  #355f8d;\n",
       "            color:  #f1f1f1;\n",
       "        }    #T_188b822e_4d52_11ea_a933_acd5647de6d0row10_col0 {\n",
       "            background-color:  #450457;\n",
       "            color:  #f1f1f1;\n",
       "        }    #T_188b822e_4d52_11ea_a933_acd5647de6d0row10_col1 {\n",
       "            background-color:  #450457;\n",
       "            color:  #f1f1f1;\n",
       "        }    #T_188b822e_4d52_11ea_a933_acd5647de6d0row10_col2 {\n",
       "            background-color:  #470d60;\n",
       "            color:  #f1f1f1;\n",
       "        }    #T_188b822e_4d52_11ea_a933_acd5647de6d0row10_col3 {\n",
       "            background-color:  #433e85;\n",
       "            color:  #f1f1f1;\n",
       "        }    #T_188b822e_4d52_11ea_a933_acd5647de6d0row10_col4 {\n",
       "            background-color:  #433d84;\n",
       "            color:  #f1f1f1;\n",
       "        }    #T_188b822e_4d52_11ea_a933_acd5647de6d0row10_col5 {\n",
       "            background-color:  #443a83;\n",
       "            color:  #f1f1f1;\n",
       "        }    #T_188b822e_4d52_11ea_a933_acd5647de6d0row10_col6 {\n",
       "            background-color:  #443a83;\n",
       "            color:  #f1f1f1;\n",
       "        }    #T_188b822e_4d52_11ea_a933_acd5647de6d0row10_col7 {\n",
       "            background-color:  #440154;\n",
       "            color:  #f1f1f1;\n",
       "        }    #T_188b822e_4d52_11ea_a933_acd5647de6d0row10_col8 {\n",
       "            background-color:  #443a83;\n",
       "            color:  #f1f1f1;\n",
       "        }    #T_188b822e_4d52_11ea_a933_acd5647de6d0row10_col9 {\n",
       "            background-color:  #443a83;\n",
       "            color:  #f1f1f1;\n",
       "        }    #T_188b822e_4d52_11ea_a933_acd5647de6d0row10_col10 {\n",
       "            background-color:  #fde725;\n",
       "            color:  #000000;\n",
       "        }    #T_188b822e_4d52_11ea_a933_acd5647de6d0row10_col11 {\n",
       "            background-color:  #440154;\n",
       "            color:  #f1f1f1;\n",
       "        }    #T_188b822e_4d52_11ea_a933_acd5647de6d0row10_col12 {\n",
       "            background-color:  #440154;\n",
       "            color:  #f1f1f1;\n",
       "        }    #T_188b822e_4d52_11ea_a933_acd5647de6d0row10_col13 {\n",
       "            background-color:  #440154;\n",
       "            color:  #f1f1f1;\n",
       "        }    #T_188b822e_4d52_11ea_a933_acd5647de6d0row10_col14 {\n",
       "            background-color:  #443a83;\n",
       "            color:  #f1f1f1;\n",
       "        }    #T_188b822e_4d52_11ea_a933_acd5647de6d0row11_col0 {\n",
       "            background-color:  #450457;\n",
       "            color:  #f1f1f1;\n",
       "        }    #T_188b822e_4d52_11ea_a933_acd5647de6d0row11_col1 {\n",
       "            background-color:  #450457;\n",
       "            color:  #f1f1f1;\n",
       "        }    #T_188b822e_4d52_11ea_a933_acd5647de6d0row11_col2 {\n",
       "            background-color:  #470d60;\n",
       "            color:  #f1f1f1;\n",
       "        }    #T_188b822e_4d52_11ea_a933_acd5647de6d0row11_col3 {\n",
       "            background-color:  #433e85;\n",
       "            color:  #f1f1f1;\n",
       "        }    #T_188b822e_4d52_11ea_a933_acd5647de6d0row11_col4 {\n",
       "            background-color:  #433d84;\n",
       "            color:  #f1f1f1;\n",
       "        }    #T_188b822e_4d52_11ea_a933_acd5647de6d0row11_col5 {\n",
       "            background-color:  #443a83;\n",
       "            color:  #f1f1f1;\n",
       "        }    #T_188b822e_4d52_11ea_a933_acd5647de6d0row11_col6 {\n",
       "            background-color:  #443a83;\n",
       "            color:  #f1f1f1;\n",
       "        }    #T_188b822e_4d52_11ea_a933_acd5647de6d0row11_col7 {\n",
       "            background-color:  #440154;\n",
       "            color:  #f1f1f1;\n",
       "        }    #T_188b822e_4d52_11ea_a933_acd5647de6d0row11_col8 {\n",
       "            background-color:  #443a83;\n",
       "            color:  #f1f1f1;\n",
       "        }    #T_188b822e_4d52_11ea_a933_acd5647de6d0row11_col9 {\n",
       "            background-color:  #443a83;\n",
       "            color:  #f1f1f1;\n",
       "        }    #T_188b822e_4d52_11ea_a933_acd5647de6d0row11_col10 {\n",
       "            background-color:  #450559;\n",
       "            color:  #f1f1f1;\n",
       "        }    #T_188b822e_4d52_11ea_a933_acd5647de6d0row11_col11 {\n",
       "            background-color:  #fde725;\n",
       "            color:  #000000;\n",
       "        }    #T_188b822e_4d52_11ea_a933_acd5647de6d0row11_col12 {\n",
       "            background-color:  #440154;\n",
       "            color:  #f1f1f1;\n",
       "        }    #T_188b822e_4d52_11ea_a933_acd5647de6d0row11_col13 {\n",
       "            background-color:  #440154;\n",
       "            color:  #f1f1f1;\n",
       "        }    #T_188b822e_4d52_11ea_a933_acd5647de6d0row11_col14 {\n",
       "            background-color:  #433e85;\n",
       "            color:  #f1f1f1;\n",
       "        }    #T_188b822e_4d52_11ea_a933_acd5647de6d0row12_col0 {\n",
       "            background-color:  #450457;\n",
       "            color:  #f1f1f1;\n",
       "        }    #T_188b822e_4d52_11ea_a933_acd5647de6d0row12_col1 {\n",
       "            background-color:  #450457;\n",
       "            color:  #f1f1f1;\n",
       "        }    #T_188b822e_4d52_11ea_a933_acd5647de6d0row12_col2 {\n",
       "            background-color:  #470d60;\n",
       "            color:  #f1f1f1;\n",
       "        }    #T_188b822e_4d52_11ea_a933_acd5647de6d0row12_col3 {\n",
       "            background-color:  #433e85;\n",
       "            color:  #f1f1f1;\n",
       "        }    #T_188b822e_4d52_11ea_a933_acd5647de6d0row12_col4 {\n",
       "            background-color:  #433d84;\n",
       "            color:  #f1f1f1;\n",
       "        }    #T_188b822e_4d52_11ea_a933_acd5647de6d0row12_col5 {\n",
       "            background-color:  #443a83;\n",
       "            color:  #f1f1f1;\n",
       "        }    #T_188b822e_4d52_11ea_a933_acd5647de6d0row12_col6 {\n",
       "            background-color:  #443a83;\n",
       "            color:  #f1f1f1;\n",
       "        }    #T_188b822e_4d52_11ea_a933_acd5647de6d0row12_col7 {\n",
       "            background-color:  #440154;\n",
       "            color:  #f1f1f1;\n",
       "        }    #T_188b822e_4d52_11ea_a933_acd5647de6d0row12_col8 {\n",
       "            background-color:  #443a83;\n",
       "            color:  #f1f1f1;\n",
       "        }    #T_188b822e_4d52_11ea_a933_acd5647de6d0row12_col9 {\n",
       "            background-color:  #443a83;\n",
       "            color:  #f1f1f1;\n",
       "        }    #T_188b822e_4d52_11ea_a933_acd5647de6d0row12_col10 {\n",
       "            background-color:  #450559;\n",
       "            color:  #f1f1f1;\n",
       "        }    #T_188b822e_4d52_11ea_a933_acd5647de6d0row12_col11 {\n",
       "            background-color:  #440154;\n",
       "            color:  #f1f1f1;\n",
       "        }    #T_188b822e_4d52_11ea_a933_acd5647de6d0row12_col12 {\n",
       "            background-color:  #fde725;\n",
       "            color:  #000000;\n",
       "        }    #T_188b822e_4d52_11ea_a933_acd5647de6d0row12_col13 {\n",
       "            background-color:  #440154;\n",
       "            color:  #f1f1f1;\n",
       "        }    #T_188b822e_4d52_11ea_a933_acd5647de6d0row12_col14 {\n",
       "            background-color:  #3e4a89;\n",
       "            color:  #f1f1f1;\n",
       "        }    #T_188b822e_4d52_11ea_a933_acd5647de6d0row13_col0 {\n",
       "            background-color:  #450457;\n",
       "            color:  #f1f1f1;\n",
       "        }    #T_188b822e_4d52_11ea_a933_acd5647de6d0row13_col1 {\n",
       "            background-color:  #450457;\n",
       "            color:  #f1f1f1;\n",
       "        }    #T_188b822e_4d52_11ea_a933_acd5647de6d0row13_col2 {\n",
       "            background-color:  #470d60;\n",
       "            color:  #f1f1f1;\n",
       "        }    #T_188b822e_4d52_11ea_a933_acd5647de6d0row13_col3 {\n",
       "            background-color:  #433e85;\n",
       "            color:  #f1f1f1;\n",
       "        }    #T_188b822e_4d52_11ea_a933_acd5647de6d0row13_col4 {\n",
       "            background-color:  #433d84;\n",
       "            color:  #f1f1f1;\n",
       "        }    #T_188b822e_4d52_11ea_a933_acd5647de6d0row13_col5 {\n",
       "            background-color:  #443a83;\n",
       "            color:  #f1f1f1;\n",
       "        }    #T_188b822e_4d52_11ea_a933_acd5647de6d0row13_col6 {\n",
       "            background-color:  #443a83;\n",
       "            color:  #f1f1f1;\n",
       "        }    #T_188b822e_4d52_11ea_a933_acd5647de6d0row13_col7 {\n",
       "            background-color:  #440154;\n",
       "            color:  #f1f1f1;\n",
       "        }    #T_188b822e_4d52_11ea_a933_acd5647de6d0row13_col8 {\n",
       "            background-color:  #443a83;\n",
       "            color:  #f1f1f1;\n",
       "        }    #T_188b822e_4d52_11ea_a933_acd5647de6d0row13_col9 {\n",
       "            background-color:  #443a83;\n",
       "            color:  #f1f1f1;\n",
       "        }    #T_188b822e_4d52_11ea_a933_acd5647de6d0row13_col10 {\n",
       "            background-color:  #450559;\n",
       "            color:  #f1f1f1;\n",
       "        }    #T_188b822e_4d52_11ea_a933_acd5647de6d0row13_col11 {\n",
       "            background-color:  #440154;\n",
       "            color:  #f1f1f1;\n",
       "        }    #T_188b822e_4d52_11ea_a933_acd5647de6d0row13_col12 {\n",
       "            background-color:  #440154;\n",
       "            color:  #f1f1f1;\n",
       "        }    #T_188b822e_4d52_11ea_a933_acd5647de6d0row13_col13 {\n",
       "            background-color:  #fde725;\n",
       "            color:  #000000;\n",
       "        }    #T_188b822e_4d52_11ea_a933_acd5647de6d0row13_col14 {\n",
       "            background-color:  #3d4d8a;\n",
       "            color:  #f1f1f1;\n",
       "        }    #T_188b822e_4d52_11ea_a933_acd5647de6d0row14_col0 {\n",
       "            background-color:  #2e6e8e;\n",
       "            color:  #f1f1f1;\n",
       "        }    #T_188b822e_4d52_11ea_a933_acd5647de6d0row14_col1 {\n",
       "            background-color:  #31668e;\n",
       "            color:  #f1f1f1;\n",
       "        }    #T_188b822e_4d52_11ea_a933_acd5647de6d0row14_col2 {\n",
       "            background-color:  #471164;\n",
       "            color:  #f1f1f1;\n",
       "        }    #T_188b822e_4d52_11ea_a933_acd5647de6d0row14_col3 {\n",
       "            background-color:  #440154;\n",
       "            color:  #f1f1f1;\n",
       "        }    #T_188b822e_4d52_11ea_a933_acd5647de6d0row14_col4 {\n",
       "            background-color:  #440154;\n",
       "            color:  #f1f1f1;\n",
       "        }    #T_188b822e_4d52_11ea_a933_acd5647de6d0row14_col5 {\n",
       "            background-color:  #453882;\n",
       "            color:  #f1f1f1;\n",
       "        }    #T_188b822e_4d52_11ea_a933_acd5647de6d0row14_col6 {\n",
       "            background-color:  #453882;\n",
       "            color:  #f1f1f1;\n",
       "        }    #T_188b822e_4d52_11ea_a933_acd5647de6d0row14_col7 {\n",
       "            background-color:  #470d60;\n",
       "            color:  #f1f1f1;\n",
       "        }    #T_188b822e_4d52_11ea_a933_acd5647de6d0row14_col8 {\n",
       "            background-color:  #34618d;\n",
       "            color:  #f1f1f1;\n",
       "        }    #T_188b822e_4d52_11ea_a933_acd5647de6d0row14_col9 {\n",
       "            background-color:  #365c8d;\n",
       "            color:  #f1f1f1;\n",
       "        }    #T_188b822e_4d52_11ea_a933_acd5647de6d0row14_col10 {\n",
       "            background-color:  #440154;\n",
       "            color:  #f1f1f1;\n",
       "        }    #T_188b822e_4d52_11ea_a933_acd5647de6d0row14_col11 {\n",
       "            background-color:  #440154;\n",
       "            color:  #f1f1f1;\n",
       "        }    #T_188b822e_4d52_11ea_a933_acd5647de6d0row14_col12 {\n",
       "            background-color:  #481467;\n",
       "            color:  #f1f1f1;\n",
       "        }    #T_188b822e_4d52_11ea_a933_acd5647de6d0row14_col13 {\n",
       "            background-color:  #48186a;\n",
       "            color:  #f1f1f1;\n",
       "        }    #T_188b822e_4d52_11ea_a933_acd5647de6d0row14_col14 {\n",
       "            background-color:  #fde725;\n",
       "            color:  #000000;\n",
       "        }</style><table id=\"T_188b822e_4d52_11ea_a933_acd5647de6d0\" ><thead>    <tr>        <th class=\"blank level0\" ></th>        <th class=\"col_heading level0 col0\" >MWG</th>        <th class=\"col_heading level0 col1\" >NWG</th>        <th class=\"col_heading level0 col2\" >KWG</th>        <th class=\"col_heading level0 col3\" >MDIMC</th>        <th class=\"col_heading level0 col4\" >NDIMC</th>        <th class=\"col_heading level0 col5\" >MDIMA</th>        <th class=\"col_heading level0 col6\" >NDIMB</th>        <th class=\"col_heading level0 col7\" >KWI</th>        <th class=\"col_heading level0 col8\" >VWM</th>        <th class=\"col_heading level0 col9\" >VWN</th>        <th class=\"col_heading level0 col10\" >STRM</th>        <th class=\"col_heading level0 col11\" >STRN</th>        <th class=\"col_heading level0 col12\" >SA</th>        <th class=\"col_heading level0 col13\" >SB</th>        <th class=\"col_heading level0 col14\" >runavg (ms)</th>    </tr></thead><tbody>\n",
       "                <tr>\n",
       "                        <th id=\"T_188b822e_4d52_11ea_a933_acd5647de6d0level0_row0\" class=\"row_heading level0 row0\" >MWG</th>\n",
       "                        <td id=\"T_188b822e_4d52_11ea_a933_acd5647de6d0row0_col0\" class=\"data row0 col0\" >1</td>\n",
       "                        <td id=\"T_188b822e_4d52_11ea_a933_acd5647de6d0row0_col1\" class=\"data row0 col1\" >0.0006</td>\n",
       "                        <td id=\"T_188b822e_4d52_11ea_a933_acd5647de6d0row0_col2\" class=\"data row0 col2\" >0.0093</td>\n",
       "                        <td id=\"T_188b822e_4d52_11ea_a933_acd5647de6d0row0_col3\" class=\"data row0 col3\" >0.11</td>\n",
       "                        <td id=\"T_188b822e_4d52_11ea_a933_acd5647de6d0row0_col4\" class=\"data row0 col4\" >-0.0086</td>\n",
       "                        <td id=\"T_188b822e_4d52_11ea_a933_acd5647de6d0row0_col5\" class=\"data row0 col5\" >0.16</td>\n",
       "                        <td id=\"T_188b822e_4d52_11ea_a933_acd5647de6d0row0_col6\" class=\"data row0 col6\" >0.015</td>\n",
       "                        <td id=\"T_188b822e_4d52_11ea_a933_acd5647de6d0row0_col7\" class=\"data row0 col7\" >1.5e-19</td>\n",
       "                        <td id=\"T_188b822e_4d52_11ea_a933_acd5647de6d0row0_col8\" class=\"data row0 col8\" >0.35</td>\n",
       "                        <td id=\"T_188b822e_4d52_11ea_a933_acd5647de6d0row0_col9\" class=\"data row0 col9\" >-0.00084</td>\n",
       "                        <td id=\"T_188b822e_4d52_11ea_a933_acd5647de6d0row0_col10\" class=\"data row0 col10\" >6.9e-21</td>\n",
       "                        <td id=\"T_188b822e_4d52_11ea_a933_acd5647de6d0row0_col11\" class=\"data row0 col11\" >1.4e-21</td>\n",
       "                        <td id=\"T_188b822e_4d52_11ea_a933_acd5647de6d0row0_col12\" class=\"data row0 col12\" >0</td>\n",
       "                        <td id=\"T_188b822e_4d52_11ea_a933_acd5647de6d0row0_col13\" class=\"data row0 col13\" >0</td>\n",
       "                        <td id=\"T_188b822e_4d52_11ea_a933_acd5647de6d0row0_col14\" class=\"data row0 col14\" >0.35</td>\n",
       "            </tr>\n",
       "            <tr>\n",
       "                        <th id=\"T_188b822e_4d52_11ea_a933_acd5647de6d0level0_row1\" class=\"row_heading level0 row1\" >NWG</th>\n",
       "                        <td id=\"T_188b822e_4d52_11ea_a933_acd5647de6d0row1_col0\" class=\"data row1 col0\" >0.0006</td>\n",
       "                        <td id=\"T_188b822e_4d52_11ea_a933_acd5647de6d0row1_col1\" class=\"data row1 col1\" >1</td>\n",
       "                        <td id=\"T_188b822e_4d52_11ea_a933_acd5647de6d0row1_col2\" class=\"data row1 col2\" >0.0093</td>\n",
       "                        <td id=\"T_188b822e_4d52_11ea_a933_acd5647de6d0row1_col3\" class=\"data row1 col3\" >-0.0086</td>\n",
       "                        <td id=\"T_188b822e_4d52_11ea_a933_acd5647de6d0row1_col4\" class=\"data row1 col4\" >0.11</td>\n",
       "                        <td id=\"T_188b822e_4d52_11ea_a933_acd5647de6d0row1_col5\" class=\"data row1 col5\" >0.015</td>\n",
       "                        <td id=\"T_188b822e_4d52_11ea_a933_acd5647de6d0row1_col6\" class=\"data row1 col6\" >0.16</td>\n",
       "                        <td id=\"T_188b822e_4d52_11ea_a933_acd5647de6d0row1_col7\" class=\"data row1 col7\" >8.6e-19</td>\n",
       "                        <td id=\"T_188b822e_4d52_11ea_a933_acd5647de6d0row1_col8\" class=\"data row1 col8\" >-0.00084</td>\n",
       "                        <td id=\"T_188b822e_4d52_11ea_a933_acd5647de6d0row1_col9\" class=\"data row1 col9\" >0.35</td>\n",
       "                        <td id=\"T_188b822e_4d52_11ea_a933_acd5647de6d0row1_col10\" class=\"data row1 col10\" >6.9e-21</td>\n",
       "                        <td id=\"T_188b822e_4d52_11ea_a933_acd5647de6d0row1_col11\" class=\"data row1 col11\" >1.4e-21</td>\n",
       "                        <td id=\"T_188b822e_4d52_11ea_a933_acd5647de6d0row1_col12\" class=\"data row1 col12\" >0</td>\n",
       "                        <td id=\"T_188b822e_4d52_11ea_a933_acd5647de6d0row1_col13\" class=\"data row1 col13\" >0</td>\n",
       "                        <td id=\"T_188b822e_4d52_11ea_a933_acd5647de6d0row1_col14\" class=\"data row1 col14\" >0.32</td>\n",
       "            </tr>\n",
       "            <tr>\n",
       "                        <th id=\"T_188b822e_4d52_11ea_a933_acd5647de6d0level0_row2\" class=\"row_heading level0 row2\" >KWG</th>\n",
       "                        <td id=\"T_188b822e_4d52_11ea_a933_acd5647de6d0row2_col0\" class=\"data row2 col0\" >0.0093</td>\n",
       "                        <td id=\"T_188b822e_4d52_11ea_a933_acd5647de6d0row2_col1\" class=\"data row2 col1\" >0.0093</td>\n",
       "                        <td id=\"T_188b822e_4d52_11ea_a933_acd5647de6d0row2_col2\" class=\"data row2 col2\" >1</td>\n",
       "                        <td id=\"T_188b822e_4d52_11ea_a933_acd5647de6d0row2_col3\" class=\"data row2 col3\" >0.15</td>\n",
       "                        <td id=\"T_188b822e_4d52_11ea_a933_acd5647de6d0row2_col4\" class=\"data row2 col4\" >0.15</td>\n",
       "                        <td id=\"T_188b822e_4d52_11ea_a933_acd5647de6d0row2_col5\" class=\"data row2 col5\" >-0.035</td>\n",
       "                        <td id=\"T_188b822e_4d52_11ea_a933_acd5647de6d0row2_col6\" class=\"data row2 col6\" >-0.035</td>\n",
       "                        <td id=\"T_188b822e_4d52_11ea_a933_acd5647de6d0row2_col7\" class=\"data row2 col7\" >-1.8e-19</td>\n",
       "                        <td id=\"T_188b822e_4d52_11ea_a933_acd5647de6d0row2_col8\" class=\"data row2 col8\" >-0.012</td>\n",
       "                        <td id=\"T_188b822e_4d52_11ea_a933_acd5647de6d0row2_col9\" class=\"data row2 col9\" >-0.012</td>\n",
       "                        <td id=\"T_188b822e_4d52_11ea_a933_acd5647de6d0row2_col10\" class=\"data row2 col10\" >1.9e-21</td>\n",
       "                        <td id=\"T_188b822e_4d52_11ea_a933_acd5647de6d0row2_col11\" class=\"data row2 col11\" >0</td>\n",
       "                        <td id=\"T_188b822e_4d52_11ea_a933_acd5647de6d0row2_col12\" class=\"data row2 col12\" >0</td>\n",
       "                        <td id=\"T_188b822e_4d52_11ea_a933_acd5647de6d0row2_col13\" class=\"data row2 col13\" >0</td>\n",
       "                        <td id=\"T_188b822e_4d52_11ea_a933_acd5647de6d0row2_col14\" class=\"data row2 col14\" >0.011</td>\n",
       "            </tr>\n",
       "            <tr>\n",
       "                        <th id=\"T_188b822e_4d52_11ea_a933_acd5647de6d0level0_row3\" class=\"row_heading level0 row3\" >MDIMC</th>\n",
       "                        <td id=\"T_188b822e_4d52_11ea_a933_acd5647de6d0row3_col0\" class=\"data row3 col0\" >0.11</td>\n",
       "                        <td id=\"T_188b822e_4d52_11ea_a933_acd5647de6d0row3_col1\" class=\"data row3 col1\" >-0.0086</td>\n",
       "                        <td id=\"T_188b822e_4d52_11ea_a933_acd5647de6d0row3_col2\" class=\"data row3 col2\" >0.15</td>\n",
       "                        <td id=\"T_188b822e_4d52_11ea_a933_acd5647de6d0row3_col3\" class=\"data row3 col3\" >1</td>\n",
       "                        <td id=\"T_188b822e_4d52_11ea_a933_acd5647de6d0row3_col4\" class=\"data row3 col4\" >-0.21</td>\n",
       "                        <td id=\"T_188b822e_4d52_11ea_a933_acd5647de6d0row3_col5\" class=\"data row3 col5\" >0.2</td>\n",
       "                        <td id=\"T_188b822e_4d52_11ea_a933_acd5647de6d0row3_col6\" class=\"data row3 col6\" >0.085</td>\n",
       "                        <td id=\"T_188b822e_4d52_11ea_a933_acd5647de6d0row3_col7\" class=\"data row3 col7\" >-3.2e-18</td>\n",
       "                        <td id=\"T_188b822e_4d52_11ea_a933_acd5647de6d0row3_col8\" class=\"data row3 col8\" >-0.13</td>\n",
       "                        <td id=\"T_188b822e_4d52_11ea_a933_acd5647de6d0row3_col9\" class=\"data row3 col9\" >0.011</td>\n",
       "                        <td id=\"T_188b822e_4d52_11ea_a933_acd5647de6d0row3_col10\" class=\"data row3 col10\" >-1.1e-20</td>\n",
       "                        <td id=\"T_188b822e_4d52_11ea_a933_acd5647de6d0row3_col11\" class=\"data row3 col11\" >-3.7e-21</td>\n",
       "                        <td id=\"T_188b822e_4d52_11ea_a933_acd5647de6d0row3_col12\" class=\"data row3 col12\" >0</td>\n",
       "                        <td id=\"T_188b822e_4d52_11ea_a933_acd5647de6d0row3_col13\" class=\"data row3 col13\" >0</td>\n",
       "                        <td id=\"T_188b822e_4d52_11ea_a933_acd5647de6d0row3_col14\" class=\"data row3 col14\" >-0.22</td>\n",
       "            </tr>\n",
       "            <tr>\n",
       "                        <th id=\"T_188b822e_4d52_11ea_a933_acd5647de6d0level0_row4\" class=\"row_heading level0 row4\" >NDIMC</th>\n",
       "                        <td id=\"T_188b822e_4d52_11ea_a933_acd5647de6d0row4_col0\" class=\"data row4 col0\" >-0.0086</td>\n",
       "                        <td id=\"T_188b822e_4d52_11ea_a933_acd5647de6d0row4_col1\" class=\"data row4 col1\" >0.11</td>\n",
       "                        <td id=\"T_188b822e_4d52_11ea_a933_acd5647de6d0row4_col2\" class=\"data row4 col2\" >0.15</td>\n",
       "                        <td id=\"T_188b822e_4d52_11ea_a933_acd5647de6d0row4_col3\" class=\"data row4 col3\" >-0.21</td>\n",
       "                        <td id=\"T_188b822e_4d52_11ea_a933_acd5647de6d0row4_col4\" class=\"data row4 col4\" >1</td>\n",
       "                        <td id=\"T_188b822e_4d52_11ea_a933_acd5647de6d0row4_col5\" class=\"data row4 col5\" >0.085</td>\n",
       "                        <td id=\"T_188b822e_4d52_11ea_a933_acd5647de6d0row4_col6\" class=\"data row4 col6\" >0.2</td>\n",
       "                        <td id=\"T_188b822e_4d52_11ea_a933_acd5647de6d0row4_col7\" class=\"data row4 col7\" >-5.3e-18</td>\n",
       "                        <td id=\"T_188b822e_4d52_11ea_a933_acd5647de6d0row4_col8\" class=\"data row4 col8\" >0.011</td>\n",
       "                        <td id=\"T_188b822e_4d52_11ea_a933_acd5647de6d0row4_col9\" class=\"data row4 col9\" >-0.13</td>\n",
       "                        <td id=\"T_188b822e_4d52_11ea_a933_acd5647de6d0row4_col10\" class=\"data row4 col10\" >-1.1e-20</td>\n",
       "                        <td id=\"T_188b822e_4d52_11ea_a933_acd5647de6d0row4_col11\" class=\"data row4 col11\" >-3.7e-21</td>\n",
       "                        <td id=\"T_188b822e_4d52_11ea_a933_acd5647de6d0row4_col12\" class=\"data row4 col12\" >0</td>\n",
       "                        <td id=\"T_188b822e_4d52_11ea_a933_acd5647de6d0row4_col13\" class=\"data row4 col13\" >0</td>\n",
       "                        <td id=\"T_188b822e_4d52_11ea_a933_acd5647de6d0row4_col14\" class=\"data row4 col14\" >-0.21</td>\n",
       "            </tr>\n",
       "            <tr>\n",
       "                        <th id=\"T_188b822e_4d52_11ea_a933_acd5647de6d0level0_row5\" class=\"row_heading level0 row5\" >MDIMA</th>\n",
       "                        <td id=\"T_188b822e_4d52_11ea_a933_acd5647de6d0row5_col0\" class=\"data row5 col0\" >0.16</td>\n",
       "                        <td id=\"T_188b822e_4d52_11ea_a933_acd5647de6d0row5_col1\" class=\"data row5 col1\" >0.015</td>\n",
       "                        <td id=\"T_188b822e_4d52_11ea_a933_acd5647de6d0row5_col2\" class=\"data row5 col2\" >-0.035</td>\n",
       "                        <td id=\"T_188b822e_4d52_11ea_a933_acd5647de6d0row5_col3\" class=\"data row5 col3\" >0.2</td>\n",
       "                        <td id=\"T_188b822e_4d52_11ea_a933_acd5647de6d0row5_col4\" class=\"data row5 col4\" >0.085</td>\n",
       "                        <td id=\"T_188b822e_4d52_11ea_a933_acd5647de6d0row5_col5\" class=\"data row5 col5\" >1</td>\n",
       "                        <td id=\"T_188b822e_4d52_11ea_a933_acd5647de6d0row5_col6\" class=\"data row5 col6\" >0.088</td>\n",
       "                        <td id=\"T_188b822e_4d52_11ea_a933_acd5647de6d0row5_col7\" class=\"data row5 col7\" >-4.6e-18</td>\n",
       "                        <td id=\"T_188b822e_4d52_11ea_a933_acd5647de6d0row5_col8\" class=\"data row5 col8\" >-0.2</td>\n",
       "                        <td id=\"T_188b822e_4d52_11ea_a933_acd5647de6d0row5_col9\" class=\"data row5 col9\" >-0.019</td>\n",
       "                        <td id=\"T_188b822e_4d52_11ea_a933_acd5647de6d0row5_col10\" class=\"data row5 col10\" >1.6e-21</td>\n",
       "                        <td id=\"T_188b822e_4d52_11ea_a933_acd5647de6d0row5_col11\" class=\"data row5 col11\" >1.6e-21</td>\n",
       "                        <td id=\"T_188b822e_4d52_11ea_a933_acd5647de6d0row5_col12\" class=\"data row5 col12\" >0</td>\n",
       "                        <td id=\"T_188b822e_4d52_11ea_a933_acd5647de6d0row5_col13\" class=\"data row5 col13\" >0</td>\n",
       "                        <td id=\"T_188b822e_4d52_11ea_a933_acd5647de6d0row5_col14\" class=\"data row5 col14\" >-0.007</td>\n",
       "            </tr>\n",
       "            <tr>\n",
       "                        <th id=\"T_188b822e_4d52_11ea_a933_acd5647de6d0level0_row6\" class=\"row_heading level0 row6\" >NDIMB</th>\n",
       "                        <td id=\"T_188b822e_4d52_11ea_a933_acd5647de6d0row6_col0\" class=\"data row6 col0\" >0.015</td>\n",
       "                        <td id=\"T_188b822e_4d52_11ea_a933_acd5647de6d0row6_col1\" class=\"data row6 col1\" >0.16</td>\n",
       "                        <td id=\"T_188b822e_4d52_11ea_a933_acd5647de6d0row6_col2\" class=\"data row6 col2\" >-0.035</td>\n",
       "                        <td id=\"T_188b822e_4d52_11ea_a933_acd5647de6d0row6_col3\" class=\"data row6 col3\" >0.085</td>\n",
       "                        <td id=\"T_188b822e_4d52_11ea_a933_acd5647de6d0row6_col4\" class=\"data row6 col4\" >0.2</td>\n",
       "                        <td id=\"T_188b822e_4d52_11ea_a933_acd5647de6d0row6_col5\" class=\"data row6 col5\" >0.088</td>\n",
       "                        <td id=\"T_188b822e_4d52_11ea_a933_acd5647de6d0row6_col6\" class=\"data row6 col6\" >1</td>\n",
       "                        <td id=\"T_188b822e_4d52_11ea_a933_acd5647de6d0row6_col7\" class=\"data row6 col7\" >-1.1e-17</td>\n",
       "                        <td id=\"T_188b822e_4d52_11ea_a933_acd5647de6d0row6_col8\" class=\"data row6 col8\" >-0.019</td>\n",
       "                        <td id=\"T_188b822e_4d52_11ea_a933_acd5647de6d0row6_col9\" class=\"data row6 col9\" >-0.2</td>\n",
       "                        <td id=\"T_188b822e_4d52_11ea_a933_acd5647de6d0row6_col10\" class=\"data row6 col10\" >1.6e-21</td>\n",
       "                        <td id=\"T_188b822e_4d52_11ea_a933_acd5647de6d0row6_col11\" class=\"data row6 col11\" >1.6e-21</td>\n",
       "                        <td id=\"T_188b822e_4d52_11ea_a933_acd5647de6d0row6_col12\" class=\"data row6 col12\" >0</td>\n",
       "                        <td id=\"T_188b822e_4d52_11ea_a933_acd5647de6d0row6_col13\" class=\"data row6 col13\" >0</td>\n",
       "                        <td id=\"T_188b822e_4d52_11ea_a933_acd5647de6d0row6_col14\" class=\"data row6 col14\" >-0.0087</td>\n",
       "            </tr>\n",
       "            <tr>\n",
       "                        <th id=\"T_188b822e_4d52_11ea_a933_acd5647de6d0level0_row7\" class=\"row_heading level0 row7\" >KWI</th>\n",
       "                        <td id=\"T_188b822e_4d52_11ea_a933_acd5647de6d0row7_col0\" class=\"data row7 col0\" >1.5e-19</td>\n",
       "                        <td id=\"T_188b822e_4d52_11ea_a933_acd5647de6d0row7_col1\" class=\"data row7 col1\" >8.6e-19</td>\n",
       "                        <td id=\"T_188b822e_4d52_11ea_a933_acd5647de6d0row7_col2\" class=\"data row7 col2\" >-1.8e-19</td>\n",
       "                        <td id=\"T_188b822e_4d52_11ea_a933_acd5647de6d0row7_col3\" class=\"data row7 col3\" >-3.2e-18</td>\n",
       "                        <td id=\"T_188b822e_4d52_11ea_a933_acd5647de6d0row7_col4\" class=\"data row7 col4\" >-5.3e-18</td>\n",
       "                        <td id=\"T_188b822e_4d52_11ea_a933_acd5647de6d0row7_col5\" class=\"data row7 col5\" >-4.6e-18</td>\n",
       "                        <td id=\"T_188b822e_4d52_11ea_a933_acd5647de6d0row7_col6\" class=\"data row7 col6\" >-1.1e-17</td>\n",
       "                        <td id=\"T_188b822e_4d52_11ea_a933_acd5647de6d0row7_col7\" class=\"data row7 col7\" >1</td>\n",
       "                        <td id=\"T_188b822e_4d52_11ea_a933_acd5647de6d0row7_col8\" class=\"data row7 col8\" >-3.6e-16</td>\n",
       "                        <td id=\"T_188b822e_4d52_11ea_a933_acd5647de6d0row7_col9\" class=\"data row7 col9\" >-4.8e-16</td>\n",
       "                        <td id=\"T_188b822e_4d52_11ea_a933_acd5647de6d0row7_col10\" class=\"data row7 col10\" >0</td>\n",
       "                        <td id=\"T_188b822e_4d52_11ea_a933_acd5647de6d0row7_col11\" class=\"data row7 col11\" >0</td>\n",
       "                        <td id=\"T_188b822e_4d52_11ea_a933_acd5647de6d0row7_col12\" class=\"data row7 col12\" >0</td>\n",
       "                        <td id=\"T_188b822e_4d52_11ea_a933_acd5647de6d0row7_col13\" class=\"data row7 col13\" >0</td>\n",
       "                        <td id=\"T_188b822e_4d52_11ea_a933_acd5647de6d0row7_col14\" class=\"data row7 col14\" >0.033</td>\n",
       "            </tr>\n",
       "            <tr>\n",
       "                        <th id=\"T_188b822e_4d52_11ea_a933_acd5647de6d0level0_row8\" class=\"row_heading level0 row8\" >VWM</th>\n",
       "                        <td id=\"T_188b822e_4d52_11ea_a933_acd5647de6d0row8_col0\" class=\"data row8 col0\" >0.35</td>\n",
       "                        <td id=\"T_188b822e_4d52_11ea_a933_acd5647de6d0row8_col1\" class=\"data row8 col1\" >-0.00084</td>\n",
       "                        <td id=\"T_188b822e_4d52_11ea_a933_acd5647de6d0row8_col2\" class=\"data row8 col2\" >-0.012</td>\n",
       "                        <td id=\"T_188b822e_4d52_11ea_a933_acd5647de6d0row8_col3\" class=\"data row8 col3\" >-0.13</td>\n",
       "                        <td id=\"T_188b822e_4d52_11ea_a933_acd5647de6d0row8_col4\" class=\"data row8 col4\" >0.011</td>\n",
       "                        <td id=\"T_188b822e_4d52_11ea_a933_acd5647de6d0row8_col5\" class=\"data row8 col5\" >-0.2</td>\n",
       "                        <td id=\"T_188b822e_4d52_11ea_a933_acd5647de6d0row8_col6\" class=\"data row8 col6\" >-0.019</td>\n",
       "                        <td id=\"T_188b822e_4d52_11ea_a933_acd5647de6d0row8_col7\" class=\"data row8 col7\" >-3.6e-16</td>\n",
       "                        <td id=\"T_188b822e_4d52_11ea_a933_acd5647de6d0row8_col8\" class=\"data row8 col8\" >1</td>\n",
       "                        <td id=\"T_188b822e_4d52_11ea_a933_acd5647de6d0row8_col9\" class=\"data row8 col9\" >0.0012</td>\n",
       "                        <td id=\"T_188b822e_4d52_11ea_a933_acd5647de6d0row8_col10\" class=\"data row8 col10\" >-1.4e-20</td>\n",
       "                        <td id=\"T_188b822e_4d52_11ea_a933_acd5647de6d0row8_col11\" class=\"data row8 col11\" >9.4e-22</td>\n",
       "                        <td id=\"T_188b822e_4d52_11ea_a933_acd5647de6d0row8_col12\" class=\"data row8 col12\" >0</td>\n",
       "                        <td id=\"T_188b822e_4d52_11ea_a933_acd5647de6d0row8_col13\" class=\"data row8 col13\" >0</td>\n",
       "                        <td id=\"T_188b822e_4d52_11ea_a933_acd5647de6d0row8_col14\" class=\"data row8 col14\" >0.16</td>\n",
       "            </tr>\n",
       "            <tr>\n",
       "                        <th id=\"T_188b822e_4d52_11ea_a933_acd5647de6d0level0_row9\" class=\"row_heading level0 row9\" >VWN</th>\n",
       "                        <td id=\"T_188b822e_4d52_11ea_a933_acd5647de6d0row9_col0\" class=\"data row9 col0\" >-0.00084</td>\n",
       "                        <td id=\"T_188b822e_4d52_11ea_a933_acd5647de6d0row9_col1\" class=\"data row9 col1\" >0.35</td>\n",
       "                        <td id=\"T_188b822e_4d52_11ea_a933_acd5647de6d0row9_col2\" class=\"data row9 col2\" >-0.012</td>\n",
       "                        <td id=\"T_188b822e_4d52_11ea_a933_acd5647de6d0row9_col3\" class=\"data row9 col3\" >0.011</td>\n",
       "                        <td id=\"T_188b822e_4d52_11ea_a933_acd5647de6d0row9_col4\" class=\"data row9 col4\" >-0.13</td>\n",
       "                        <td id=\"T_188b822e_4d52_11ea_a933_acd5647de6d0row9_col5\" class=\"data row9 col5\" >-0.019</td>\n",
       "                        <td id=\"T_188b822e_4d52_11ea_a933_acd5647de6d0row9_col6\" class=\"data row9 col6\" >-0.2</td>\n",
       "                        <td id=\"T_188b822e_4d52_11ea_a933_acd5647de6d0row9_col7\" class=\"data row9 col7\" >-4.8e-16</td>\n",
       "                        <td id=\"T_188b822e_4d52_11ea_a933_acd5647de6d0row9_col8\" class=\"data row9 col8\" >0.0012</td>\n",
       "                        <td id=\"T_188b822e_4d52_11ea_a933_acd5647de6d0row9_col9\" class=\"data row9 col9\" >1</td>\n",
       "                        <td id=\"T_188b822e_4d52_11ea_a933_acd5647de6d0row9_col10\" class=\"data row9 col10\" >-1.4e-20</td>\n",
       "                        <td id=\"T_188b822e_4d52_11ea_a933_acd5647de6d0row9_col11\" class=\"data row9 col11\" >9.4e-22</td>\n",
       "                        <td id=\"T_188b822e_4d52_11ea_a933_acd5647de6d0row9_col12\" class=\"data row9 col12\" >0</td>\n",
       "                        <td id=\"T_188b822e_4d52_11ea_a933_acd5647de6d0row9_col13\" class=\"data row9 col13\" >0</td>\n",
       "                        <td id=\"T_188b822e_4d52_11ea_a933_acd5647de6d0row9_col14\" class=\"data row9 col14\" >0.14</td>\n",
       "            </tr>\n",
       "            <tr>\n",
       "                        <th id=\"T_188b822e_4d52_11ea_a933_acd5647de6d0level0_row10\" class=\"row_heading level0 row10\" >STRM</th>\n",
       "                        <td id=\"T_188b822e_4d52_11ea_a933_acd5647de6d0row10_col0\" class=\"data row10 col0\" >6.9e-21</td>\n",
       "                        <td id=\"T_188b822e_4d52_11ea_a933_acd5647de6d0row10_col1\" class=\"data row10 col1\" >6.9e-21</td>\n",
       "                        <td id=\"T_188b822e_4d52_11ea_a933_acd5647de6d0row10_col2\" class=\"data row10 col2\" >1.9e-21</td>\n",
       "                        <td id=\"T_188b822e_4d52_11ea_a933_acd5647de6d0row10_col3\" class=\"data row10 col3\" >-1.1e-20</td>\n",
       "                        <td id=\"T_188b822e_4d52_11ea_a933_acd5647de6d0row10_col4\" class=\"data row10 col4\" >-1.1e-20</td>\n",
       "                        <td id=\"T_188b822e_4d52_11ea_a933_acd5647de6d0row10_col5\" class=\"data row10 col5\" >1.6e-21</td>\n",
       "                        <td id=\"T_188b822e_4d52_11ea_a933_acd5647de6d0row10_col6\" class=\"data row10 col6\" >1.6e-21</td>\n",
       "                        <td id=\"T_188b822e_4d52_11ea_a933_acd5647de6d0row10_col7\" class=\"data row10 col7\" >0</td>\n",
       "                        <td id=\"T_188b822e_4d52_11ea_a933_acd5647de6d0row10_col8\" class=\"data row10 col8\" >-1.4e-20</td>\n",
       "                        <td id=\"T_188b822e_4d52_11ea_a933_acd5647de6d0row10_col9\" class=\"data row10 col9\" >-1.4e-20</td>\n",
       "                        <td id=\"T_188b822e_4d52_11ea_a933_acd5647de6d0row10_col10\" class=\"data row10 col10\" >1</td>\n",
       "                        <td id=\"T_188b822e_4d52_11ea_a933_acd5647de6d0row10_col11\" class=\"data row10 col11\" >0</td>\n",
       "                        <td id=\"T_188b822e_4d52_11ea_a933_acd5647de6d0row10_col12\" class=\"data row10 col12\" >0</td>\n",
       "                        <td id=\"T_188b822e_4d52_11ea_a933_acd5647de6d0row10_col13\" class=\"data row10 col13\" >0</td>\n",
       "                        <td id=\"T_188b822e_4d52_11ea_a933_acd5647de6d0row10_col14\" class=\"data row10 col14\" >-0.013</td>\n",
       "            </tr>\n",
       "            <tr>\n",
       "                        <th id=\"T_188b822e_4d52_11ea_a933_acd5647de6d0level0_row11\" class=\"row_heading level0 row11\" >STRN</th>\n",
       "                        <td id=\"T_188b822e_4d52_11ea_a933_acd5647de6d0row11_col0\" class=\"data row11 col0\" >1.4e-21</td>\n",
       "                        <td id=\"T_188b822e_4d52_11ea_a933_acd5647de6d0row11_col1\" class=\"data row11 col1\" >1.4e-21</td>\n",
       "                        <td id=\"T_188b822e_4d52_11ea_a933_acd5647de6d0row11_col2\" class=\"data row11 col2\" >0</td>\n",
       "                        <td id=\"T_188b822e_4d52_11ea_a933_acd5647de6d0row11_col3\" class=\"data row11 col3\" >-3.7e-21</td>\n",
       "                        <td id=\"T_188b822e_4d52_11ea_a933_acd5647de6d0row11_col4\" class=\"data row11 col4\" >-3.7e-21</td>\n",
       "                        <td id=\"T_188b822e_4d52_11ea_a933_acd5647de6d0row11_col5\" class=\"data row11 col5\" >1.6e-21</td>\n",
       "                        <td id=\"T_188b822e_4d52_11ea_a933_acd5647de6d0row11_col6\" class=\"data row11 col6\" >1.6e-21</td>\n",
       "                        <td id=\"T_188b822e_4d52_11ea_a933_acd5647de6d0row11_col7\" class=\"data row11 col7\" >0</td>\n",
       "                        <td id=\"T_188b822e_4d52_11ea_a933_acd5647de6d0row11_col8\" class=\"data row11 col8\" >9.4e-22</td>\n",
       "                        <td id=\"T_188b822e_4d52_11ea_a933_acd5647de6d0row11_col9\" class=\"data row11 col9\" >9.4e-22</td>\n",
       "                        <td id=\"T_188b822e_4d52_11ea_a933_acd5647de6d0row11_col10\" class=\"data row11 col10\" >0</td>\n",
       "                        <td id=\"T_188b822e_4d52_11ea_a933_acd5647de6d0row11_col11\" class=\"data row11 col11\" >1</td>\n",
       "                        <td id=\"T_188b822e_4d52_11ea_a933_acd5647de6d0row11_col12\" class=\"data row11 col12\" >0</td>\n",
       "                        <td id=\"T_188b822e_4d52_11ea_a933_acd5647de6d0row11_col13\" class=\"data row11 col13\" >0</td>\n",
       "                        <td id=\"T_188b822e_4d52_11ea_a933_acd5647de6d0row11_col14\" class=\"data row11 col14\" >-0.00011</td>\n",
       "            </tr>\n",
       "            <tr>\n",
       "                        <th id=\"T_188b822e_4d52_11ea_a933_acd5647de6d0level0_row12\" class=\"row_heading level0 row12\" >SA</th>\n",
       "                        <td id=\"T_188b822e_4d52_11ea_a933_acd5647de6d0row12_col0\" class=\"data row12 col0\" >0</td>\n",
       "                        <td id=\"T_188b822e_4d52_11ea_a933_acd5647de6d0row12_col1\" class=\"data row12 col1\" >0</td>\n",
       "                        <td id=\"T_188b822e_4d52_11ea_a933_acd5647de6d0row12_col2\" class=\"data row12 col2\" >0</td>\n",
       "                        <td id=\"T_188b822e_4d52_11ea_a933_acd5647de6d0row12_col3\" class=\"data row12 col3\" >0</td>\n",
       "                        <td id=\"T_188b822e_4d52_11ea_a933_acd5647de6d0row12_col4\" class=\"data row12 col4\" >0</td>\n",
       "                        <td id=\"T_188b822e_4d52_11ea_a933_acd5647de6d0row12_col5\" class=\"data row12 col5\" >0</td>\n",
       "                        <td id=\"T_188b822e_4d52_11ea_a933_acd5647de6d0row12_col6\" class=\"data row12 col6\" >0</td>\n",
       "                        <td id=\"T_188b822e_4d52_11ea_a933_acd5647de6d0row12_col7\" class=\"data row12 col7\" >0</td>\n",
       "                        <td id=\"T_188b822e_4d52_11ea_a933_acd5647de6d0row12_col8\" class=\"data row12 col8\" >0</td>\n",
       "                        <td id=\"T_188b822e_4d52_11ea_a933_acd5647de6d0row12_col9\" class=\"data row12 col9\" >0</td>\n",
       "                        <td id=\"T_188b822e_4d52_11ea_a933_acd5647de6d0row12_col10\" class=\"data row12 col10\" >0</td>\n",
       "                        <td id=\"T_188b822e_4d52_11ea_a933_acd5647de6d0row12_col11\" class=\"data row12 col11\" >0</td>\n",
       "                        <td id=\"T_188b822e_4d52_11ea_a933_acd5647de6d0row12_col12\" class=\"data row12 col12\" >1</td>\n",
       "                        <td id=\"T_188b822e_4d52_11ea_a933_acd5647de6d0row12_col13\" class=\"data row12 col13\" >0</td>\n",
       "                        <td id=\"T_188b822e_4d52_11ea_a933_acd5647de6d0row12_col14\" class=\"data row12 col14\" >0.052</td>\n",
       "            </tr>\n",
       "            <tr>\n",
       "                        <th id=\"T_188b822e_4d52_11ea_a933_acd5647de6d0level0_row13\" class=\"row_heading level0 row13\" >SB</th>\n",
       "                        <td id=\"T_188b822e_4d52_11ea_a933_acd5647de6d0row13_col0\" class=\"data row13 col0\" >0</td>\n",
       "                        <td id=\"T_188b822e_4d52_11ea_a933_acd5647de6d0row13_col1\" class=\"data row13 col1\" >0</td>\n",
       "                        <td id=\"T_188b822e_4d52_11ea_a933_acd5647de6d0row13_col2\" class=\"data row13 col2\" >0</td>\n",
       "                        <td id=\"T_188b822e_4d52_11ea_a933_acd5647de6d0row13_col3\" class=\"data row13 col3\" >0</td>\n",
       "                        <td id=\"T_188b822e_4d52_11ea_a933_acd5647de6d0row13_col4\" class=\"data row13 col4\" >0</td>\n",
       "                        <td id=\"T_188b822e_4d52_11ea_a933_acd5647de6d0row13_col5\" class=\"data row13 col5\" >0</td>\n",
       "                        <td id=\"T_188b822e_4d52_11ea_a933_acd5647de6d0row13_col6\" class=\"data row13 col6\" >0</td>\n",
       "                        <td id=\"T_188b822e_4d52_11ea_a933_acd5647de6d0row13_col7\" class=\"data row13 col7\" >0</td>\n",
       "                        <td id=\"T_188b822e_4d52_11ea_a933_acd5647de6d0row13_col8\" class=\"data row13 col8\" >0</td>\n",
       "                        <td id=\"T_188b822e_4d52_11ea_a933_acd5647de6d0row13_col9\" class=\"data row13 col9\" >0</td>\n",
       "                        <td id=\"T_188b822e_4d52_11ea_a933_acd5647de6d0row13_col10\" class=\"data row13 col10\" >0</td>\n",
       "                        <td id=\"T_188b822e_4d52_11ea_a933_acd5647de6d0row13_col11\" class=\"data row13 col11\" >0</td>\n",
       "                        <td id=\"T_188b822e_4d52_11ea_a933_acd5647de6d0row13_col12\" class=\"data row13 col12\" >0</td>\n",
       "                        <td id=\"T_188b822e_4d52_11ea_a933_acd5647de6d0row13_col13\" class=\"data row13 col13\" >1</td>\n",
       "                        <td id=\"T_188b822e_4d52_11ea_a933_acd5647de6d0row13_col14\" class=\"data row13 col14\" >0.064</td>\n",
       "            </tr>\n",
       "            <tr>\n",
       "                        <th id=\"T_188b822e_4d52_11ea_a933_acd5647de6d0level0_row14\" class=\"row_heading level0 row14\" >runavg (ms)</th>\n",
       "                        <td id=\"T_188b822e_4d52_11ea_a933_acd5647de6d0row14_col0\" class=\"data row14 col0\" >0.35</td>\n",
       "                        <td id=\"T_188b822e_4d52_11ea_a933_acd5647de6d0row14_col1\" class=\"data row14 col1\" >0.32</td>\n",
       "                        <td id=\"T_188b822e_4d52_11ea_a933_acd5647de6d0row14_col2\" class=\"data row14 col2\" >0.011</td>\n",
       "                        <td id=\"T_188b822e_4d52_11ea_a933_acd5647de6d0row14_col3\" class=\"data row14 col3\" >-0.22</td>\n",
       "                        <td id=\"T_188b822e_4d52_11ea_a933_acd5647de6d0row14_col4\" class=\"data row14 col4\" >-0.21</td>\n",
       "                        <td id=\"T_188b822e_4d52_11ea_a933_acd5647de6d0row14_col5\" class=\"data row14 col5\" >-0.007</td>\n",
       "                        <td id=\"T_188b822e_4d52_11ea_a933_acd5647de6d0row14_col6\" class=\"data row14 col6\" >-0.0087</td>\n",
       "                        <td id=\"T_188b822e_4d52_11ea_a933_acd5647de6d0row14_col7\" class=\"data row14 col7\" >0.033</td>\n",
       "                        <td id=\"T_188b822e_4d52_11ea_a933_acd5647de6d0row14_col8\" class=\"data row14 col8\" >0.16</td>\n",
       "                        <td id=\"T_188b822e_4d52_11ea_a933_acd5647de6d0row14_col9\" class=\"data row14 col9\" >0.14</td>\n",
       "                        <td id=\"T_188b822e_4d52_11ea_a933_acd5647de6d0row14_col10\" class=\"data row14 col10\" >-0.013</td>\n",
       "                        <td id=\"T_188b822e_4d52_11ea_a933_acd5647de6d0row14_col11\" class=\"data row14 col11\" >-0.00011</td>\n",
       "                        <td id=\"T_188b822e_4d52_11ea_a933_acd5647de6d0row14_col12\" class=\"data row14 col12\" >0.052</td>\n",
       "                        <td id=\"T_188b822e_4d52_11ea_a933_acd5647de6d0row14_col13\" class=\"data row14 col13\" >0.064</td>\n",
       "                        <td id=\"T_188b822e_4d52_11ea_a933_acd5647de6d0row14_col14\" class=\"data row14 col14\" >1</td>\n",
       "            </tr>\n",
       "    </tbody></table>"
      ],
      "text/plain": [
       "<pandas.io.formats.style.Styler at 0x20516132808>"
      ]
     },
     "execution_count": 179,
     "metadata": {},
     "output_type": "execute_result"
    }
   ],
   "source": [
    "corr = runtime_up.corr()\n",
    "corr.style.background_gradient(cmap='viridis').set_precision(2)"
   ]
  },
  {
   "cell_type": "markdown",
   "metadata": {},
   "source": [
    "#### Based on correlation, the variables having the least correlation with run, are being dropped"
   ]
  },
  {
   "cell_type": "code",
   "execution_count": 180,
   "metadata": {},
   "outputs": [],
   "source": [
    "x_mod_2 = x_ind.drop(columns=[\"MDIMA\",\"NDIMB\",\"KWG\",\"KWI\",\"STRM\",\"STRN\"])\n",
    "x_mod_2\n",
    "#Converting it into an array\n",
    "x_mod_2=np.array(x_mod_2)\n",
    "#Splitting the data\n",
    "X_train, X_test, y_train, y_test=train_test_split(x_mod_2, run, train_size=0.70,test_size=0.30, random_state=100)"
   ]
  },
  {
   "cell_type": "code",
   "execution_count": null,
   "metadata": {},
   "outputs": [],
   "source": [
    "#Normalising the data\n",
    "X_train=norm(X_train)\n",
    "X_test=norm(X_test)"
   ]
  },
  {
   "cell_type": "markdown",
   "metadata": {},
   "source": [
    "### For Linear Regression "
   ]
  },
  {
   "cell_type": "code",
   "execution_count": 181,
   "metadata": {},
   "outputs": [],
   "source": [
    "#generating theta\n",
    "theta_e=theta_gen(X_train)\n",
    "#Finding cost and thetas\n",
    "alpha = .001 \n",
    "total =5000\n",
    "finalj1_9 = gradesc(X_train, y_train, theta_e, alpha, total)\n",
    "cost_e1_9 = finalj1_9[1]\n",
    "theta_e1_9 = finalj1_9[0]"
   ]
  },
  {
   "cell_type": "code",
   "execution_count": 182,
   "metadata": {},
   "outputs": [
    {
     "data": {
      "text/plain": [
       "array([0.2183185])"
      ]
     },
     "execution_count": 182,
     "metadata": {},
     "output_type": "execute_result"
    },
    {
     "data": {
      "image/png": "[encoded data removed]",
      "text/plain": [
       "<Figure size 432x288 with 1 Axes>"
      ]
     },
     "metadata": {
      "needs_background": "light"
     },
     "output_type": "display_data"
    }
   ],
   "source": [
    "#plotting the cost\n",
    "plt.plot(cost_e1_9)\n",
    "cost_e1_9[4999]"
   ]
  },
  {
   "cell_type": "code",
   "execution_count": 183,
   "metadata": {},
   "outputs": [
    {
     "name": "stdout",
     "output_type": "stream",
     "text": [
      "                            OLS Regression Results                            \n",
      "==============================================================================\n",
      "Dep. Variable:                      y   R-squared:                       0.394\n",
      "Model:                            OLS   Adj. R-squared:                  0.394\n",
      "Method:                 Least Squares   F-statistic:                 1.373e+04\n",
      "Date:                Tue, 11 Feb 2020   Prob (F-statistic):               0.00\n",
      "Time:                        23:15:51   Log-Likelihood:            -1.9807e+05\n",
      "No. Observations:              169120   AIC:                         3.962e+05\n",
      "Df Residuals:                  169111   BIC:                         3.963e+05\n",
      "Df Model:                           8                                         \n",
      "Covariance Type:            nonrobust                                         \n",
      "==============================================================================\n",
      "                 coef    std err          t      P>|t|      [0.025      0.975]\n",
      "------------------------------------------------------------------------------\n",
      "x1             0.3868      0.002    187.813      0.000       0.383       0.391\n",
      "x2             0.3601      0.002    175.203      0.000       0.356       0.364\n",
      "x3            -0.3263      0.002   -164.575      0.000      -0.330      -0.322\n",
      "x4            -0.3211      0.002   -161.617      0.000      -0.325      -0.317\n",
      "x5            -0.0115      0.002     -5.545      0.000      -0.016      -0.007\n",
      "x6            -0.0224      0.002    -10.825      0.000      -0.026      -0.018\n",
      "x7             0.0520      0.002     27.393      0.000       0.048       0.056\n",
      "x8             0.0649      0.002     34.194      0.000       0.061       0.069\n",
      "const          0.0012      0.002      0.649      0.516      -0.002       0.005\n",
      "==============================================================================\n",
      "Omnibus:                   133652.132   Durbin-Watson:                   2.002\n",
      "Prob(Omnibus):                  0.000   Jarque-Bera (JB):          3318700.919\n",
      "Skew:                           3.699   Prob(JB):                         0.00\n",
      "Kurtosis:                      23.402   Cond. No.                         1.57\n",
      "==============================================================================\n",
      "\n",
      "Warnings:\n",
      "[1] Standard Errors assume that the covariance matrix of the errors is correctly specified.\n"
     ]
    }
   ],
   "source": [
    "#Inbuilt regression values\n",
    "pred_9 = sm.OLS(y_train, X_train)\n",
    "pred_9 = pred_9.fit()\n",
    "print(pred_9.summary())"
   ]
  },
  {
   "cell_type": "code",
   "execution_count": 184,
   "metadata": {
    "scrolled": true
   },
   "outputs": [
    {
     "name": "stdout",
     "output_type": "stream",
     "text": [
      "explained_variance:  0.38\n",
      "r2:  0.3799\n",
      "MAE:  0.4632\n",
      "MSE:  0.613\n",
      "RMSE:  0.7829\n"
     ]
    }
   ],
   "source": [
    "ypred_9l=predict_f(X_test,theta_e1_9)\n",
    "regression_results(y_test, ypred_9l)"
   ]
  },
  {
   "cell_type": "code",
   "execution_count": 185,
   "metadata": {},
   "outputs": [
    {
     "name": "stdout",
     "output_type": "stream",
     "text": [
      "explained_variance:  0.3793\n",
      "r2:  0.3793\n",
      "MAE:  0.4662\n",
      "MSE:  0.6238\n",
      "RMSE:  0.7898\n"
     ]
    }
   ],
   "source": [
    "ypred_9trl=predict_f(X_train,theta_e1_9)\n",
    "regression_results(y_train, ypred_9trl)"
   ]
  },
  {
   "cell_type": "markdown",
   "metadata": {},
   "source": [
    "### For Logistic Regression"
   ]
  },
  {
   "cell_type": "code",
   "execution_count": 174,
   "metadata": {},
   "outputs": [
    {
     "name": "stdout",
     "output_type": "stream",
     "text": [
      "[[ 1.25582952]\n",
      " [ 0.80265174]\n",
      " [-0.84924691]\n",
      " [-0.73015531]\n",
      " [-0.05735011]\n",
      " [-0.12202087]\n",
      " [-0.39336502]\n",
      " [-0.07881305]\n",
      " [ 0.00402685]]\n"
     ]
    },
    {
     "data": {
      "text/plain": [
       "[<matplotlib.lines.Line2D at 0x2051b12e408>]"
      ]
     },
     "execution_count": 174,
     "metadata": {},
     "output_type": "execute_result"
    },
    {
     "data": {
      "image/png": "[encoded data removed]",
      "text/plain": [
       "<Figure size 432x288 with 1 Axes>"
      ]
     },
     "metadata": {
      "needs_background": "light"
     },
     "output_type": "display_data"
    }
   ],
   "source": [
    "m = len(runs)\n",
    "n = np.size(X_train,1)\n",
    "params = np.random.rand(n,1) #betas\n",
    "total = 8000\n",
    "learning_rate = 0.01\n",
    "initial_cost = compute_cost(X_train, y_train_l, params)\n",
    "(cost_history1_10, params_optimal1_10) = gradient_descent(X_train, y_train_l, params, learning_rate, total)\n",
    "y_pred_l1_10 = predict(X_test, params_optimal1_10)\n",
    "print(params_optimal1_10)\n",
    "plt.plot(cost_history1_10)"
   ]
  },
  {
   "cell_type": "code",
   "execution_count": 39,
   "metadata": {},
   "outputs": [
    {
     "data": {
      "text/plain": [
       "array([0.4891569])"
      ]
     },
     "execution_count": 39,
     "metadata": {},
     "output_type": "execute_result"
    }
   ],
   "source": [
    "cost_history1_10[7999]"
   ]
  },
  {
   "cell_type": "code",
   "execution_count": 37,
   "metadata": {
    "scrolled": false
   },
   "outputs": [
    {
     "name": "stdout",
     "output_type": "stream",
     "text": [
      "[[29181  7025]\n",
      " [ 6790 29484]]\n"
     ]
    }
   ],
   "source": [
    "confusion_matrix10 = confusion_matrix(y_test_l, y_pred_l1_10)\n",
    "print(confusion_matrix10)\n",
    "#Accuracy = 80.5(29181/(29181+7025))"
   ]
  },
  {
   "cell_type": "code",
   "execution_count": 177,
   "metadata": {},
   "outputs": [
    {
     "name": "stdout",
     "output_type": "stream",
     "text": [
      "[[68293 16302]\n",
      " [16073 68452]]\n"
     ]
    }
   ],
   "source": [
    "from sklearn.metrics import confusion_matrix\n",
    "y_pred_tr10=predict(X_train,params_optimal1_10)\n",
    "confusion_matrix1 = confusion_matrix(y_train_l, y_pred_tr10)\n",
    "print(confusion_matrix1)"
   ]
  },
  {
   "cell_type": "markdown",
   "metadata": {},
   "source": [
    "## Experiment 2"
   ]
  },
  {
   "cell_type": "markdown",
   "metadata": {},
   "source": [
    "### Linear Regression"
   ]
  },
  {
   "cell_type": "markdown",
   "metadata": {},
   "source": [
    "#### Setting the threshold value at 0.000001"
   ]
  },
  {
   "cell_type": "code",
   "execution_count": 276,
   "metadata": {},
   "outputs": [],
   "source": [
    "#Setting up the Cost function\n",
    "#Here x is the independent variable, y is the dependent variable and theta is the randomly generated numbers\n",
    "def Cost(x,y,theta):\n",
    "    m=len(runtime.axes[0])\n",
    "    the1 = np.matmul(x,theta)\n",
    "    Cost1=sum(np.subtract((the1),y)**2)\n",
    "    Cost=Cost1/(2*m)\n",
    "    return(Cost)  "
   ]
  },
  {
   "cell_type": "code",
   "execution_count": 277,
   "metadata": {},
   "outputs": [],
   "source": [
    "#Implementing gradient Descent function\n",
    "def gradesc(x,y,theta,alpha,total):\n",
    "    m=len(runtime.axes[0])\n",
    "    xt = x.transpose()\n",
    "    j=[0]*total\n",
    "    for i in range(total):\n",
    "            the2 =(np.matmul(x,theta))-y        \n",
    "            the3=np.matmul(x.transpose(),the2)\n",
    "            theta = theta - alpha*(1/m)*the3\n",
    "            theta0=theta[-1]\n",
    "            j[i] = Cost(x,y,theta)\n",
    "            #print (i, j[i])\n",
    "            if (abs((j[i-1]-j[i]))<thresh):\n",
    "                print(i,j[i])\n",
    "                break\n",
    "    finalj=(theta, j)\n",
    "    return(finalj)"
   ]
  },
  {
   "cell_type": "markdown",
   "metadata": {},
   "source": [
    "##### thresh = 10**(-3)"
   ]
  },
  {
   "cell_type": "code",
   "execution_count": 253,
   "metadata": {},
   "outputs": [
    {
     "name": "stdout",
     "output_type": "stream",
     "text": [
      "792 [0.84283654]\n"
     ]
    }
   ],
   "source": [
    "thresh = 0.001\n",
    "theta_e=theta_gen(X_train)\n",
    "#Finding cost and thetas\n",
    "alpha = .001 \n",
    "total=5000\n",
    "finalj1_22 = gradesc(X_train, y_train, theta_e, alpha, total)\n",
    "cost_e1_22 = finalj1_22[1]\n",
    "theta_e1_22 = finalj1_22[0]"
   ]
  },
  {
   "cell_type": "code",
   "execution_count": 255,
   "metadata": {
    "scrolled": true
   },
   "outputs": [
    {
     "data": {
      "text/plain": [
       "[<matplotlib.lines.Line2D at 0x2051b1a4448>]"
      ]
     },
     "execution_count": 255,
     "metadata": {},
     "output_type": "execute_result"
    },
    {
     "data": {
      "image/png": "[encoded data removed]",
      "text/plain": [
       "<Figure size 432x288 with 1 Axes>"
      ]
     },
     "metadata": {
      "needs_background": "light"
     },
     "output_type": "display_data"
    }
   ],
   "source": [
    "plt.plot(cost_e1_22)"
   ]
  },
  {
   "cell_type": "code",
   "execution_count": 257,
   "metadata": {},
   "outputs": [
    {
     "name": "stdout",
     "output_type": "stream",
     "text": [
      "explained_variance:  -1.4153\n",
      "r2:  -1.4235\n",
      "MAE:  1.2269\n",
      "MSE:  2.3959\n",
      "RMSE:  1.5479\n"
     ]
    }
   ],
   "source": [
    "#Test Error\n",
    "ypred_l_22=predict_f(X_test,theta_e1_22)\n",
    "regression_results(y_test, ypred_l_22)"
   ]
  },
  {
   "cell_type": "code",
   "execution_count": 258,
   "metadata": {
    "scrolled": true
   },
   "outputs": [
    {
     "name": "stdout",
     "output_type": "stream",
     "text": [
      "explained_variance:  -1.3634\n",
      "r2:  -1.3717\n",
      "MAE:  1.2247\n",
      "MSE:  2.3833\n",
      "RMSE:  1.5438\n"
     ]
    }
   ],
   "source": [
    "#Train Error\n",
    "ypred_tr_22=predict_f(X_train,theta_e1_22)\n",
    "regression_results(y_train, ypred_tr_22)"
   ]
  },
  {
   "cell_type": "markdown",
   "metadata": {},
   "source": [
    "#### thresh =0.002"
   ]
  },
  {
   "cell_type": "code",
   "execution_count": 261,
   "metadata": {},
   "outputs": [
    {
     "name": "stdout",
     "output_type": "stream",
     "text": [
      "230 [1.43051708]\n"
     ]
    }
   ],
   "source": [
    "thresh =0.002\n",
    "theta_e=theta_gen(X_train)\n",
    "#Finding cost and thetas\n",
    "alpha = .001 \n",
    "total=5000\n",
    "finalj1_224 = gradesc(X_train, y_train, theta_e, alpha, total)\n",
    "cost_e1_224 = finalj1_224[1]\n",
    "theta_e1_224 = finalj1_224[0]"
   ]
  },
  {
   "cell_type": "code",
   "execution_count": 264,
   "metadata": {},
   "outputs": [
    {
     "data": {
      "text/plain": [
       "[<matplotlib.lines.Line2D at 0x20523edadc8>]"
      ]
     },
     "execution_count": 264,
     "metadata": {},
     "output_type": "execute_result"
    },
    {
     "data": {
      "image/png": "[encoded data removed]",
      "text/plain": [
       "<Figure size 432x288 with 1 Axes>"
      ]
     },
     "metadata": {
      "needs_background": "light"
     },
     "output_type": "display_data"
    }
   ],
   "source": [
    "plt.plot(cost_e1_224)"
   ]
  },
  {
   "cell_type": "code",
   "execution_count": 266,
   "metadata": {},
   "outputs": [
    {
     "name": "stdout",
     "output_type": "stream",
     "text": [
      "explained_variance:  -2.8445\n",
      "r2:  -2.9217\n",
      "MAE:  1.5649\n",
      "MSE:  3.8771\n",
      "RMSE:  1.969\n"
     ]
    }
   ],
   "source": [
    "#Test Error\n",
    "ypred_l_24=predict_f(X_test,theta_e1_224)\n",
    "regression_results(y_test, ypred_l_24)"
   ]
  },
  {
   "cell_type": "code",
   "execution_count": 265,
   "metadata": {
    "scrolled": true
   },
   "outputs": [
    {
     "name": "stdout",
     "output_type": "stream",
     "text": [
      "explained_variance:  -2.7558\n",
      "r2:  -2.834\n",
      "MAE:  1.5592\n",
      "MSE:  3.8527\n",
      "RMSE:  1.9628\n"
     ]
    }
   ],
   "source": [
    "#Train Error\n",
    "ypred_tr_24=predict_f(X_train,theta_e1_224)\n",
    "regression_results(y_train, ypred_tr_24)"
   ]
  },
  {
   "cell_type": "code",
   "execution_count": 58,
   "metadata": {},
   "outputs": [],
   "source": [
    "#Setting up the Cost function\n",
    "#Here x is the independent variable, y is the dependent variable and theta is the randomly generated numbers\n",
    "\n",
    "def Cost(x,y,theta):\n",
    "    m=len(runtime.axes[0])\n",
    "    the1 = np.matmul(x,theta)\n",
    "    Cost1=sum(np.subtract((the1),y)**2)\n",
    "    Cost=Cost1/(2*m)\n",
    "    return(Cost)  "
   ]
  },
  {
   "cell_type": "code",
   "execution_count": 59,
   "metadata": {},
   "outputs": [],
   "source": [
    "def gradesc_e2(x,y,theta,alpha,total,threshold):\n",
    "    m=len(runtime.axes[0])\n",
    "    xt = x.transpose()\n",
    "    j=[0]*total\n",
    "    finalj=[]\n",
    "    for i in range(total):\n",
    "        x_theta = x@theta\n",
    "        the2 = x_theta - y\n",
    "        the3=xt @ the2\n",
    "        theta = theta - alpha*(1/m)*the3\n",
    "        j[i] = Cost(X_train, y_train,theta)\n",
    "        if i > 1 and (j[i-1][0]-j[i][0])< threshold:\n",
    "            break\n",
    "    finalj=(theta, j, alpha, threshold, i)\n",
    "    return(finalj)"
   ]
  },
  {
   "cell_type": "code",
   "execution_count": 61,
   "metadata": {},
   "outputs": [
    {
     "name": "stdout",
     "output_type": "stream",
     "text": [
      "threshold = 0.01 , alpha = 0.01  and iterations = 58\n",
      "threshold = 0.001 , alpha = 0.01  and iterations = 209\n",
      "threshold = 0.0001 , alpha = 0.01  and iterations = 368\n",
      "threshold = 1e-05 , alpha = 0.01  and iterations = 601\n",
      "threshold = 1e-06 , alpha = 0.01  and iterations = 1002\n"
     ]
    }
   ],
   "source": [
    "thresholds = [10**-i for i in range(2,7)]\n",
    "alphas = [0.01]\n",
    "results_e2 = []\n",
    "thetas_e2 = []\n",
    "x = np.array(X_train)\n",
    "y = np.array(y_train)\n",
    "iterations = 50000\n",
    "for threshold in thresholds:\n",
    "    for alpha in alphas:\n",
    "        theta_e2 = np.random.rand(x.shape[1],1)\n",
    "        results_e2.append(gradesc_e2(X_train,y_train,theta_e2,alpha, iterations, threshold))\n",
    "        print(\"threshold = {} , alpha = {}  and iterations = {}\".format(threshold, alpha, results_e2[len(results_e2) - 1][4]))"
   ]
  },
  {
   "cell_type": "code",
   "execution_count": 65,
   "metadata": {},
   "outputs": [
    {
     "name": "stdout",
     "output_type": "stream",
     "text": [
      "Empty DataFrame\n",
      "Columns: [threshold, alpha, final cost, iterations, const, MWG, NWG, KWG, MDIMC, NDIMC, MDIMA, NDIMB, KWI, VWM, VWN, STRM, STRN, SA, SB]\n",
      "Index: []\n"
     ]
    },
    {
     "data": {
      "text/html": [
       "<div>\n",
       "<style scoped>\n",
       "    .dataframe tbody tr th:only-of-type {\n",
       "        vertical-align: middle;\n",
       "    }\n",
       "\n",
       "    .dataframe tbody tr th {\n",
       "        vertical-align: top;\n",
       "    }\n",
       "\n",
       "    .dataframe thead th {\n",
       "        text-align: right;\n",
       "    }\n",
       "</style>\n",
       "<table border=\"1\" class=\"dataframe\">\n",
       "  <thead>\n",
       "    <tr style=\"text-align: right;\">\n",
       "      <th></th>\n",
       "      <th>threshold</th>\n",
       "      <th>alpha</th>\n",
       "      <th>final cost</th>\n",
       "      <th>iterations</th>\n",
       "      <th>const</th>\n",
       "      <th>MWG</th>\n",
       "      <th>NWG</th>\n",
       "      <th>KWG</th>\n",
       "      <th>MDIMC</th>\n",
       "      <th>NDIMC</th>\n",
       "      <th>MDIMA</th>\n",
       "      <th>NDIMB</th>\n",
       "      <th>KWI</th>\n",
       "      <th>VWM</th>\n",
       "      <th>VWN</th>\n",
       "      <th>STRM</th>\n",
       "      <th>STRN</th>\n",
       "      <th>SA</th>\n",
       "      <th>SB</th>\n",
       "    </tr>\n",
       "  </thead>\n",
       "  <tbody>\n",
       "    <tr>\n",
       "      <td>0</td>\n",
       "      <td>0.010000</td>\n",
       "      <td>0.01</td>\n",
       "      <td>0.0</td>\n",
       "      <td>58.0</td>\n",
       "      <td>0.245837</td>\n",
       "      <td>0.671705</td>\n",
       "      <td>-0.042739</td>\n",
       "      <td>0.475193</td>\n",
       "      <td>0.504475</td>\n",
       "      <td>0.437768</td>\n",
       "      <td>0.000228</td>\n",
       "      <td>0.526177</td>\n",
       "      <td>0.274056</td>\n",
       "      <td>0.106794</td>\n",
       "      <td>0.055984</td>\n",
       "      <td>0.155820</td>\n",
       "      <td>0.428005</td>\n",
       "      <td>0.238298</td>\n",
       "      <td>0.183839</td>\n",
       "    </tr>\n",
       "    <tr>\n",
       "      <td>1</td>\n",
       "      <td>0.001000</td>\n",
       "      <td>0.01</td>\n",
       "      <td>0.0</td>\n",
       "      <td>209.0</td>\n",
       "      <td>0.320110</td>\n",
       "      <td>0.226597</td>\n",
       "      <td>0.184530</td>\n",
       "      <td>-0.241956</td>\n",
       "      <td>-0.199587</td>\n",
       "      <td>0.120524</td>\n",
       "      <td>0.079840</td>\n",
       "      <td>0.053131</td>\n",
       "      <td>0.079510</td>\n",
       "      <td>0.212395</td>\n",
       "      <td>0.185969</td>\n",
       "      <td>0.227751</td>\n",
       "      <td>0.228225</td>\n",
       "      <td>0.168078</td>\n",
       "      <td>0.789740</td>\n",
       "    </tr>\n",
       "    <tr>\n",
       "      <td>2</td>\n",
       "      <td>0.000100</td>\n",
       "      <td>0.01</td>\n",
       "      <td>0.0</td>\n",
       "      <td>368.0</td>\n",
       "      <td>0.329258</td>\n",
       "      <td>0.281787</td>\n",
       "      <td>0.071914</td>\n",
       "      <td>-0.282896</td>\n",
       "      <td>-0.258258</td>\n",
       "      <td>0.051611</td>\n",
       "      <td>0.052798</td>\n",
       "      <td>0.097699</td>\n",
       "      <td>0.069585</td>\n",
       "      <td>0.065616</td>\n",
       "      <td>0.006209</td>\n",
       "      <td>0.016874</td>\n",
       "      <td>0.104029</td>\n",
       "      <td>0.099240</td>\n",
       "      <td>0.246393</td>\n",
       "    </tr>\n",
       "    <tr>\n",
       "      <td>3</td>\n",
       "      <td>0.000010</td>\n",
       "      <td>0.01</td>\n",
       "      <td>0.0</td>\n",
       "      <td>601.0</td>\n",
       "      <td>0.358710</td>\n",
       "      <td>0.314120</td>\n",
       "      <td>0.111645</td>\n",
       "      <td>-0.336398</td>\n",
       "      <td>-0.328230</td>\n",
       "      <td>0.031541</td>\n",
       "      <td>0.051439</td>\n",
       "      <td>0.038610</td>\n",
       "      <td>0.020216</td>\n",
       "      <td>0.029632</td>\n",
       "      <td>0.002363</td>\n",
       "      <td>0.002794</td>\n",
       "      <td>0.055577</td>\n",
       "      <td>0.066437</td>\n",
       "      <td>0.404511</td>\n",
       "    </tr>\n",
       "    <tr>\n",
       "      <td>4</td>\n",
       "      <td>0.000001</td>\n",
       "      <td>0.01</td>\n",
       "      <td>0.0</td>\n",
       "      <td>1002.0</td>\n",
       "      <td>0.382170</td>\n",
       "      <td>0.339966</td>\n",
       "      <td>0.105219</td>\n",
       "      <td>-0.347402</td>\n",
       "      <td>-0.337365</td>\n",
       "      <td>0.020446</td>\n",
       "      <td>0.032917</td>\n",
       "      <td>0.032961</td>\n",
       "      <td>-0.007289</td>\n",
       "      <td>-0.001497</td>\n",
       "      <td>-0.011602</td>\n",
       "      <td>0.000305</td>\n",
       "      <td>0.052402</td>\n",
       "      <td>0.064996</td>\n",
       "      <td>0.830318</td>\n",
       "    </tr>\n",
       "  </tbody>\n",
       "</table>\n",
       "</div>"
      ],
      "text/plain": [
       "   threshold  alpha  final cost  iterations     const       MWG       NWG  \\\n",
       "0   0.010000   0.01         0.0        58.0  0.245837  0.671705 -0.042739   \n",
       "1   0.001000   0.01         0.0       209.0  0.320110  0.226597  0.184530   \n",
       "2   0.000100   0.01         0.0       368.0  0.329258  0.281787  0.071914   \n",
       "3   0.000010   0.01         0.0       601.0  0.358710  0.314120  0.111645   \n",
       "4   0.000001   0.01         0.0      1002.0  0.382170  0.339966  0.105219   \n",
       "\n",
       "        KWG     MDIMC     NDIMC     MDIMA     NDIMB       KWI       VWM  \\\n",
       "0  0.475193  0.504475  0.437768  0.000228  0.526177  0.274056  0.106794   \n",
       "1 -0.241956 -0.199587  0.120524  0.079840  0.053131  0.079510  0.212395   \n",
       "2 -0.282896 -0.258258  0.051611  0.052798  0.097699  0.069585  0.065616   \n",
       "3 -0.336398 -0.328230  0.031541  0.051439  0.038610  0.020216  0.029632   \n",
       "4 -0.347402 -0.337365  0.020446  0.032917  0.032961 -0.007289 -0.001497   \n",
       "\n",
       "        VWN      STRM      STRN        SA        SB  \n",
       "0  0.055984  0.155820  0.428005  0.238298  0.183839  \n",
       "1  0.185969  0.227751  0.228225  0.168078  0.789740  \n",
       "2  0.006209  0.016874  0.104029  0.099240  0.246393  \n",
       "3  0.002363  0.002794  0.055577  0.066437  0.404511  \n",
       "4 -0.011602  0.000305  0.052402  0.064996  0.830318  "
      ]
     },
     "execution_count": 65,
     "metadata": {},
     "output_type": "execute_result"
    }
   ],
   "source": [
    "result_df = pd.DataFrame(columns = ([\"threshold\", \"alpha\", \"final cost\", \"iterations\",'const', 'MWG', 'NWG', 'KWG', 'MDIMC', 'NDIMC', 'MDIMA', 'NDIMB', 'KWI',\n",
    "       'VWM', 'VWN', 'STRM', 'STRN', 'SA', 'SB']))\n",
    "print(result_df)\n",
    "for i in range(0,len(results_e2)):\n",
    "    result_df.loc[i] = [results_e2[i][3], results_e2[i][2], results_e2[i][1][-1], results_e2[i][4]] + [results_e2[i][0][j][0] for j in range(0,15)] \n",
    "result_df.head()"
   ]
  },
  {
   "cell_type": "code",
   "execution_count": 66,
   "metadata": {},
   "outputs": [],
   "source": [
    "def possibilities(x, y, results_df):\n",
    "    x = np.asarray(x)\n",
    "    y = np.asarray(y).T\n",
    "    m_matrix = np.asarray(results_df.iloc[:,4:])\n",
    "    prop = result_df.iloc[:,0:4]\n",
    "    y_hat_all = m_matrix@x.T\n",
    "    err = y-y_hat_all\n",
    "    err_all = (np.sum(err**2, axis = 1)/len(x)).reshape([-1,1])\n",
    "    print(err_all.shape)\n",
    "    final_err_prop = pd.concat([prop, pd.DataFrame(err_all)], axis = 1, ignore_index=True)\n",
    "    final_err_prop.columns = [\"threshold\", \"alpha\", \"final cost\", \"iterations\",\"RMSE\"]\n",
    "    return final_err_prop"
   ]
  },
  {
   "cell_type": "code",
   "execution_count": 69,
   "metadata": {},
   "outputs": [
    {
     "name": "stdout",
     "output_type": "stream",
     "text": [
      "(5, 1)\n",
      "(5, 1)\n"
     ]
    }
   ],
   "source": [
    "final_errors_properties = possibilities(X_train, y_train, result_df)\n",
    "final_errors_properties_test = possibilities(X_test, y_test, result_df)"
   ]
  },
  {
   "cell_type": "code",
   "execution_count": 70,
   "metadata": {},
   "outputs": [],
   "source": [
    "final_errors_properties_filtered = final_errors_properties[final_errors_properties[\"threshold\"] < 0.1]\n",
    "final_errors_properties_filtered_test = final_errors_properties_test[final_errors_properties_test[\"threshold\"] < 0.1]"
   ]
  },
  {
   "cell_type": "code",
   "execution_count": 71,
   "metadata": {},
   "outputs": [
    {
     "data": {
      "image/png": "[encoded data removed]",
      "text/plain": [
       "<Figure size 1008x1296 with 1 Axes>"
      ]
     },
     "metadata": {
      "needs_background": "light"
     },
     "output_type": "display_data"
    }
   ],
   "source": [
    "import pylab\n",
    "\n",
    "fig = plt.figure(figsize = [14,18])\n",
    "j = 1\n",
    "for alpha in alphas:\n",
    "    final_errors_properties_curr = final_errors_properties_filtered[final_errors_properties_filtered[\"alpha\"] == alpha]\n",
    "    final_errors_properties_curr_test = final_errors_properties_filtered_test[final_errors_properties_filtered_test[\"alpha\"] == alpha]\n",
    "    ax = fig.add_subplot(5,2, j)\n",
    "    line, = ax.plot(final_errors_properties_curr['threshold'], final_errors_properties_curr['RMSE'], color='blue')\n",
    "    line2, = ax.plot(final_errors_properties_curr_test['threshold'], final_errors_properties_curr_test['RMSE'], color='red')\n",
    "    j = j + 1\n",
    "    ax.set_xscale('log')\n",
    "    ax.set_xlabel('Threshold')\n",
    "    ax.set_ylabel('RMSE')\n",
    "    ax.set_title('Alpha = {}'.format(alpha))"
   ]
  },
  {
   "cell_type": "markdown",
   "metadata": {},
   "source": [
    "### Logistic Regression"
   ]
  },
  {
   "cell_type": "code",
   "execution_count": 529,
   "metadata": {},
   "outputs": [],
   "source": [
    "#Gradient descent\n",
    "def gradient_descent(X, y, params, alpha, total):\n",
    "    m = len(y)\n",
    "    cost_history = np.zeros((total,1))\n",
    "\n",
    "    for i in range(total):\n",
    "        params = params - (alpha/m) * (X.T @ (sigmoid(X @ params) - y)) \n",
    "        cost_history[i] = compute_cost(X, y, params)\n",
    "        if (abs((cost_history[i-1]-cost_history[i]))<thresh):\n",
    "                print(i,cost_history[i])\n",
    "                break\n",
    "    return (cost_history, params)"
   ]
  },
  {
   "cell_type": "code",
   "execution_count": 274,
   "metadata": {},
   "outputs": [
    {
     "name": "stdout",
     "output_type": "stream",
     "text": [
      "324 [0.6712852]\n"
     ]
    }
   ],
   "source": [
    "thresh = 0.0005\n",
    "m = len(runs)\n",
    "n = np.size(x,1)\n",
    "params = np.random.rand(n,1) #betas\n",
    "total = 5000\n",
    "learning_rate = 0.01\n",
    "\n",
    "initial_cost = compute_cost(X_train_l, y_train_l, params)\n",
    "(cost_history, params_optimal) = gradient_descent(X_train_l, y_train_l, params, learning_rate, total)\n",
    "y_predl = predict(X_test_l, params_optimal)"
   ]
  },
  {
   "cell_type": "code",
   "execution_count": 275,
   "metadata": {},
   "outputs": [
    {
     "data": {
      "text/plain": [
       "[<matplotlib.lines.Line2D at 0x20520179588>]"
      ]
     },
     "execution_count": 275,
     "metadata": {},
     "output_type": "execute_result"
    },
    {
     "data": {
      "image/png": "[encoded data removed]",
      "text/plain": [
       "<Figure size 432x288 with 1 Axes>"
      ]
     },
     "metadata": {
      "needs_background": "light"
     },
     "output_type": "display_data"
    }
   ],
   "source": [
    "plt.plot(cost_history)"
   ]
  },
  {
   "cell_type": "code",
   "execution_count": 283,
   "metadata": {},
   "outputs": [
    {
     "name": "stdout",
     "output_type": "stream",
     "text": [
      "[[19466 16740]\n",
      " [ 9821 26453]]\n"
     ]
    }
   ],
   "source": [
    "confusion_matrix10 = confusion_matrix(y_test_l, y_predl)\n",
    "print(confusion_matrix10)\n",
    "#53.7"
   ]
  },
  {
   "cell_type": "code",
   "execution_count": 285,
   "metadata": {},
   "outputs": [
    {
     "name": "stdout",
     "output_type": "stream",
     "text": [
      "[[45313 39282]\n",
      " [22995 61530]]\n"
     ]
    }
   ],
   "source": [
    "from sklearn.metrics import confusion_matrix\n",
    "y_pred_tr10=predict(X_train,params_optimal)\n",
    "confusion_matrix1 = confusion_matrix(y_train_l, y_pred_tr10)\n",
    "print(confusion_matrix1)\n",
    "53.6"
   ]
  },
  {
   "cell_type": "code",
   "execution_count": 284,
   "metadata": {},
   "outputs": [
    {
     "data": {
      "text/plain": [
       "(169120, 15)"
      ]
     },
     "execution_count": 284,
     "metadata": {},
     "output_type": "execute_result"
    }
   ],
   "source": [
    "X_train.shape"
   ]
  },
  {
   "cell_type": "code",
   "execution_count": 530,
   "metadata": {},
   "outputs": [
    {
     "name": "stdout",
     "output_type": "stream",
     "text": [
      "952 [0.51622871]\n"
     ]
    }
   ],
   "source": [
    "thresh = 0.00009\n",
    "m = len(runs)\n",
    "n = np.size(x,1)\n",
    "params = np.random.rand(n,1) #betas\n",
    "total = 5000\n",
    "learning_rate = 0.01\n",
    "initial_cost = compute_cost(X_train_l, y_train_l, params)\n",
    "(cost_history1, params_optimal1) = gradient_descent(X_train_l, y_train_l, params, learning_rate, total)\n",
    "y_predl1 = predict(X_test_l, params_optimal1)"
   ]
  },
  {
   "cell_type": "code",
   "execution_count": 286,
   "metadata": {},
   "outputs": [
    {
     "data": {
      "text/plain": [
       "[<matplotlib.lines.Line2D at 0x2051eadcec8>]"
      ]
     },
     "execution_count": 286,
     "metadata": {},
     "output_type": "execute_result"
    },
    {
     "data": {
      "image/png": "[encoded data removed]",
      "text/plain": [
       "<Figure size 432x288 with 1 Axes>"
      ]
     },
     "metadata": {
      "needs_background": "light"
     },
     "output_type": "display_data"
    }
   ],
   "source": [
    "plt.plot(cost_history1)"
   ]
  },
  {
   "cell_type": "code",
   "execution_count": 531,
   "metadata": {
    "scrolled": true
   },
   "outputs": [
    {
     "name": "stdout",
     "output_type": "stream",
     "text": [
      "[[29030  7176]\n",
      " [ 7839 28435]]\n"
     ]
    }
   ],
   "source": [
    "confusion_matrix10 = confusion_matrix(y_test_l, y_predl1)\n",
    "print(confusion_matrix10)\n",
    "#80.1"
   ]
  },
  {
   "cell_type": "code",
   "execution_count": 542,
   "metadata": {},
   "outputs": [
    {
     "name": "stdout",
     "output_type": "stream",
     "text": [
      "[[67858 16737]\n",
      " [18287 66238]]\n"
     ]
    }
   ],
   "source": [
    "from sklearn.metrics import confusion_matrix\n",
    "y_pred_tr10=predict(X_train_l,params_optimal1)\n",
    "confusion_matrix1 = confusion_matrix(y_train_l, y_pred_tr10)\n",
    "print(confusion_matrix1)\n",
    "#80.2"
   ]
  },
  {
   "cell_type": "markdown",
   "metadata": {},
   "source": [
    "# ----------------------------------THE END------------------------------------------"
   ]
  }
 ],
 "metadata": {
  "kernelspec": {
   "display_name": "Python 3",
   "language": "python",
   "name": "python3"
  },
  "language_info": {
   "codemirror_mode": {
    "name": "ipython",
    "version": 3
   },
   "file_extension": ".py",
   "mimetype": "text/x-python",
   "name": "python",
   "nbconvert_exporter": "python",
   "pygments_lexer": "ipython3",
   "version": "3.7.4"
  }
 },
 "nbformat": 4,
 "nbformat_minor": 2
}
